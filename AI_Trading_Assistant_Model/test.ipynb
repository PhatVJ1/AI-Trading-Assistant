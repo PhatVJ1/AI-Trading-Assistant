{
 "cells": [
  {
   "cell_type": "code",
   "execution_count": 1,
   "metadata": {},
   "outputs": [],
   "source": [
    "from Channel_Aligned_Robust_Dual_Transformer import CARD"
   ]
  },
  {
   "cell_type": "code",
   "execution_count": 2,
   "metadata": {},
   "outputs": [],
   "source": [
    "model = CARD.Transformer(seq_length=50, output_length=3, channel=2, patch_size=3, strides=1, dff=10, num_heads=8, d_model=128, decay=0.8)"
   ]
  },
  {
   "cell_type": "code",
   "execution_count": 4,
   "metadata": {},
   "outputs": [],
   "source": [
    "import yfinance as yf\n",
    "import numpy as np\n",
    "import pandas as pd\n",
    "import tensorflow as tf\n",
    "from sklearn.preprocessing import MinMaxScaler\n"
   ]
  },
  {
   "cell_type": "code",
   "execution_count": 5,
   "metadata": {},
   "outputs": [
    {
     "name": "stdout",
     "output_type": "stream",
     "text": [
      "[*********************100%%**********************]  1 of 1 completed\n"
     ]
    },
    {
     "data": {
      "text/html": [
       "<div>\n",
       "<style scoped>\n",
       "    .dataframe tbody tr th:only-of-type {\n",
       "        vertical-align: middle;\n",
       "    }\n",
       "\n",
       "    .dataframe tbody tr th {\n",
       "        vertical-align: top;\n",
       "    }\n",
       "\n",
       "    .dataframe thead th {\n",
       "        text-align: right;\n",
       "    }\n",
       "</style>\n",
       "<table border=\"1\" class=\"dataframe\">\n",
       "  <thead>\n",
       "    <tr style=\"text-align: right;\">\n",
       "      <th></th>\n",
       "      <th>Open</th>\n",
       "      <th>High</th>\n",
       "      <th>Low</th>\n",
       "      <th>Close</th>\n",
       "      <th>Adj Close</th>\n",
       "      <th>Volume</th>\n",
       "    </tr>\n",
       "    <tr>\n",
       "      <th>Date</th>\n",
       "      <th></th>\n",
       "      <th></th>\n",
       "      <th></th>\n",
       "      <th></th>\n",
       "      <th></th>\n",
       "      <th></th>\n",
       "    </tr>\n",
       "  </thead>\n",
       "  <tbody>\n",
       "    <tr>\n",
       "      <th>2018-11-01</th>\n",
       "      <td>151.520004</td>\n",
       "      <td>152.750000</td>\n",
       "      <td>149.350006</td>\n",
       "      <td>151.750000</td>\n",
       "      <td>151.750000</td>\n",
       "      <td>25640800</td>\n",
       "    </tr>\n",
       "    <tr>\n",
       "      <th>2018-11-02</th>\n",
       "      <td>151.800003</td>\n",
       "      <td>154.130005</td>\n",
       "      <td>148.960007</td>\n",
       "      <td>150.350006</td>\n",
       "      <td>150.350006</td>\n",
       "      <td>24708700</td>\n",
       "    </tr>\n",
       "    <tr>\n",
       "      <th>2018-11-05</th>\n",
       "      <td>150.100006</td>\n",
       "      <td>150.190002</td>\n",
       "      <td>147.440002</td>\n",
       "      <td>148.679993</td>\n",
       "      <td>148.679993</td>\n",
       "      <td>15971200</td>\n",
       "    </tr>\n",
       "    <tr>\n",
       "      <th>2018-11-06</th>\n",
       "      <td>149.309998</td>\n",
       "      <td>150.970001</td>\n",
       "      <td>148.000000</td>\n",
       "      <td>149.940002</td>\n",
       "      <td>149.940002</td>\n",
       "      <td>16667100</td>\n",
       "    </tr>\n",
       "    <tr>\n",
       "      <th>2018-11-07</th>\n",
       "      <td>151.570007</td>\n",
       "      <td>153.009995</td>\n",
       "      <td>149.830002</td>\n",
       "      <td>151.529999</td>\n",
       "      <td>151.529999</td>\n",
       "      <td>21877400</td>\n",
       "    </tr>\n",
       "    <tr>\n",
       "      <th>...</th>\n",
       "      <td>...</td>\n",
       "      <td>...</td>\n",
       "      <td>...</td>\n",
       "      <td>...</td>\n",
       "      <td>...</td>\n",
       "      <td>...</td>\n",
       "    </tr>\n",
       "    <tr>\n",
       "      <th>2023-09-25</th>\n",
       "      <td>295.640015</td>\n",
       "      <td>300.950012</td>\n",
       "      <td>293.700012</td>\n",
       "      <td>300.829987</td>\n",
       "      <td>300.829987</td>\n",
       "      <td>18987000</td>\n",
       "    </tr>\n",
       "    <tr>\n",
       "      <th>2023-09-26</th>\n",
       "      <td>297.660004</td>\n",
       "      <td>300.299988</td>\n",
       "      <td>296.010010</td>\n",
       "      <td>298.959991</td>\n",
       "      <td>298.959991</td>\n",
       "      <td>19417200</td>\n",
       "    </tr>\n",
       "    <tr>\n",
       "      <th>2023-09-27</th>\n",
       "      <td>300.450012</td>\n",
       "      <td>301.299988</td>\n",
       "      <td>286.790009</td>\n",
       "      <td>297.739990</td>\n",
       "      <td>297.739990</td>\n",
       "      <td>36429800</td>\n",
       "    </tr>\n",
       "    <tr>\n",
       "      <th>2023-09-28</th>\n",
       "      <td>298.940002</td>\n",
       "      <td>306.329987</td>\n",
       "      <td>296.700012</td>\n",
       "      <td>303.959991</td>\n",
       "      <td>303.959991</td>\n",
       "      <td>22167100</td>\n",
       "    </tr>\n",
       "    <tr>\n",
       "      <th>2023-09-29</th>\n",
       "      <td>307.380005</td>\n",
       "      <td>310.640015</td>\n",
       "      <td>299.359985</td>\n",
       "      <td>300.209991</td>\n",
       "      <td>300.209991</td>\n",
       "      <td>25356600</td>\n",
       "    </tr>\n",
       "  </tbody>\n",
       "</table>\n",
       "<p>1235 rows × 6 columns</p>\n",
       "</div>"
      ],
      "text/plain": [
       "                  Open        High         Low       Close   Adj Close  \\\n",
       "Date                                                                     \n",
       "2018-11-01  151.520004  152.750000  149.350006  151.750000  151.750000   \n",
       "2018-11-02  151.800003  154.130005  148.960007  150.350006  150.350006   \n",
       "2018-11-05  150.100006  150.190002  147.440002  148.679993  148.679993   \n",
       "2018-11-06  149.309998  150.970001  148.000000  149.940002  149.940002   \n",
       "2018-11-07  151.570007  153.009995  149.830002  151.529999  151.529999   \n",
       "...                ...         ...         ...         ...         ...   \n",
       "2023-09-25  295.640015  300.950012  293.700012  300.829987  300.829987   \n",
       "2023-09-26  297.660004  300.299988  296.010010  298.959991  298.959991   \n",
       "2023-09-27  300.450012  301.299988  286.790009  297.739990  297.739990   \n",
       "2023-09-28  298.940002  306.329987  296.700012  303.959991  303.959991   \n",
       "2023-09-29  307.380005  310.640015  299.359985  300.209991  300.209991   \n",
       "\n",
       "              Volume  \n",
       "Date                  \n",
       "2018-11-01  25640800  \n",
       "2018-11-02  24708700  \n",
       "2018-11-05  15971200  \n",
       "2018-11-06  16667100  \n",
       "2018-11-07  21877400  \n",
       "...              ...  \n",
       "2023-09-25  18987000  \n",
       "2023-09-26  19417200  \n",
       "2023-09-27  36429800  \n",
       "2023-09-28  22167100  \n",
       "2023-09-29  25356600  \n",
       "\n",
       "[1235 rows x 6 columns]"
      ]
     },
     "execution_count": 5,
     "metadata": {},
     "output_type": "execute_result"
    }
   ],
   "source": [
    "df = yf.download(\"Meta\", start=\"2018-11-01\", end=\"2023-10-1\", interval=\"1d\")\n",
    "df"
   ]
  },
  {
   "cell_type": "code",
   "execution_count": 12,
   "metadata": {},
   "outputs": [],
   "source": [
    "def data_generator(data, seq_train, seq_label):\n",
    "    data = data[['Open', 'Close']]\n",
    "    data_ai = np.empty((len(data), 0, 2))\n",
    "    for i in range(seq_train + seq_label - 1, -1, -1):\n",
    "        data_ai = np.append(data_ai, np.array(data.shift(i))[np.newaxis,:,:].transpose((1, 0, 2)), axis=1)\n",
    "\n",
    "    data_ai = data_ai[seq_train + seq_label - 1:]\n",
    "\n",
    "    return data_ai[:, :seq_train, :], tf.transpose(data_ai[:, -seq_label:, :], perm = (0, 2, 1))"
   ]
  },
  {
   "cell_type": "code",
   "execution_count": 7,
   "metadata": {},
   "outputs": [],
   "source": [
    "def inv_scale(x, min_max):\n",
    "    return x * (min_max[1] - min_max[0]) + min_max[0]"
   ]
  },
  {
   "cell_type": "code",
   "execution_count": 14,
   "metadata": {},
   "outputs": [],
   "source": [
    "train, label = data_generator(df, 50, 3)"
   ]
  },
  {
   "cell_type": "code",
   "execution_count": 12,
   "metadata": {},
   "outputs": [
    {
     "data": {
      "text/plain": [
       "95.68454040832519"
      ]
     },
     "execution_count": 12,
     "metadata": {},
     "output_type": "execute_result"
    }
   ],
   "source": [
    "0.0231 * (closeiv[1] - closeiv[0]) + closeiv[0]"
   ]
  },
  {
   "cell_type": "code",
   "execution_count": 15,
   "metadata": {},
   "outputs": [
    {
     "data": {
      "text/plain": [
       "382.17999267578125"
      ]
     },
     "execution_count": 15,
     "metadata": {},
     "output_type": "execute_result"
    }
   ],
   "source": [
    "closeiv[1]"
   ]
  },
  {
   "cell_type": "code",
   "execution_count": 150,
   "metadata": {},
   "outputs": [
    {
     "data": {
      "text/plain": [
       "tuple"
      ]
     },
     "execution_count": 150,
     "metadata": {},
     "output_type": "execute_result"
    }
   ],
   "source": [
    "type(openiv)"
   ]
  },
  {
   "cell_type": "code",
   "execution_count": 6,
   "metadata": {},
   "outputs": [],
   "source": [
    "test_train = np.concatenate([np.array(df)[-50:][None, :, :], np.array(df)[-51:-1][None, :, :]], axis=0)\n",
    "test_label = np.concatenate([np.array(df)[-3:][None, :, :], np.array(df)[-4:-1][None, :, :]], axis=0)"
   ]
  },
  {
   "cell_type": "code",
   "execution_count": 7,
   "metadata": {},
   "outputs": [
    {
     "data": {
      "text/plain": [
       "<keras.src.layers.reshaping.flatten.Flatten at 0x27c7ca70250>"
      ]
     },
     "execution_count": 7,
     "metadata": {},
     "output_type": "execute_result"
    }
   ],
   "source": [
    "tf.flo"
   ]
  },
  {
   "cell_type": "code",
   "execution_count": 8,
   "metadata": {},
   "outputs": [],
   "source": [
    "test_label = test_label.transpose((0, 2, 1))"
   ]
  },
  {
   "cell_type": "code",
   "execution_count": 68,
   "metadata": {},
   "outputs": [],
   "source": [
    "class PositionEmbedding(tf.keras.layers.Layer):\n",
    "    def __init__(self,*, seq_length, d_model, patch_size, strides, dff):\n",
    "        super().__init__()\n",
    "        self.seq_length = seq_length\n",
    "        self.d_model = d_model\n",
    "        self.patch_size = patch_size\n",
    "        self.strides = strides\n",
    "        self.num_patch = (seq_length - patch_size) // strides + 1\n",
    "        self.MLP_P2D = tf.keras.Sequential([\n",
    "            tf.keras.layers.Dense(dff, activation=\"relu\"),\n",
    "            tf.keras.layers.Dense(d_model, activation=\"linear\")\n",
    "        ])\n",
    "        self.MLP_Pos = tf.keras.Sequential([\n",
    "            tf.keras.layers.Dense(d_model, activation=\"tanh\"),\n",
    "            tf.keras.layers.Dense(dff, activation=\"relu\"),\n",
    "            tf.keras.layers.Dense(d_model, activation=\"linear\")\n",
    "        ])\n",
    "        \n",
    "    def build(self, input_shape):\n",
    "        self.position = self.add_weight(name=\"position\", shape=(input_shape[-1], self.num_patch),   \n",
    "                                 initializer=tf.initializers.Constant(tf.stack([tf.range(1., self.num_patch + 1)] * input_shape[-1])),\n",
    "                                 trainable=False)\n",
    "\n",
    "    def call(self, x):\n",
    "        patches = tf.expand_dims(x[:, 0:self.patch_size, :], axis=0)\n",
    "        for i in range(1, self.num_patch):\n",
    "            patches = tf.concat([patches, tf.expand_dims(x[:, i * self.strides : i * self.strides + self.patch_size ,:], axis=0)], axis=0)\n",
    "        x = tf.transpose(patches, perm = (1, 3, 0, 2))\n",
    "        x = self.MLP_P2D(x)\n",
    "        position_embedding = self.MLP_Pos(self.position[:,:,tf.newaxis])      \n",
    "        x = tf.add(x, position_embedding)\n",
    "        return x"
   ]
  },
  {
   "cell_type": "code",
   "execution_count": 69,
   "metadata": {},
   "outputs": [],
   "source": [
    "class ClsCompute(tf.keras.layers.Layer):\n",
    "    def __init__(self,*, d_model):\n",
    "        super().__init__()\n",
    "        self.cls_compute = tf.keras.layers.Conv1D(filters=d_model, kernel_size=1, padding=\"same\", strides=1, activation=\"sigmoid\")\n",
    "\n",
    "    def call(self, x):\n",
    "        x = tf.reshape(x, [-1 , x.shape[-3], x.shape[-2] * x.shape[-1]])\n",
    "        x = self.cls_compute(x)\n",
    "        return x"
   ]
  },
  {
   "cell_type": "code",
   "execution_count": 70,
   "metadata": {},
   "outputs": [],
   "source": [
    "class Tokenize(tf.keras.layers.Layer):\n",
    "    def __init__(self,*, seq_length, d_model, patch_size, strides, dff):\n",
    "        super().__init__()\n",
    "        self.pos_emb = PositionEmbedding(seq_length=seq_length, d_model=d_model, patch_size=patch_size, strides=strides, dff=dff)\n",
    "        self.cls_tokenize = ClsCompute(d_model=d_model)\n",
    "\n",
    "    def call(self, x):\n",
    "        x = self.pos_emb(x)\n",
    "        cls = tf.expand_dims(self.cls_tokenize(x), axis=2)\n",
    "        return tf.concat([cls, x], axis=2)"
   ]
  },
  {
   "cell_type": "code",
   "execution_count": 71,
   "metadata": {},
   "outputs": [],
   "source": [
    "tokenize = Tokenize(seq_length=50, d_model=128, patch_size=3, strides=1, dff=2048)"
   ]
  },
  {
   "cell_type": "code",
   "execution_count": 72,
   "metadata": {},
   "outputs": [],
   "source": [
    "tokennized = tokenize(train)"
   ]
  },
  {
   "cell_type": "code",
   "execution_count": 74,
   "metadata": {},
   "outputs": [
    {
     "data": {
      "text/plain": [
       "<tf.Tensor: shape=(1183, 2, 49, 128), dtype=float32, numpy=\n",
       "array([[[[ 2.42205238e-06,  9.99593198e-01,  1.93191823e-04, ...,\n",
       "           3.67083703e-06,  2.06013233e-03,  8.68932664e-01],\n",
       "         [-1.37558818e+00, -8.92580414e+00, -3.51007247e+00, ...,\n",
       "          -1.17793446e+01,  3.13579869e+00,  1.09543819e+01],\n",
       "         [-1.37309444e+00, -8.88222885e+00, -3.50688434e+00, ...,\n",
       "          -1.17190809e+01,  3.09863329e+00,  1.09633141e+01],\n",
       "         ...,\n",
       "         [-1.28294122e+00, -8.56576443e+00, -3.13977623e+00, ...,\n",
       "          -1.13532486e+01,  3.07437539e+00,  1.05064907e+01],\n",
       "         [-1.28237367e+00, -8.54086018e+00, -3.14997506e+00, ...,\n",
       "          -1.13485842e+01,  3.06245446e+00,  1.04656610e+01],\n",
       "         [-1.30902982e+00, -8.61268902e+00, -3.13799596e+00, ...,\n",
       "          -1.13396349e+01,  3.08034229e+00,  1.06085339e+01]],\n",
       "\n",
       "        [[ 3.04137325e-06,  9.99636412e-01,  2.00205046e-04, ...,\n",
       "           5.43732858e-06,  1.76370481e-03,  8.40777516e-01],\n",
       "         [-1.39211309e+00, -8.86254978e+00, -3.52321792e+00, ...,\n",
       "          -1.17142315e+01,  3.09459949e+00,  1.08969545e+01],\n",
       "         [-1.36651146e+00, -8.84864044e+00, -3.46435475e+00, ...,\n",
       "          -1.16288967e+01,  3.08994794e+00,  1.09366674e+01],\n",
       "         ...,\n",
       "         [-1.29505754e+00, -8.62227726e+00, -3.17237973e+00, ...,\n",
       "          -1.14395094e+01,  3.09289932e+00,  1.05739946e+01],\n",
       "         [-1.30530560e+00, -8.65182209e+00, -3.16727638e+00, ...,\n",
       "          -1.14396782e+01,  3.10022664e+00,  1.06290379e+01],\n",
       "         [-1.28180194e+00, -8.77046394e+00, -3.14467216e+00, ...,\n",
       "          -1.15202265e+01,  3.15850735e+00,  1.07651386e+01]]],\n",
       "\n",
       "\n",
       "       [[[ 3.13058445e-06,  9.99611914e-01,  2.03756979e-04, ...,\n",
       "           6.86342901e-06,  1.48465310e-03,  8.36507678e-01],\n",
       "         [-1.39772701e+00, -8.87286377e+00, -3.52103043e+00, ...,\n",
       "          -1.17121716e+01,  3.09862900e+00,  1.09202604e+01],\n",
       "         [-1.35952592e+00, -8.89748001e+00, -3.45294809e+00, ...,\n",
       "          -1.16611462e+01,  3.11835790e+00,  1.09964523e+01],\n",
       "         ...,\n",
       "         [-1.28110731e+00, -8.54004383e+00, -3.14989924e+00, ...,\n",
       "          -1.13469477e+01,  3.06233883e+00,  1.04670105e+01],\n",
       "         [-1.30780685e+00, -8.61187077e+00, -3.13794136e+00, ...,\n",
       "          -1.13380232e+01,  3.08027816e+00,  1.06098690e+01],\n",
       "         [-1.23641586e+00, -8.76948261e+00, -3.09397960e+00, ...,\n",
       "          -1.14857588e+01,  3.17020559e+00,  1.07353954e+01]],\n",
       "\n",
       "        [[ 3.20229401e-06,  9.99295056e-01,  2.28099190e-04, ...,\n",
       "           7.97694611e-06,  1.88214122e-03,  8.83472502e-01],\n",
       "         [-1.39114404e+00, -8.83927536e+00, -3.47850084e+00, ...,\n",
       "          -1.16219873e+01,  3.08994365e+00,  1.08936138e+01],\n",
       "         [-1.32365298e+00, -8.89391041e+00, -3.40885282e+00, ...,\n",
       "          -1.16488419e+01,  3.13497639e+00,  1.09603605e+01],\n",
       "         ...,\n",
       "         [-1.30403924e+00, -8.65100574e+00, -3.16720057e+00, ...,\n",
       "          -1.14380417e+01,  3.10011101e+00,  1.06303873e+01],\n",
       "         [-1.28057897e+00, -8.76964569e+00, -3.14461756e+00, ...,\n",
       "          -1.15186148e+01,  3.15844321e+00,  1.07664738e+01],\n",
       "         [-1.27730489e+00, -8.83725643e+00, -3.18408847e+00, ...,\n",
       "          -1.17007208e+01,  3.19633317e+00,  1.07738218e+01]]],\n",
       "\n",
       "\n",
       "       [[[ 3.37173901e-06,  9.99191642e-01,  2.28666642e-04, ...,\n",
       "           9.52572191e-06,  2.08346942e-03,  8.82246256e-01],\n",
       "         [-1.38415849e+00, -8.88811493e+00, -3.46709418e+00, ...,\n",
       "          -1.16542368e+01,  3.11835361e+00,  1.09533987e+01],\n",
       "         [-1.31569731e+00, -8.91310406e+00, -3.42888761e+00, ...,\n",
       "          -1.17197237e+01,  3.14865589e+00,  1.09474058e+01],\n",
       "         ...,\n",
       "         [-1.30654049e+00, -8.61105442e+00, -3.13786554e+00, ...,\n",
       "          -1.13363867e+01,  3.08016253e+00,  1.06112185e+01],\n",
       "         [-1.23519301e+00, -8.76866436e+00, -3.09392500e+00, ...,\n",
       "          -1.14841471e+01,  3.17014146e+00,  1.07367306e+01],\n",
       "         [-1.28662825e+00, -8.83155251e+00, -3.20637727e+00, ...,\n",
       "          -1.17132597e+01,  3.18740177e+00,  1.07687492e+01]],\n",
       "\n",
       "        [[ 2.44652051e-06,  9.99371171e-01,  1.44176112e-04, ...,\n",
       "           9.38669291e-06,  2.30865483e-03,  9.04672086e-01],\n",
       "         [-1.34828556e+00, -8.88454533e+00, -3.42299891e+00, ...,\n",
       "          -1.16419325e+01,  3.13497210e+00,  1.09173069e+01],\n",
       "         [-1.32069910e+00, -8.85525990e+00, -3.46273923e+00, ...,\n",
       "          -1.17049999e+01,  3.11124158e+00,  1.08642702e+01],\n",
       "         ...,\n",
       "         [-1.27931261e+00, -8.76882935e+00, -3.14454174e+00, ...,\n",
       "          -1.15169783e+01,  3.15832758e+00,  1.07678232e+01],\n",
       "         [-1.27608192e+00, -8.83643818e+00, -3.18403387e+00, ...,\n",
       "          -1.16991091e+01,  3.19626904e+00,  1.07751570e+01],\n",
       "         [-1.35721397e+00, -8.86678505e+00, -3.28448749e+00, ...,\n",
       "          -1.17525949e+01,  3.16417694e+00,  1.08938046e+01]]],\n",
       "\n",
       "\n",
       "       ...,\n",
       "\n",
       "\n",
       "       [[[ 9.18490457e-12,  9.99999940e-01,  9.74024972e-10, ...,\n",
       "           6.82978283e-12,  1.06923690e-05,  9.93458271e-01],\n",
       "         [-2.92285538e+00, -1.83016205e+01, -7.23143291e+00, ...,\n",
       "          -2.40624390e+01,  6.39363289e+00,  2.25327339e+01],\n",
       "         [-2.78312945e+00, -1.83843517e+01, -7.08082724e+00, ...,\n",
       "          -2.41078682e+01,  6.49334621e+00,  2.25656452e+01],\n",
       "         ...,\n",
       "         [-2.69449973e+00, -1.79853401e+01, -6.71086359e+00, ...,\n",
       "          -2.36518955e+01,  6.42819071e+00,  2.20155926e+01],\n",
       "         [-2.72420645e+00, -1.78677883e+01, -6.88302040e+00, ...,\n",
       "          -2.37684689e+01,  6.33599424e+00,  2.17894135e+01],\n",
       "         [-2.87401390e+00, -1.77810993e+01, -6.94384098e+00, ...,\n",
       "          -2.35142879e+01,  6.20857763e+00,  2.19352341e+01]],\n",
       "\n",
       "        [[ 1.37177951e-11,  9.99999940e-01,  1.29707289e-09, ...,\n",
       "           7.86022202e-12,  1.03290758e-05,  9.89781976e-01],\n",
       "         [-2.83475924e+00, -1.83629990e+01, -7.13776302e+00, ...,\n",
       "          -2.41188869e+01,  6.47448540e+00,  2.25219078e+01],\n",
       "         [-2.83592963e+00, -1.85198631e+01, -7.16015863e+00, ...,\n",
       "          -2.42679005e+01,  6.52589941e+00,  2.27722282e+01],\n",
       "         ...,\n",
       "         [-2.73221016e+00, -1.79644356e+01, -6.86156797e+00, ...,\n",
       "          -2.38164902e+01,  6.38710356e+00,  2.19466953e+01],\n",
       "         [-2.82435179e+00, -1.77817383e+01, -6.95217180e+00, ...,\n",
       "          -2.36407852e+01,  6.23996925e+00,  2.18308182e+01],\n",
       "         [-2.79025054e+00, -1.77107086e+01, -6.78676891e+00, ...,\n",
       "          -2.33671856e+01,  6.25103188e+00,  2.17791176e+01]]],\n",
       "\n",
       "\n",
       "       [[[ 1.23270569e-11,  1.00000000e+00,  1.03624709e-09, ...,\n",
       "           5.09497869e-12,  8.52527955e-06,  9.92743134e-01],\n",
       "         [-2.80776215e+00, -1.83749866e+01, -7.09497356e+00, ...,\n",
       "          -2.41009598e+01,  6.49334192e+00,  2.25225906e+01],\n",
       "         [-2.82187796e+00, -1.84863377e+01, -7.17117929e+00, ...,\n",
       "          -2.42919750e+01,  6.51808929e+00,  2.26914330e+01],\n",
       "         ...,\n",
       "         [-2.72293997e+00, -1.78669739e+01, -6.88294458e+00, ...,\n",
       "          -2.37668324e+01,  6.33587837e+00,  2.17907619e+01],\n",
       "         [-2.87279105e+00, -1.77802792e+01, -6.94378662e+00, ...,\n",
       "          -2.35126762e+01,  6.20851374e+00,  2.19365692e+01],\n",
       "         [-2.66674590e+00, -1.76554031e+01, -6.68580055e+00, ...,\n",
       "          -2.33606911e+01,  6.29503870e+00,  2.15625839e+01]],\n",
       "\n",
       "        [[ 9.75567196e-12,  1.00000000e+00,  2.00216355e-09, ...,\n",
       "           3.13012485e-12,  1.08024051e-05,  9.87902880e-01],\n",
       "         [-2.86056232e+00, -1.85104980e+01, -7.17430496e+00, ...,\n",
       "          -2.42609921e+01,  6.52589512e+00,  2.27291737e+01],\n",
       "         [-2.79134011e+00, -1.82968407e+01, -7.26456976e+00, ...,\n",
       "          -2.43140945e+01,  6.41315031e+00,  2.23147850e+01],\n",
       "         ...,\n",
       "         [-2.82308531e+00, -1.77809238e+01, -6.95209599e+00, ...,\n",
       "          -2.36391487e+01,  6.23985338e+00,  2.18321667e+01],\n",
       "         [-2.78902769e+00, -1.77098885e+01, -6.78671455e+00, ...,\n",
       "          -2.33655739e+01,  6.25096798e+00,  2.17804527e+01],\n",
       "         [-2.67987537e+00, -1.77789211e+01, -6.65983295e+00, ...,\n",
       "          -2.34110756e+01,  6.34520721e+00,  2.17623405e+01]]],\n",
       "\n",
       "\n",
       "       [[[ 5.41698067e-12,  1.00000000e+00,  1.27501421e-09, ...,\n",
       "           3.93116616e-12,  1.14928007e-05,  9.90792990e-01],\n",
       "         [-2.84651065e+00, -1.84769726e+01, -7.18532562e+00, ...,\n",
       "          -2.42850666e+01,  6.51808500e+00,  2.26483784e+01],\n",
       "         [-2.83215547e+00, -1.83020878e+01, -7.28530502e+00, ...,\n",
       "          -2.42700424e+01,  6.40518808e+00,  2.24101105e+01],\n",
       "         ...,\n",
       "         [-2.87152457e+00, -1.77794647e+01, -6.94371080e+00, ...,\n",
       "          -2.35110397e+01,  6.20839787e+00,  2.19379177e+01],\n",
       "         [-2.66552305e+00, -1.76545830e+01, -6.68574619e+00, ...,\n",
       "          -2.33590794e+01,  6.29497480e+00,  2.15639191e+01],\n",
       "         [-2.78034472e+00, -1.76702061e+01, -6.78076077e+00, ...,\n",
       "          -2.33397274e+01,  6.23889112e+00,  2.17147408e+01]],\n",
       "\n",
       "        [[ 6.08420519e-12,  1.00000000e+00,  2.22976104e-09, ...,\n",
       "           2.57878094e-12,  1.11210575e-05,  9.91359890e-01],\n",
       "         [-2.81597281e+00, -1.82874756e+01, -7.27871609e+00, ...,\n",
       "          -2.43071861e+01,  6.41314602e+00,  2.22717304e+01],\n",
       "         [-2.99903560e+00, -1.78416996e+01, -7.39510059e+00, ...,\n",
       "          -2.37786598e+01,  6.03211212e+00,  2.20355110e+01],\n",
       "         ...,\n",
       "         [-2.78776121e+00, -1.77090740e+01, -6.78663874e+00, ...,\n",
       "          -2.33639374e+01,  6.25085211e+00,  2.17818012e+01],\n",
       "         [-2.67865252e+00, -1.77781010e+01, -6.65977859e+00, ...,\n",
       "          -2.34094639e+01,  6.34514332e+00,  2.17636757e+01],\n",
       "         [-2.71687675e+00, -1.78128757e+01, -6.76379967e+00, ...,\n",
       "          -2.35534668e+01,  6.34076548e+00,  2.17952919e+01]]]],\n",
       "      dtype=float32)>"
      ]
     },
     "execution_count": 74,
     "metadata": {},
     "output_type": "execute_result"
    }
   ],
   "source": [
    "tokennized"
   ]
  },
  {
   "cell_type": "code",
   "execution_count": 49,
   "metadata": {},
   "outputs": [],
   "source": [
    "import collections\n",
    "import math\n",
    "import string\n",
    "\n",
    "import numpy as np\n",
    "import tensorflow.compat.v2 as tf\n",
    "\n",
    "from keras.src import constraints\n",
    "from keras.src import initializers\n",
    "from keras.src import regularizers\n",
    "from keras.src.engine.base_layer import Layer\n",
    "from keras.src.layers import activation\n",
    "from keras.src.layers import core\n",
    "from keras.src.layers import regularization\n",
    "from keras.src.utils import tf_utils\n",
    "\n",
    "# isort: off\n",
    "from tensorflow.python.platform import tf_logging as logging\n",
    "from tensorflow.python.util.tf_export import keras_export\n",
    "import tensorflow as tf\n",
    "from keras import backend as K"
   ]
  },
  {
   "cell_type": "code",
   "execution_count": 50,
   "metadata": {},
   "outputs": [],
   "source": [
    "import tensorflow as tf\n",
    "\n",
    "class EMA_Layer(tf.keras.layers.Layer):\n",
    "    def __init__(self, alpha=0.1, **kwargs):\n",
    "        super(EMA_Layer, self).__init__(**kwargs)\n",
    "        self.alpha = alpha\n",
    "\n",
    "    def call(self, x):\n",
    "        split = tf.split(x, x.shape[-2], axis=-2)\n",
    "        ema_tensor = split[0]\n",
    "        for i in range(1, x.shape[-2]):\n",
    "            ema_tensor = tf.concat([ema_tensor, split[i] * self.alpha + ema_tensor[... , -1:, :] * (1 - self.alpha)], axis=-2) \n",
    "        \n",
    "        return ema_tensor\n"
   ]
  },
  {
   "cell_type": "code",
   "execution_count": 51,
   "metadata": {},
   "outputs": [],
   "source": [
    "import tensorflow as tf\n",
    "\n",
    "class CustomSoftmax(tf.keras.layers.Layer):\n",
    "    def __init__(self, axis=[-2, -1], **kwargs):\n",
    "        super(CustomSoftmax, self).__init__(**kwargs)\n",
    "        self.axis = axis\n",
    "\n",
    "    def call(self, x):\n",
    "        e = tf.exp(x)\n",
    "        sum = tf.expand_dims(tf.expand_dims(tf.reduce_sum(e, axis=self.axis), axis=-1), axis=-1)\n",
    "        return e / sum\n"
   ]
  },
  {
   "cell_type": "code",
   "execution_count": 52,
   "metadata": {},
   "outputs": [],
   "source": [
    "class DualAttentionoverTokens(tf.keras.layers.MultiHeadAttention):\n",
    "    def __init__(self, num_heads: int, key_dim: int, num_patch: int, decay: int, **kwargs):\n",
    "        super().__init__(num_heads, key_dim, **kwargs)\n",
    "        self.num_patch = num_patch\n",
    "        self._MLP_query = tf.keras.Sequential([\n",
    "            tf.keras.layers.Dense(num_patch * num_heads, activation=\"gelu\"),\n",
    "            tf.keras.layers.Dense(key_dim, activation=\"linear\")\n",
    "        ])\n",
    "        self._MLP_key = tf.keras.Sequential([\n",
    "            tf.keras.layers.Dense(num_patch * num_heads, activation=\"gelu\"),\n",
    "            tf.keras.layers.Dense(key_dim, activation=\"linear\")\n",
    "        ])\n",
    "        self._MLP_value = tf.keras.Sequential([\n",
    "            tf.keras.layers.Dense(num_patch * num_heads, activation=\"gelu\"),\n",
    "            tf.keras.layers.Dense(key_dim, activation=\"linear\")\n",
    "        ])\n",
    "        self.EMA = EMA_Layer(alpha=decay)\n",
    "        self.softmax = CustomSoftmax()\n",
    "        self._MLP_projection = tf.keras.Sequential([\n",
    "            tf.keras.layers.Dense(num_patch * num_heads, activation=\"linear\"),\n",
    "            tf.keras.layers.Dense(key_dim, activation=\"gelu\"),\n",
    "            tf.keras.layers.Dense(num_patch * num_heads, activation=\"linear\"),\n",
    "            tf.keras.layers.Dense(key_dim, activation=\"linear\")\n",
    "        ])\n",
    "        self._MLP_projection1 = tf.keras.Sequential([\n",
    "            tf.keras.layers.Dense(num_patch * num_heads, activation=\"linear\"),\n",
    "            tf.keras.layers.Dense(key_dim, activation=\"gelu\"),\n",
    "            tf.keras.layers.Dense(num_patch * num_heads, activation=\"linear\"),\n",
    "            tf.keras.layers.Dense(key_dim, activation=\"linear\")\n",
    "        ])\n",
    "        self.add_norm = tf.keras.Sequential([\n",
    "            tf.keras.layers.Add(),\n",
    "            tf.keras.layers.LayerNormalization()\n",
    "        ])\n",
    "\n",
    "    def _build_from_signature(self, query, value, key=None):\n",
    "        self._built_from_signature = True\n",
    "        if hasattr(query, \"shape\"):\n",
    "            self._query_shape = tf.TensorShape(query.shape)\n",
    "        else:\n",
    "            self._query_shape = tf.TensorShape(query)\n",
    "\n",
    "        # Any setup work performed only once should happen in an `init_scope`\n",
    "        # to avoid creating symbolic Tensors that will later pollute any eager\n",
    "        # operations.\n",
    "        with tf_utils.maybe_init_scope(self):\n",
    "            free_dims = self._query_shape.rank - 1\n",
    "            self._query_dense = core.EinsumDense(\n",
    "                \"abcd,befgh->aefgh\",\n",
    "                output_shape= [self._num_heads, self._query_shape[1], self.num_patch, self._key_dim],\n",
    "                bias_axes=\"efgh\",\n",
    "                name=\"query\",\n",
    "                **self._get_common_kwargs_for_sublayer(),\n",
    "            )\n",
    "            self._key_dense = core.EinsumDense(\n",
    "                \"abcd,befgh->aefgh\",\n",
    "                output_shape= [self._num_heads, self._query_shape[1], self.num_patch, self._key_dim],\n",
    "                bias_axes=\"efgh\",\n",
    "                name=\"key\",\n",
    "                **self._get_common_kwargs_for_sublayer(),\n",
    "            )\n",
    "            self._value_dense = core.EinsumDense(\n",
    "                \"abcd,befgh->aefgh\",\n",
    "                output_shape= [self._num_heads, self._query_shape[1], self.num_patch, self._key_dim],\n",
    "                bias_axes=\"efgh\",\n",
    "                name=\"value\",\n",
    "                **self._get_common_kwargs_for_sublayer(),\n",
    "            )\n",
    "\n",
    "            # Builds the attention computations for multi-head dot product\n",
    "            # attention.  These computations could be wrapped into the keras\n",
    "            # attention layer once it supports mult-head einsum computations.\n",
    "            self._build_attention(6)\n",
    "            self._output_dense = self._make_output_dense(\n",
    "                self._get_common_kwargs_for_sublayer(),\n",
    "                \"attention_output\",\n",
    "            )\n",
    "    #(5, 8, 3, 49, 128)\n",
    "    def _make_output_dense(self, common_kwargs, name=None):\n",
    "        return core.EinsumDense(\n",
    "            \"bhctd,hd->bctd\", \n",
    "            output_shape=[None] + self._query_shape[2:], \n",
    "            bias_axes='d',\n",
    "            name=name,\n",
    "            **common_kwargs,\n",
    "        )\n",
    "\n",
    "    def _compute_attention(\n",
    "        self, query, key, value, attention_mask=None, training=None\n",
    "    ):\n",
    "        attention_scores1 = tf.einsum(\"...CNK,...CNO->...CKO\", query, key) / tf.sqrt(tf.cast(self.num_patch, tf.float32))\n",
    "        attention_scores1 = self.softmax(attention_scores1)\n",
    "\n",
    "        query = self.EMA(query)\n",
    "        key = self.EMA(key)\n",
    "\n",
    "        attention_scores = tf.einsum(\"...CKO,...CNO->...CKN\", query, key) / tf.sqrt(tf.cast(self._key_dim, tf.float32))\n",
    "        attention_scores = self.softmax(attention_scores)\n",
    "        \n",
    "        attention_scores_dropout = self._dropout_layer(\n",
    "            attention_scores, training=training\n",
    "        )\n",
    "        attention_scores1_dropout = self._dropout_layer(\n",
    "            attention_scores1\n",
    "        )\n",
    "\n",
    "        # `context_layer` = [B, T, N, H]\n",
    "        attention_output = tf.einsum(\n",
    "            \"...CKN,...CNO->...CKO\", attention_scores_dropout, value\n",
    "        )\n",
    "        attention_output1 = tf.einsum(\n",
    "            \"...CDK,...CNK->...CND\", attention_scores1_dropout, value\n",
    "        )\n",
    "\n",
    "        attention_output = self._MLP_projection(attention_output)\n",
    "        attention_output1 = self._MLP_projection1(attention_output1)\n",
    "\n",
    "        output = self.add_norm([attention_output, attention_output1])\n",
    "        return output, attention_output, attention_output1\n",
    "\n",
    "    def call(\n",
    "        self,\n",
    "        query,\n",
    "        value,\n",
    "        key=None,\n",
    "        attention_mask=None,\n",
    "        return_attention_scores=False,\n",
    "        training=None,\n",
    "    ):\n",
    "        if not self._built_from_signature:\n",
    "            self.num_patch = query.shape[2]\n",
    "            self._build_from_signature(query=query, value=value, key=key)\n",
    "        if key is None:\n",
    "            key = value\n",
    "\n",
    "        query = self._MLP_query(query)\n",
    "\n",
    "        key = self._MLP_key(key)\n",
    "\n",
    "        value = self._MLP_value(value)\n",
    "\n",
    "        query = self._query_dense(query)\n",
    "\n",
    "        key = self._key_dense(key)\n",
    "\n",
    "        value = self._value_dense(value)\n",
    "\n",
    "        print(K.max(query))\n",
    "        print(\"___________________________________________________________________________________________________\")\n",
    "        print(K.max(key))\n",
    "        print(\"___________________________________________________________________________________________________\")\n",
    "        print(K.max(value))\n",
    "        print(\"___________________________________________________________________________________________________\")\n",
    "\n",
    "        attention_output, attention_scores, attention_scores1 = self._compute_attention(\n",
    "            query, key, value, attention_mask, training\n",
    "        )\n",
    "    \n",
    "        attention_output = self._output_dense(attention_output)\n",
    "        \n",
    "        if return_attention_scores:\n",
    "            return attention_output, attention_scores, attention_scores1\n",
    "        return attention_output"
   ]
  },
  {
   "cell_type": "code",
   "execution_count": 53,
   "metadata": {},
   "outputs": [],
   "source": [
    "DAT = DualAttentionoverTokens(num_heads=8, key_dim=128, num_patch=49, decay=0.6)"
   ]
  },
  {
   "cell_type": "code",
   "execution_count": 54,
   "metadata": {},
   "outputs": [
    {
     "name": "stdout",
     "output_type": "stream",
     "text": [
      "tf.Tensor(92.69018, shape=(), dtype=float32)\n",
      "___________________________________________________________________________________________________\n",
      "tf.Tensor(299.61005, shape=(), dtype=float32)\n",
      "___________________________________________________________________________________________________\n",
      "tf.Tensor(87.92796, shape=(), dtype=float32)\n",
      "___________________________________________________________________________________________________\n"
     ]
    }
   ],
   "source": [
    "DATed = DAT(query=tokennized[:5], key=tokennized[:5], value=tokennized[:5])"
   ]
  },
  {
   "cell_type": "code",
   "execution_count": 55,
   "metadata": {},
   "outputs": [
    {
     "data": {
      "text/plain": [
       "<tf.Tensor: shape=(), dtype=float32, numpy=inf>"
      ]
     },
     "execution_count": 55,
     "metadata": {},
     "output_type": "execute_result"
    }
   ],
   "source": [
    "K.exp(92.69018)"
   ]
  },
  {
   "cell_type": "code",
   "execution_count": 62,
   "metadata": {},
   "outputs": [
    {
     "data": {
      "text/plain": [
       "<tf.Tensor: shape=(), dtype=float64, numpy=1.315198902405932e+130>"
      ]
     },
     "execution_count": 62,
     "metadata": {},
     "output_type": "execute_result"
    }
   ],
   "source": [
    "tf.cast(np.exp(299.61005), tf.float64)"
   ]
  },
  {
   "cell_type": "code",
   "execution_count": 264,
   "metadata": {},
   "outputs": [],
   "source": [
    "class DualAttentionoverChannels(DualAttentionoverTokens):\n",
    "    def __init__(self, num_heads: int, key_dim: int, num_patch: int, decay: int, **kwargs):\n",
    "        super().__init__(num_heads, key_dim, num_patch, decay, **kwargs)\n",
    "        self.DP_K = tf.keras.Sequential([\n",
    "            tf.keras.layers.Dense(num_patch * num_heads, activation=\"linear\"),\n",
    "            tf.keras.layers.Dense(tf.math.ceil(key_dim / 10), activation=\"linear\")\n",
    "        ])\n",
    "        self.DP_V = tf.keras.Sequential([\n",
    "            tf.keras.layers.Dense(num_patch * num_heads, activation=\"linear\"),\n",
    "            tf.keras.layers.Dense(tf.math.ceil(key_dim / 10), activation=\"linear\")\n",
    "        ])\n",
    "\n",
    "    def _compute_attention(\n",
    "        self, query, key, value, attention_mask=None, training=None\n",
    "    ):\n",
    "        attention_scores1 = tf.einsum(\"...CNK,...CNO->...CKO\", query, key) / tf.sqrt(tf.cast(self.num_patch, tf.float32))\n",
    "        attention_scores1 = self.softmax(attention_scores1)\n",
    "\n",
    "        query = self.EMA(query)\n",
    "\n",
    "        PK = self.DP_K(key)\n",
    "        PV = self.DP_V(value)\n",
    "\n",
    "        PK = self.softmax(PK)\n",
    "        PV = self.softmax(PV)\n",
    "\n",
    "        key = tf.einsum(\"...CNR,...CND->...RND\", PK, key)\n",
    "        key = self.EMA(key)\n",
    "\n",
    "        value = tf.einsum(\"...CNR,...CND->...RND\", PV, value)\n",
    "\n",
    "        attention_scores = tf.einsum(\"...CKO,...RNO->...CKN\", query, key) / tf.sqrt(tf.cast(self._key_dim, tf.float32))\n",
    "        attention_scores = self.softmax(attention_scores)\n",
    "        \n",
    "        attention_scores_dropout = self._dropout_layer(\n",
    "            attention_scores, training=training\n",
    "        )\n",
    "        attention_scores1_dropout = self._dropout_layer(\n",
    "            attention_scores1\n",
    "        )\n",
    "\n",
    "        # `context_layer` = [B, T, N, H]\n",
    "        attention_output = tf.einsum(\n",
    "            \"...CKN,...RND->...CKD\", attention_scores_dropout, value\n",
    "        )\n",
    "        \n",
    "        attention_output1 = tf.einsum(\n",
    "            \"...CDK,...RNK->...CND\", attention_scores1_dropout, value\n",
    "        )\n",
    "\n",
    "        attention_output = self._MLP_projection(attention_output)\n",
    "        attention_output1 = self._MLP_projection1(attention_output1)\n",
    "\n",
    "        output = self.add_norm([attention_output, attention_output1])\n",
    "        return output, attention_output, attention_output1"
   ]
  },
  {
   "cell_type": "code",
   "execution_count": 265,
   "metadata": {},
   "outputs": [],
   "source": [
    "class AttentionOverTokenDimension(tf.keras.layers.Layer):\n",
    "    def __init__(\n",
    "        self,\n",
    "        channel: int,\n",
    "        num_heads: int,\n",
    "        key_dim: int,\n",
    "        num_patch: int,\n",
    "        decay: float,\n",
    "        **kwargs,\n",
    "    ):\n",
    "        self.channel = channel\n",
    "        super().__init__()\n",
    "        self.list_DAC = [\n",
    "            DualAttentionoverChannels(num_heads=num_heads, key_dim=key_dim, num_patch=num_patch, decay=decay)\n",
    "            for _ in range(channel)\n",
    "        ]\n",
    "    \n",
    "    def call(self, x):\n",
    "        output = self.list_DAC[0](query=x[:, 0:1, :, :], key=x[:, 0:1, :, :], value=x[:, 0:1, :, :])\n",
    "        for i in range(1, self.channel):\n",
    "            output = tf.concat([output, self.list_DAC[i](query=x[:, i:i+1, :, :], key=x[:, i:i+1, :, :], value=x[:, i:i+1, :, :])], axis=1)\n",
    "        return output"
   ]
  },
  {
   "cell_type": "code",
   "execution_count": 266,
   "metadata": {},
   "outputs": [],
   "source": [
    "class AttentionOverChannelDimension(tf.keras.layers.Layer):\n",
    "    def __init__(\n",
    "        self,\n",
    "        num_patch: int,\n",
    "        num_heads: int,\n",
    "        key_dim: int,\n",
    "        decay: float,\n",
    "        **kwargs,\n",
    "    ):\n",
    "        super().__init__()\n",
    "        self.num_patch = num_patch\n",
    "        self.list_DAT = [\n",
    "            DualAttentionoverTokens(num_heads=num_heads, key_dim=key_dim, num_patch=num_patch, decay=decay)\n",
    "            for _ in range(num_patch)\n",
    "        ]\n",
    "    \n",
    "    def call(self, x):\n",
    "        output = self.list_DAT[0](query=x[:, :, 0:1, :], key=x[:, :, 0:1, :], value=x[:, :, 0:1, :])\n",
    "        for i in range(1, self.num_patch):\n",
    "            output = tf.concat([output, self.list_DAT[i](query=x[:, :, i:i+1, :], key=x[:, :, i:i+1, :], value=x[:, :, i:i+1, :])], axis=2)\n",
    "        return output"
   ]
  },
  {
   "cell_type": "code",
   "execution_count": 267,
   "metadata": {},
   "outputs": [],
   "source": [
    "class DualTransformerBlock(tf.keras.layers.Layer):\n",
    "    def __init__(\n",
    "        self,\n",
    "        seq_length: int,\n",
    "        channel: int,\n",
    "        patch_size: int,\n",
    "        strides: int,\n",
    "        dff: int,\n",
    "        num_heads: int,\n",
    "        d_model: int,\n",
    "        decay: float,\n",
    "        **kwargs,\n",
    "    ):\n",
    "        super().__init__()\n",
    "        self.tokenize = Tokenize(seq_length=seq_length, d_model=d_model, patch_size=patch_size, strides=strides, dff=dff)\n",
    "        self.attentionchannel = AttentionOverChannelDimension(num_patch=self.tokenize.pos_emb.num_patch + 1, num_heads=num_heads, key_dim=d_model, decay=decay)\n",
    "        self.attentiontoken = AttentionOverTokenDimension(channel=channel, num_heads=num_heads, key_dim=d_model, num_patch=self.tokenize.pos_emb.num_patch + 1, decay=decay)\n",
    "        self.add_norm = tf.keras.Sequential([\n",
    "            tf.keras.layers.Add(),\n",
    "            tf.keras.layers.LayerNormalization()\n",
    "        ])\n",
    "    \n",
    "    def call(self, x):\n",
    "        x = self.tokenize(x=x)\n",
    "        x = self.attentionchannel(x)\n",
    "        x_t = self.attentiontoken(x)\n",
    "        x = self.add_norm([x, x_t])\n",
    "\n",
    "        return x"
   ]
  },
  {
   "cell_type": "code",
   "execution_count": 268,
   "metadata": {},
   "outputs": [],
   "source": [
    "class Tensor2Seq(tf.keras.layers.Layer):\n",
    "    def __init__(self,*, output_length, channel, d_model, dff):\n",
    "        super().__init__()\n",
    "        self.channel = channel\n",
    "        self.MLP = [tf.keras.Sequential([\n",
    "            tf.keras.layers.Flatten(),\n",
    "            tf.keras.layers.Dense(dff, activation=\"relu\"),\n",
    "            tf.keras.layers.Dense(d_model, activation=\"gelu\"),\n",
    "            tf.keras.layers.Dense(output_length, activation=\"linear\")\n",
    "        ]) for _ in range(channel)]\n",
    "\n",
    "    def call(self, x):\n",
    "        output = [\n",
    "            self.MLP[i](x[:,i,:,:])\n",
    "            for i in range(self.channel)\n",
    "        ]\n",
    "        return output"
   ]
  },
  {
   "cell_type": "code",
   "execution_count": 269,
   "metadata": {},
   "outputs": [],
   "source": [
    "class Transformer(tf.keras.Model):\n",
    "    def __init__(\n",
    "        self,\n",
    "        seq_length: int,\n",
    "        output_length: int,\n",
    "        channel: int,\n",
    "        patch_size: int,\n",
    "        strides: int,\n",
    "        dff: int,\n",
    "        num_heads: int,\n",
    "        d_model: int,\n",
    "        decay: float,\n",
    "        **kwargs,\n",
    "    ):\n",
    "        super().__init__()\n",
    "        self.TransformerBlock = DualTransformerBlock(seq_length=seq_length, channel=channel, patch_size=patch_size, strides=strides, dff=dff, num_heads=num_heads, d_model=d_model, decay=decay)\n",
    "        self.T2S = Tensor2Seq(output_length=output_length, channel=channel, d_model=d_model, dff=dff)\n",
    "\n",
    "    def call(self, x):\n",
    "        \n",
    "        x = self.TransformerBlock(x)\n",
    "        x = self.T2S(x)\n",
    "\n",
    "        return x"
   ]
  },
  {
   "cell_type": "code",
   "execution_count": 270,
   "metadata": {},
   "outputs": [],
   "source": [
    "transformer = Transformer(50, 3, 3, 3, 1, 10, 8, 128, 0.6)"
   ]
  },
  {
   "cell_type": "code",
   "execution_count": 54,
   "metadata": {},
   "outputs": [
    {
     "data": {
      "text/plain": [
       "1.3234832615645704e+85"
      ]
     },
     "execution_count": 54,
     "metadata": {},
     "output_type": "execute_result"
    }
   ],
   "source": [
    "np.exp(196)"
   ]
  },
  {
   "cell_type": "code",
   "execution_count": 276,
   "metadata": {},
   "outputs": [
    {
     "name": "stdout",
     "output_type": "stream",
     "text": [
      "1/1 [==============================] - 1s 765ms/step\n"
     ]
    },
    {
     "data": {
      "text/plain": [
       "[array([[ 0.16109133, -0.0156713 , -0.3824173 ]], dtype=float32),\n",
       " array([[-0.73473114,  0.90678895,  0.4228015 ]], dtype=float32),\n",
       " array([[ 0.35994428, -0.5369685 , -0.2902751 ]], dtype=float32)]"
      ]
     },
     "execution_count": 276,
     "metadata": {},
     "output_type": "execute_result"
    }
   ],
   "source": [
    "transformer.predict(u[0][:1])"
   ]
  },
  {
   "cell_type": "code",
   "execution_count": 277,
   "metadata": {},
   "outputs": [
    {
     "name": "stdout",
     "output_type": "stream",
     "text": [
      "Model: \"transformer_6\"\n",
      "_________________________________________________________________\n",
      " Layer (type)                Output Shape              Param #   \n",
      "=================================================================\n",
      " dual_transformer_block_6 (  multiple                  40625558  \n",
      " DualTransformerBlock)                                           \n",
      "                                                                 \n",
      " tensor2_seq_6 (Tensor2Seq)  multiple                  193575    \n",
      "                                                                 \n",
      "=================================================================\n",
      "Total params: 40819133 (155.71 MB)\n",
      "Trainable params: 40818989 (155.71 MB)\n",
      "Non-trainable params: 144 (576.00 Byte)\n",
      "_________________________________________________________________\n"
     ]
    }
   ],
   "source": [
    "transformer.summary()"
   ]
  },
  {
   "cell_type": "code",
   "execution_count": null,
   "metadata": {},
   "outputs": [
    {
     "ename": "KeyboardInterrupt",
     "evalue": "",
     "output_type": "error",
     "traceback": [
      "\u001b[1;31m---------------------------------------------------------------------------\u001b[0m",
      "\u001b[1;31mKeyboardInterrupt\u001b[0m                         Traceback (most recent call last)",
      "\u001b[1;32mc:\\Users\\Admin\\AI-Trading-Assistant\\AI_Trading_Assistant_Model\\test.ipynb Cell 42\u001b[0m line \u001b[0;36m1\n\u001b[1;32m----> <a href='vscode-notebook-cell:/c%3A/Users/Admin/AI-Trading-Assistant/AI_Trading_Assistant_Model/test.ipynb#X50sZmlsZQ%3D%3D?line=0'>1</a>\u001b[0m transformer\u001b[39m.\u001b[39;49msave(\u001b[39m\"\u001b[39;49m\u001b[39mC:/Users/Admin/Downloads/model\u001b[39;49m\u001b[39m\"\u001b[39;49m)\n",
      "File \u001b[1;32md:\\Users\\Admin\\anaconda3\\Lib\\site-packages\\keras\\src\\utils\\traceback_utils.py:65\u001b[0m, in \u001b[0;36mfilter_traceback.<locals>.error_handler\u001b[1;34m(*args, **kwargs)\u001b[0m\n\u001b[0;32m     63\u001b[0m filtered_tb \u001b[39m=\u001b[39m \u001b[39mNone\u001b[39;00m\n\u001b[0;32m     64\u001b[0m \u001b[39mtry\u001b[39;00m:\n\u001b[1;32m---> 65\u001b[0m     \u001b[39mreturn\u001b[39;00m fn(\u001b[39m*\u001b[39;49margs, \u001b[39m*\u001b[39;49m\u001b[39m*\u001b[39;49mkwargs)\n\u001b[0;32m     66\u001b[0m \u001b[39mexcept\u001b[39;00m \u001b[39mException\u001b[39;00m \u001b[39mas\u001b[39;00m e:\n\u001b[0;32m     67\u001b[0m     filtered_tb \u001b[39m=\u001b[39m _process_traceback_frames(e\u001b[39m.\u001b[39m__traceback__)\n",
      "File \u001b[1;32md:\\Users\\Admin\\anaconda3\\Lib\\site-packages\\keras\\src\\engine\\training.py:3079\u001b[0m, in \u001b[0;36mModel.save\u001b[1;34m(self, filepath, overwrite, save_format, **kwargs)\u001b[0m\n\u001b[0;32m   3025\u001b[0m \u001b[39m@traceback_utils\u001b[39m\u001b[39m.\u001b[39mfilter_traceback\n\u001b[0;32m   3026\u001b[0m \u001b[39mdef\u001b[39;00m \u001b[39msave\u001b[39m(\u001b[39mself\u001b[39m, filepath, overwrite\u001b[39m=\u001b[39m\u001b[39mTrue\u001b[39;00m, save_format\u001b[39m=\u001b[39m\u001b[39mNone\u001b[39;00m, \u001b[39m*\u001b[39m\u001b[39m*\u001b[39mkwargs):\n\u001b[0;32m   3027\u001b[0m \u001b[39m    \u001b[39m\u001b[39m\"\"\"Saves a model as a TensorFlow SavedModel or HDF5 file.\u001b[39;00m\n\u001b[0;32m   3028\u001b[0m \n\u001b[0;32m   3029\u001b[0m \u001b[39m    See the [Serialization and Saving guide](\u001b[39;00m\n\u001b[1;32m   (...)\u001b[0m\n\u001b[0;32m   3077\u001b[0m \u001b[39m    Note that `model.save()` is an alias for `tf.keras.models.save_model()`.\u001b[39;00m\n\u001b[0;32m   3078\u001b[0m \u001b[39m    \"\"\"\u001b[39;00m\n\u001b[1;32m-> 3079\u001b[0m     saving_api\u001b[39m.\u001b[39;49msave_model(\n\u001b[0;32m   3080\u001b[0m         \u001b[39mself\u001b[39;49m,\n\u001b[0;32m   3081\u001b[0m         filepath\u001b[39m=\u001b[39;49mfilepath,\n\u001b[0;32m   3082\u001b[0m         overwrite\u001b[39m=\u001b[39;49moverwrite,\n\u001b[0;32m   3083\u001b[0m         save_format\u001b[39m=\u001b[39;49msave_format,\n\u001b[0;32m   3084\u001b[0m         \u001b[39m*\u001b[39;49m\u001b[39m*\u001b[39;49mkwargs,\n\u001b[0;32m   3085\u001b[0m     )\n",
      "File \u001b[1;32md:\\Users\\Admin\\anaconda3\\Lib\\site-packages\\keras\\src\\saving\\saving_api.py:167\u001b[0m, in \u001b[0;36msave_model\u001b[1;34m(model, filepath, overwrite, save_format, **kwargs)\u001b[0m\n\u001b[0;32m    164\u001b[0m     saving_lib\u001b[39m.\u001b[39msave_model(model, filepath)\n\u001b[0;32m    165\u001b[0m \u001b[39melse\u001b[39;00m:\n\u001b[0;32m    166\u001b[0m     \u001b[39m# Legacy case\u001b[39;00m\n\u001b[1;32m--> 167\u001b[0m     \u001b[39mreturn\u001b[39;00m legacy_sm_saving_lib\u001b[39m.\u001b[39;49msave_model(\n\u001b[0;32m    168\u001b[0m         model,\n\u001b[0;32m    169\u001b[0m         filepath,\n\u001b[0;32m    170\u001b[0m         overwrite\u001b[39m=\u001b[39;49moverwrite,\n\u001b[0;32m    171\u001b[0m         save_format\u001b[39m=\u001b[39;49msave_format,\n\u001b[0;32m    172\u001b[0m         \u001b[39m*\u001b[39;49m\u001b[39m*\u001b[39;49mkwargs,\n\u001b[0;32m    173\u001b[0m     )\n",
      "File \u001b[1;32md:\\Users\\Admin\\anaconda3\\Lib\\site-packages\\keras\\src\\utils\\traceback_utils.py:65\u001b[0m, in \u001b[0;36mfilter_traceback.<locals>.error_handler\u001b[1;34m(*args, **kwargs)\u001b[0m\n\u001b[0;32m     63\u001b[0m filtered_tb \u001b[39m=\u001b[39m \u001b[39mNone\u001b[39;00m\n\u001b[0;32m     64\u001b[0m \u001b[39mtry\u001b[39;00m:\n\u001b[1;32m---> 65\u001b[0m     \u001b[39mreturn\u001b[39;00m fn(\u001b[39m*\u001b[39;49margs, \u001b[39m*\u001b[39;49m\u001b[39m*\u001b[39;49mkwargs)\n\u001b[0;32m     66\u001b[0m \u001b[39mexcept\u001b[39;00m \u001b[39mException\u001b[39;00m \u001b[39mas\u001b[39;00m e:\n\u001b[0;32m     67\u001b[0m     filtered_tb \u001b[39m=\u001b[39m _process_traceback_frames(e\u001b[39m.\u001b[39m__traceback__)\n",
      "File \u001b[1;32md:\\Users\\Admin\\anaconda3\\Lib\\site-packages\\keras\\src\\saving\\legacy\\save.py:168\u001b[0m, in \u001b[0;36msave_model\u001b[1;34m(model, filepath, overwrite, include_optimizer, save_format, signatures, options, save_traces)\u001b[0m\n\u001b[0;32m    164\u001b[0m \u001b[39mwith\u001b[39;00m serialization\u001b[39m.\u001b[39mSharedObjectSavingScope():\n\u001b[0;32m    165\u001b[0m     \u001b[39mwith\u001b[39;00m keras_option_scope(\n\u001b[0;32m    166\u001b[0m         save_traces\u001b[39m=\u001b[39msave_traces, in_tf_saved_model_scope\u001b[39m=\u001b[39m\u001b[39mTrue\u001b[39;00m\n\u001b[0;32m    167\u001b[0m     ):\n\u001b[1;32m--> 168\u001b[0m         saved_model_save\u001b[39m.\u001b[39;49msave(\n\u001b[0;32m    169\u001b[0m             model,\n\u001b[0;32m    170\u001b[0m             filepath,\n\u001b[0;32m    171\u001b[0m             overwrite,\n\u001b[0;32m    172\u001b[0m             include_optimizer,\n\u001b[0;32m    173\u001b[0m             signatures,\n\u001b[0;32m    174\u001b[0m             options,\n\u001b[0;32m    175\u001b[0m             save_traces,\n\u001b[0;32m    176\u001b[0m         )\n",
      "File \u001b[1;32md:\\Users\\Admin\\anaconda3\\Lib\\site-packages\\keras\\src\\saving\\legacy\\saved_model\\save.py:98\u001b[0m, in \u001b[0;36msave\u001b[1;34m(model, filepath, overwrite, include_optimizer, signatures, options, save_traces)\u001b[0m\n\u001b[0;32m     96\u001b[0m \u001b[39mwith\u001b[39;00m backend\u001b[39m.\u001b[39mdeprecated_internal_learning_phase_scope(\u001b[39m0\u001b[39m):\n\u001b[0;32m     97\u001b[0m     \u001b[39mwith\u001b[39;00m utils\u001b[39m.\u001b[39mkeras_option_scope(save_traces):\n\u001b[1;32m---> 98\u001b[0m         saved_nodes, node_paths \u001b[39m=\u001b[39m save_lib\u001b[39m.\u001b[39;49msave_and_return_nodes(\n\u001b[0;32m     99\u001b[0m             model, filepath, signatures, options\n\u001b[0;32m    100\u001b[0m         )\n\u001b[0;32m    102\u001b[0m     \u001b[39m# Save all metadata to a separate file in the SavedModel directory.\u001b[39;00m\n\u001b[0;32m    103\u001b[0m     metadata \u001b[39m=\u001b[39m generate_keras_metadata(saved_nodes, node_paths)\n",
      "File \u001b[1;32md:\\Users\\Admin\\anaconda3\\Lib\\site-packages\\tensorflow\\python\\saved_model\\save.py:1366\u001b[0m, in \u001b[0;36msave_and_return_nodes\u001b[1;34m(obj, export_dir, signatures, options, experimental_skip_checkpoint)\u001b[0m\n\u001b[0;32m   1362\u001b[0m saved_model \u001b[39m=\u001b[39m saved_model_pb2\u001b[39m.\u001b[39mSavedModel()\n\u001b[0;32m   1363\u001b[0m meta_graph_def \u001b[39m=\u001b[39m saved_model\u001b[39m.\u001b[39mmeta_graphs\u001b[39m.\u001b[39madd()\n\u001b[0;32m   1365\u001b[0m _, exported_graph, object_saver, asset_info, saved_nodes, node_paths \u001b[39m=\u001b[39m (\n\u001b[1;32m-> 1366\u001b[0m     _build_meta_graph(obj, signatures, options, meta_graph_def))\n\u001b[0;32m   1367\u001b[0m saved_model\u001b[39m.\u001b[39msaved_model_schema_version \u001b[39m=\u001b[39m (\n\u001b[0;32m   1368\u001b[0m     constants\u001b[39m.\u001b[39mSAVED_MODEL_SCHEMA_VERSION)\n\u001b[0;32m   1370\u001b[0m \u001b[39m# Write the checkpoint, copy assets into the assets directory, and write out\u001b[39;00m\n\u001b[0;32m   1371\u001b[0m \u001b[39m# the SavedModel proto itself.\u001b[39;00m\n",
      "File \u001b[1;32md:\\Users\\Admin\\anaconda3\\Lib\\site-packages\\tensorflow\\python\\saved_model\\save.py:1578\u001b[0m, in \u001b[0;36m_build_meta_graph\u001b[1;34m(obj, signatures, options, meta_graph_def)\u001b[0m\n\u001b[0;32m   1551\u001b[0m \u001b[39m\u001b[39m\u001b[39m\"\"\"Creates a MetaGraph under a save context.\u001b[39;00m\n\u001b[0;32m   1552\u001b[0m \n\u001b[0;32m   1553\u001b[0m \u001b[39mArgs:\u001b[39;00m\n\u001b[1;32m   (...)\u001b[0m\n\u001b[0;32m   1574\u001b[0m \u001b[39m  saveable_view.node_paths: _SaveableView paths.\u001b[39;00m\n\u001b[0;32m   1575\u001b[0m \u001b[39m\"\"\"\u001b[39;00m\n\u001b[0;32m   1577\u001b[0m \u001b[39mwith\u001b[39;00m save_context\u001b[39m.\u001b[39msave_context(options):\n\u001b[1;32m-> 1578\u001b[0m   \u001b[39mreturn\u001b[39;00m _build_meta_graph_impl(obj, signatures, options, meta_graph_def)\n",
      "File \u001b[1;32md:\\Users\\Admin\\anaconda3\\Lib\\site-packages\\tensorflow\\python\\saved_model\\save.py:1490\u001b[0m, in \u001b[0;36m_build_meta_graph_impl\u001b[1;34m(obj, signatures, options, meta_graph_def)\u001b[0m\n\u001b[0;32m   1488\u001b[0m augmented_graph_view \u001b[39m=\u001b[39m _AugmentedGraphView(obj)\n\u001b[0;32m   1489\u001b[0m \u001b[39mif\u001b[39;00m signatures \u001b[39mis\u001b[39;00m \u001b[39mNone\u001b[39;00m:\n\u001b[1;32m-> 1490\u001b[0m   signatures \u001b[39m=\u001b[39m signature_serialization\u001b[39m.\u001b[39;49mfind_function_to_export(\n\u001b[0;32m   1491\u001b[0m       augmented_graph_view\n\u001b[0;32m   1492\u001b[0m   )\n\u001b[0;32m   1494\u001b[0m signatures, wrapped_functions, defaults \u001b[39m=\u001b[39m (\n\u001b[0;32m   1495\u001b[0m     signature_serialization\u001b[39m.\u001b[39mcanonicalize_signatures(signatures)\n\u001b[0;32m   1496\u001b[0m )\n\u001b[0;32m   1497\u001b[0m signature_serialization\u001b[39m.\u001b[39mvalidate_augmented_graph_view(augmented_graph_view)\n",
      "File \u001b[1;32md:\\Users\\Admin\\anaconda3\\Lib\\site-packages\\tensorflow\\python\\saved_model\\signature_serialization.py:109\u001b[0m, in \u001b[0;36mfind_function_to_export\u001b[1;34m(saveable_view)\u001b[0m\n\u001b[0;32m    105\u001b[0m \u001b[39m# TODO(b/205014194): Discuss removing this behaviour. It can lead to WTFs when\u001b[39;00m\n\u001b[0;32m    106\u001b[0m \u001b[39m# a user decides to annotate more functions with tf.function and suddenly\u001b[39;00m\n\u001b[0;32m    107\u001b[0m \u001b[39m# serving that model way later in the process stops working.\u001b[39;00m\n\u001b[0;32m    108\u001b[0m possible_signatures \u001b[39m=\u001b[39m []\n\u001b[1;32m--> 109\u001b[0m \u001b[39mfor\u001b[39;49;00m name, child \u001b[39min\u001b[39;49;00m children:\n\u001b[0;32m    110\u001b[0m   \u001b[39mif\u001b[39;49;00m \u001b[39mnot\u001b[39;49;00m \u001b[39misinstance\u001b[39;49m(child, (def_function\u001b[39m.\u001b[39;49mFunction, defun\u001b[39m.\u001b[39;49mConcreteFunction)):\n\u001b[0;32m    111\u001b[0m     \u001b[39mcontinue\u001b[39;49;00m\n",
      "File \u001b[1;32md:\\Users\\Admin\\anaconda3\\Lib\\site-packages\\tensorflow\\python\\saved_model\\save.py:189\u001b[0m, in \u001b[0;36m_AugmentedGraphView.list_children\u001b[1;34m(self, obj)\u001b[0m\n\u001b[0;32m    186\u001b[0m \u001b[39mif\u001b[39;00m obj \u001b[39mnot\u001b[39;00m \u001b[39min\u001b[39;00m \u001b[39mself\u001b[39m\u001b[39m.\u001b[39m_children_cache:\n\u001b[0;32m    187\u001b[0m   children \u001b[39m=\u001b[39m \u001b[39mself\u001b[39m\u001b[39m.\u001b[39m_children_cache[obj] \u001b[39m=\u001b[39m {}\n\u001b[1;32m--> 189\u001b[0m   \u001b[39mfor\u001b[39;00m name, child \u001b[39min\u001b[39;00m \u001b[39msuper\u001b[39;49m(_AugmentedGraphView, \u001b[39mself\u001b[39;49m)\u001b[39m.\u001b[39;49mlist_children(\n\u001b[0;32m    190\u001b[0m       obj,\n\u001b[0;32m    191\u001b[0m       save_type\u001b[39m=\u001b[39;49mbase\u001b[39m.\u001b[39;49mSaveType\u001b[39m.\u001b[39;49mSAVEDMODEL,\n\u001b[0;32m    192\u001b[0m       cache\u001b[39m=\u001b[39;49m\u001b[39mself\u001b[39;49m\u001b[39m.\u001b[39;49m_serialization_cache):\n\u001b[0;32m    193\u001b[0m     \u001b[39mif\u001b[39;00m \u001b[39misinstance\u001b[39m(child, defun\u001b[39m.\u001b[39mConcreteFunction):\n\u001b[0;32m    194\u001b[0m       child \u001b[39m=\u001b[39m \u001b[39mself\u001b[39m\u001b[39m.\u001b[39m_maybe_uncache_variable_captures(child)\n",
      "File \u001b[1;32md:\\Users\\Admin\\anaconda3\\Lib\\site-packages\\tensorflow\\python\\checkpoint\\graph_view.py:75\u001b[0m, in \u001b[0;36mObjectGraphView.list_children\u001b[1;34m(self, obj, save_type, **kwargs)\u001b[0m\n\u001b[0;32m     64\u001b[0m \u001b[39m\u001b[39m\u001b[39m\"\"\"Returns list of all child trackables attached to obj.\u001b[39;00m\n\u001b[0;32m     65\u001b[0m \n\u001b[0;32m     66\u001b[0m \u001b[39mArgs:\u001b[39;00m\n\u001b[1;32m   (...)\u001b[0m\n\u001b[0;32m     72\u001b[0m \u001b[39m  List of all children attached to the object.\u001b[39;00m\n\u001b[0;32m     73\u001b[0m \u001b[39m\"\"\"\u001b[39;00m\n\u001b[0;32m     74\u001b[0m children \u001b[39m=\u001b[39m []\n\u001b[1;32m---> 75\u001b[0m \u001b[39mfor\u001b[39;00m name, ref \u001b[39min\u001b[39;00m \u001b[39msuper\u001b[39;49m(ObjectGraphView,\n\u001b[0;32m     76\u001b[0m                        \u001b[39mself\u001b[39;49m)\u001b[39m.\u001b[39;49mchildren(obj, save_type, \u001b[39m*\u001b[39;49m\u001b[39m*\u001b[39;49mkwargs)\u001b[39m.\u001b[39mitems():\n\u001b[0;32m     77\u001b[0m   children\u001b[39m.\u001b[39mappend(base\u001b[39m.\u001b[39mTrackableReference(name, ref))\n\u001b[0;32m     79\u001b[0m \u001b[39m# GraphView objects may define children of the root object that are not\u001b[39;00m\n\u001b[0;32m     80\u001b[0m \u001b[39m# actually attached, e.g. a Checkpoint object's save_counter.\u001b[39;00m\n",
      "File \u001b[1;32md:\\Users\\Admin\\anaconda3\\Lib\\site-packages\\tensorflow\\python\\checkpoint\\trackable_view.py:84\u001b[0m, in \u001b[0;36mTrackableView.children\u001b[1;34m(cls, obj, save_type, **kwargs)\u001b[0m\n\u001b[0;32m     82\u001b[0m obj\u001b[39m.\u001b[39m_maybe_initialize_trackable()\n\u001b[0;32m     83\u001b[0m children \u001b[39m=\u001b[39m {}\n\u001b[1;32m---> 84\u001b[0m \u001b[39mfor\u001b[39;00m name, ref \u001b[39min\u001b[39;00m obj\u001b[39m.\u001b[39;49m_trackable_children(save_type, \u001b[39m*\u001b[39;49m\u001b[39m*\u001b[39;49mkwargs)\u001b[39m.\u001b[39mitems():\n\u001b[0;32m     85\u001b[0m   ref \u001b[39m=\u001b[39m converter\u001b[39m.\u001b[39mconvert_to_trackable(ref, parent\u001b[39m=\u001b[39mobj)\n\u001b[0;32m     86\u001b[0m   children[name] \u001b[39m=\u001b[39m ref\n",
      "File \u001b[1;32md:\\Users\\Admin\\anaconda3\\Lib\\site-packages\\keras\\src\\engine\\training.py:4002\u001b[0m, in \u001b[0;36mModel._trackable_children\u001b[1;34m(self, save_type, **kwargs)\u001b[0m\n\u001b[0;32m   3999\u001b[0m     \u001b[39mself\u001b[39m\u001b[39m.\u001b[39mpredict_function \u001b[39m=\u001b[39m \u001b[39mNone\u001b[39;00m\n\u001b[0;32m   4000\u001b[0m     \u001b[39mself\u001b[39m\u001b[39m.\u001b[39mtrain_tf_function \u001b[39m=\u001b[39m \u001b[39mNone\u001b[39;00m\n\u001b[1;32m-> 4002\u001b[0m children \u001b[39m=\u001b[39m \u001b[39msuper\u001b[39;49m()\u001b[39m.\u001b[39;49m_trackable_children(save_type, \u001b[39m*\u001b[39;49m\u001b[39m*\u001b[39;49mkwargs)\n\u001b[0;32m   4004\u001b[0m \u001b[39mif\u001b[39;00m save_type \u001b[39m==\u001b[39m \u001b[39m\"\u001b[39m\u001b[39msavedmodel\u001b[39m\u001b[39m\"\u001b[39m:\n\u001b[0;32m   4005\u001b[0m     \u001b[39mself\u001b[39m\u001b[39m.\u001b[39mtrain_function \u001b[39m=\u001b[39m train_function\n",
      "File \u001b[1;32md:\\Users\\Admin\\anaconda3\\Lib\\site-packages\\keras\\src\\engine\\base_layer.py:3470\u001b[0m, in \u001b[0;36mLayer._trackable_children\u001b[1;34m(self, save_type, **kwargs)\u001b[0m\n\u001b[0;32m   3466\u001b[0m     cache \u001b[39m=\u001b[39m kwargs[\u001b[39m\"\u001b[39m\u001b[39mcache\u001b[39m\u001b[39m\"\u001b[39m]\n\u001b[0;32m   3467\u001b[0m     \u001b[39m# TODO(b/213628533): This must be called before super() to ensure\u001b[39;00m\n\u001b[0;32m   3468\u001b[0m     \u001b[39m# that any input shape changes are applied before getting the config\u001b[39;00m\n\u001b[0;32m   3469\u001b[0m     \u001b[39m# of the model.\u001b[39;00m\n\u001b[1;32m-> 3470\u001b[0m     children \u001b[39m=\u001b[39m \u001b[39mself\u001b[39;49m\u001b[39m.\u001b[39;49m_trackable_saved_model_saver\u001b[39m.\u001b[39;49mtrackable_children(\n\u001b[0;32m   3471\u001b[0m         cache\n\u001b[0;32m   3472\u001b[0m     )\n\u001b[0;32m   3473\u001b[0m \u001b[39melse\u001b[39;00m:\n\u001b[0;32m   3474\u001b[0m     children \u001b[39m=\u001b[39m {}\n",
      "File \u001b[1;32md:\\Users\\Admin\\anaconda3\\Lib\\site-packages\\keras\\src\\saving\\legacy\\saved_model\\base_serialization.py:61\u001b[0m, in \u001b[0;36mSavedModelSaver.trackable_children\u001b[1;34m(self, serialization_cache)\u001b[0m\n\u001b[0;32m     58\u001b[0m \u001b[39mif\u001b[39;00m \u001b[39mnot\u001b[39;00m utils\u001b[39m.\u001b[39mshould_save_traces():\n\u001b[0;32m     59\u001b[0m     \u001b[39mreturn\u001b[39;00m {}\n\u001b[1;32m---> 61\u001b[0m children \u001b[39m=\u001b[39m \u001b[39mself\u001b[39;49m\u001b[39m.\u001b[39;49mobjects_to_serialize(serialization_cache)\n\u001b[0;32m     62\u001b[0m children\u001b[39m.\u001b[39mupdate(\u001b[39mself\u001b[39m\u001b[39m.\u001b[39mfunctions_to_serialize(serialization_cache))\n\u001b[0;32m     63\u001b[0m \u001b[39mreturn\u001b[39;00m children\n",
      "File \u001b[1;32md:\\Users\\Admin\\anaconda3\\Lib\\site-packages\\keras\\src\\saving\\legacy\\saved_model\\layer_serialization.py:79\u001b[0m, in \u001b[0;36mLayerSavedModelSaver.objects_to_serialize\u001b[1;34m(self, serialization_cache)\u001b[0m\n\u001b[0;32m     78\u001b[0m \u001b[39mdef\u001b[39;00m \u001b[39mobjects_to_serialize\u001b[39m(\u001b[39mself\u001b[39m, serialization_cache):\n\u001b[1;32m---> 79\u001b[0m     \u001b[39mreturn\u001b[39;00m \u001b[39mself\u001b[39;49m\u001b[39m.\u001b[39;49m_get_serialized_attributes(\n\u001b[0;32m     80\u001b[0m         serialization_cache\n\u001b[0;32m     81\u001b[0m     )\u001b[39m.\u001b[39mobjects_to_serialize\n",
      "File \u001b[1;32md:\\Users\\Admin\\anaconda3\\Lib\\site-packages\\keras\\src\\saving\\legacy\\saved_model\\layer_serialization.py:106\u001b[0m, in \u001b[0;36mLayerSavedModelSaver._get_serialized_attributes\u001b[1;34m(self, serialization_cache)\u001b[0m\n\u001b[0;32m    100\u001b[0m \u001b[39mif\u001b[39;00m (\n\u001b[0;32m    101\u001b[0m     save_impl\u001b[39m.\u001b[39mshould_skip_serialization(\u001b[39mself\u001b[39m\u001b[39m.\u001b[39mobj)\n\u001b[0;32m    102\u001b[0m     \u001b[39mor\u001b[39;00m \u001b[39mself\u001b[39m\u001b[39m.\u001b[39mobj\u001b[39m.\u001b[39m_must_restore_from_config\n\u001b[0;32m    103\u001b[0m ):\n\u001b[0;32m    104\u001b[0m     \u001b[39mreturn\u001b[39;00m serialized_attr\n\u001b[1;32m--> 106\u001b[0m object_dict, function_dict \u001b[39m=\u001b[39m \u001b[39mself\u001b[39;49m\u001b[39m.\u001b[39;49m_get_serialized_attributes_internal(\n\u001b[0;32m    107\u001b[0m     serialization_cache\n\u001b[0;32m    108\u001b[0m )\n\u001b[0;32m    110\u001b[0m serialized_attr\u001b[39m.\u001b[39mset_and_validate_objects(object_dict)\n\u001b[0;32m    111\u001b[0m serialized_attr\u001b[39m.\u001b[39mset_and_validate_functions(function_dict)\n",
      "File \u001b[1;32md:\\Users\\Admin\\anaconda3\\Lib\\site-packages\\keras\\src\\saving\\legacy\\saved_model\\model_serialization.py:57\u001b[0m, in \u001b[0;36mModelSavedModelSaver._get_serialized_attributes_internal\u001b[1;34m(self, serialization_cache)\u001b[0m\n\u001b[0;32m     53\u001b[0m     default_signature \u001b[39m=\u001b[39m save_impl\u001b[39m.\u001b[39mdefault_save_signature(\u001b[39mself\u001b[39m\u001b[39m.\u001b[39mobj)\n\u001b[0;32m     55\u001b[0m \u001b[39m# Other than the default signature function, all other attributes match\u001b[39;00m\n\u001b[0;32m     56\u001b[0m \u001b[39m# with the ones serialized by Layer.\u001b[39;00m\n\u001b[1;32m---> 57\u001b[0m objects, functions \u001b[39m=\u001b[39m \u001b[39msuper\u001b[39;49m()\u001b[39m.\u001b[39;49m_get_serialized_attributes_internal(\n\u001b[0;32m     58\u001b[0m     serialization_cache\n\u001b[0;32m     59\u001b[0m )\n\u001b[0;32m     60\u001b[0m functions[\u001b[39m\"\u001b[39m\u001b[39m_default_save_signature\u001b[39m\u001b[39m\"\u001b[39m] \u001b[39m=\u001b[39m default_signature\n\u001b[0;32m     61\u001b[0m \u001b[39mreturn\u001b[39;00m objects, functions\n",
      "File \u001b[1;32md:\\Users\\Admin\\anaconda3\\Lib\\site-packages\\keras\\src\\saving\\legacy\\saved_model\\layer_serialization.py:117\u001b[0m, in \u001b[0;36mLayerSavedModelSaver._get_serialized_attributes_internal\u001b[1;34m(self, serialization_cache)\u001b[0m\n\u001b[0;32m    115\u001b[0m \u001b[39m\u001b[39m\u001b[39m\"\"\"Returns dictionary of serialized attributes.\"\"\"\u001b[39;00m\n\u001b[0;32m    116\u001b[0m objects \u001b[39m=\u001b[39m save_impl\u001b[39m.\u001b[39mwrap_layer_objects(\u001b[39mself\u001b[39m\u001b[39m.\u001b[39mobj, serialization_cache)\n\u001b[1;32m--> 117\u001b[0m functions \u001b[39m=\u001b[39m save_impl\u001b[39m.\u001b[39;49mwrap_layer_functions(\n\u001b[0;32m    118\u001b[0m     \u001b[39mself\u001b[39;49m\u001b[39m.\u001b[39;49mobj, serialization_cache\n\u001b[0;32m    119\u001b[0m )\n\u001b[0;32m    120\u001b[0m \u001b[39m# Attribute validator requires that the default save signature is added\u001b[39;00m\n\u001b[0;32m    121\u001b[0m \u001b[39m# to function dict, even if the value is None.\u001b[39;00m\n\u001b[0;32m    122\u001b[0m functions[\u001b[39m\"\u001b[39m\u001b[39m_default_save_signature\u001b[39m\u001b[39m\"\u001b[39m] \u001b[39m=\u001b[39m \u001b[39mNone\u001b[39;00m\n",
      "File \u001b[1;32md:\\Users\\Admin\\anaconda3\\Lib\\site-packages\\keras\\src\\saving\\legacy\\saved_model\\save_impl.py:216\u001b[0m, in \u001b[0;36mwrap_layer_functions\u001b[1;34m(layer, serialization_cache)\u001b[0m\n\u001b[0;32m    211\u001b[0m     fns[\u001b[39m\"\u001b[39m\u001b[39mcall_and_return_all_conditional_losses\u001b[39m\u001b[39m\"\u001b[39m] \u001b[39m=\u001b[39m call_fn_with_losses\n\u001b[0;32m    213\u001b[0m \u001b[39m# Manually trigger traces before restoring the overwritten functions. The\u001b[39;00m\n\u001b[0;32m    214\u001b[0m \u001b[39m# functions are traced within the layer call context to ensure that layer\u001b[39;00m\n\u001b[0;32m    215\u001b[0m \u001b[39m# functions (e.g. add_loss) behave as though running in graph mode.\u001b[39;00m\n\u001b[1;32m--> 216\u001b[0m \u001b[39mwith\u001b[39;49;00m tracing_scope():\n\u001b[0;32m    217\u001b[0m     call_collection\u001b[39m.\u001b[39;49mtrace_with_input_signature()\n\u001b[0;32m    218\u001b[0m     \u001b[39mwith\u001b[39;49;00m base_layer_utils\u001b[39m.\u001b[39;49mcall_context()\u001b[39m.\u001b[39;49menter(\n\u001b[0;32m    219\u001b[0m         layer, inputs\u001b[39m=\u001b[39;49m\u001b[39mNone\u001b[39;49;00m, build_graph\u001b[39m=\u001b[39;49m\u001b[39mTrue\u001b[39;49;00m, training\u001b[39m=\u001b[39;49m\u001b[39mNone\u001b[39;49;00m, saving\u001b[39m=\u001b[39;49m\u001b[39mTrue\u001b[39;49;00m\n\u001b[0;32m    220\u001b[0m     ):\n",
      "File \u001b[1;32md:\\Users\\Admin\\anaconda3\\Lib\\contextlib.py:144\u001b[0m, in \u001b[0;36m_GeneratorContextManager.__exit__\u001b[1;34m(self, typ, value, traceback)\u001b[0m\n\u001b[0;32m    142\u001b[0m \u001b[39mif\u001b[39;00m typ \u001b[39mis\u001b[39;00m \u001b[39mNone\u001b[39;00m:\n\u001b[0;32m    143\u001b[0m     \u001b[39mtry\u001b[39;00m:\n\u001b[1;32m--> 144\u001b[0m         \u001b[39mnext\u001b[39m(\u001b[39mself\u001b[39m\u001b[39m.\u001b[39mgen)\n\u001b[0;32m    145\u001b[0m     \u001b[39mexcept\u001b[39;00m \u001b[39mStopIteration\u001b[39;00m:\n\u001b[0;32m    146\u001b[0m         \u001b[39mreturn\u001b[39;00m \u001b[39mFalse\u001b[39;00m\n",
      "File \u001b[1;32md:\\Users\\Admin\\anaconda3\\Lib\\site-packages\\keras\\src\\saving\\legacy\\saved_model\\save_impl.py:390\u001b[0m, in \u001b[0;36mtracing_scope\u001b[1;34m()\u001b[0m\n\u001b[0;32m    388\u001b[0m \u001b[39mif\u001b[39;00m training \u001b[39mis\u001b[39;00m \u001b[39mnot\u001b[39;00m \u001b[39mNone\u001b[39;00m:\n\u001b[0;32m    389\u001b[0m     \u001b[39mwith\u001b[39;00m backend\u001b[39m.\u001b[39mdeprecated_internal_learning_phase_scope(training):\n\u001b[1;32m--> 390\u001b[0m         fn\u001b[39m.\u001b[39;49mget_concrete_function(\u001b[39m*\u001b[39;49margs, \u001b[39m*\u001b[39;49m\u001b[39m*\u001b[39;49mkwargs)\n\u001b[0;32m    391\u001b[0m \u001b[39melse\u001b[39;00m:\n\u001b[0;32m    392\u001b[0m     fn\u001b[39m.\u001b[39mget_concrete_function(\u001b[39m*\u001b[39margs, \u001b[39m*\u001b[39m\u001b[39m*\u001b[39mkwargs)\n",
      "File \u001b[1;32md:\\Users\\Admin\\anaconda3\\Lib\\site-packages\\tensorflow\\python\\eager\\polymorphic_function\\polymorphic_function.py:1222\u001b[0m, in \u001b[0;36mFunction.get_concrete_function\u001b[1;34m(self, *args, **kwargs)\u001b[0m\n\u001b[0;32m   1220\u001b[0m \u001b[39mdef\u001b[39;00m \u001b[39mget_concrete_function\u001b[39m(\u001b[39mself\u001b[39m, \u001b[39m*\u001b[39margs, \u001b[39m*\u001b[39m\u001b[39m*\u001b[39mkwargs):\n\u001b[0;32m   1221\u001b[0m   \u001b[39m# Implements GenericFunction.get_concrete_function.\u001b[39;00m\n\u001b[1;32m-> 1222\u001b[0m   concrete \u001b[39m=\u001b[39m \u001b[39mself\u001b[39;49m\u001b[39m.\u001b[39;49m_get_concrete_function_garbage_collected(\u001b[39m*\u001b[39;49margs, \u001b[39m*\u001b[39;49m\u001b[39m*\u001b[39;49mkwargs)\n\u001b[0;32m   1223\u001b[0m   concrete\u001b[39m.\u001b[39m_garbage_collector\u001b[39m.\u001b[39mrelease()  \u001b[39m# pylint: disable=protected-access\u001b[39;00m\n\u001b[0;32m   1224\u001b[0m   \u001b[39mreturn\u001b[39;00m concrete\n",
      "File \u001b[1;32md:\\Users\\Admin\\anaconda3\\Lib\\site-packages\\tensorflow\\python\\eager\\polymorphic_function\\polymorphic_function.py:1192\u001b[0m, in \u001b[0;36mFunction._get_concrete_function_garbage_collected\u001b[1;34m(self, *args, **kwargs)\u001b[0m\n\u001b[0;32m   1190\u001b[0m   \u001b[39mif\u001b[39;00m \u001b[39mself\u001b[39m\u001b[39m.\u001b[39m_variable_creation_config \u001b[39mis\u001b[39;00m \u001b[39mNone\u001b[39;00m:\n\u001b[0;32m   1191\u001b[0m     initializers \u001b[39m=\u001b[39m []\n\u001b[1;32m-> 1192\u001b[0m     \u001b[39mself\u001b[39;49m\u001b[39m.\u001b[39;49m_initialize(args, kwargs, add_initializers_to\u001b[39m=\u001b[39;49minitializers)\n\u001b[0;32m   1193\u001b[0m     \u001b[39mself\u001b[39m\u001b[39m.\u001b[39m_initialize_uninitialized_variables(initializers)\n\u001b[0;32m   1195\u001b[0m \u001b[39mif\u001b[39;00m \u001b[39mself\u001b[39m\u001b[39m.\u001b[39m_created_variables:\n\u001b[0;32m   1196\u001b[0m   \u001b[39m# In this case we have created variables on the first call, so we run the\u001b[39;00m\n\u001b[0;32m   1197\u001b[0m   \u001b[39m# version which is guaranteed to never create variables.\u001b[39;00m\n",
      "File \u001b[1;32md:\\Users\\Admin\\anaconda3\\Lib\\site-packages\\tensorflow\\python\\eager\\polymorphic_function\\polymorphic_function.py:694\u001b[0m, in \u001b[0;36mFunction._initialize\u001b[1;34m(self, args, kwds, add_initializers_to)\u001b[0m\n\u001b[0;32m    689\u001b[0m \u001b[39mself\u001b[39m\u001b[39m.\u001b[39m_variable_creation_config \u001b[39m=\u001b[39m \u001b[39mself\u001b[39m\u001b[39m.\u001b[39m_generate_scoped_tracing_options(\n\u001b[0;32m    690\u001b[0m     variable_capturing_scope,\n\u001b[0;32m    691\u001b[0m     tracing_compilation\u001b[39m.\u001b[39mScopeType\u001b[39m.\u001b[39mVARIABLE_CREATION,\n\u001b[0;32m    692\u001b[0m )\n\u001b[0;32m    693\u001b[0m \u001b[39m# Force the definition of the function for these arguments\u001b[39;00m\n\u001b[1;32m--> 694\u001b[0m \u001b[39mself\u001b[39m\u001b[39m.\u001b[39m_concrete_variable_creation_fn \u001b[39m=\u001b[39m tracing_compilation\u001b[39m.\u001b[39;49mtrace_function(\n\u001b[0;32m    695\u001b[0m     args, kwds, \u001b[39mself\u001b[39;49m\u001b[39m.\u001b[39;49m_variable_creation_config\n\u001b[0;32m    696\u001b[0m )\n\u001b[0;32m    698\u001b[0m \u001b[39mdef\u001b[39;00m \u001b[39minvalid_creator_scope\u001b[39m(\u001b[39m*\u001b[39munused_args, \u001b[39m*\u001b[39m\u001b[39m*\u001b[39munused_kwds):\n\u001b[0;32m    699\u001b[0m \u001b[39m  \u001b[39m\u001b[39m\"\"\"Disables variable creation.\"\"\"\u001b[39;00m\n",
      "File \u001b[1;32md:\\Users\\Admin\\anaconda3\\Lib\\site-packages\\tensorflow\\python\\eager\\polymorphic_function\\tracing_compilation.py:178\u001b[0m, in \u001b[0;36mtrace_function\u001b[1;34m(args, kwargs, tracing_options)\u001b[0m\n\u001b[0;32m    175\u001b[0m     args \u001b[39m=\u001b[39m tracing_options\u001b[39m.\u001b[39minput_signature\n\u001b[0;32m    176\u001b[0m     kwargs \u001b[39m=\u001b[39m {}\n\u001b[1;32m--> 178\u001b[0m   concrete_function \u001b[39m=\u001b[39m _maybe_define_function(\n\u001b[0;32m    179\u001b[0m       args, kwargs, tracing_options\n\u001b[0;32m    180\u001b[0m   )\n\u001b[0;32m    181\u001b[0m   _set_arg_keywords(concrete_function)\n\u001b[0;32m    183\u001b[0m \u001b[39mif\u001b[39;00m \u001b[39mnot\u001b[39;00m tracing_options\u001b[39m.\u001b[39mbind_graph_to_function:\n",
      "File \u001b[1;32md:\\Users\\Admin\\anaconda3\\Lib\\site-packages\\tensorflow\\python\\eager\\polymorphic_function\\tracing_compilation.py:284\u001b[0m, in \u001b[0;36m_maybe_define_function\u001b[1;34m(args, kwargs, tracing_options)\u001b[0m\n\u001b[0;32m    282\u001b[0m \u001b[39melse\u001b[39;00m:\n\u001b[0;32m    283\u001b[0m   target_func_type \u001b[39m=\u001b[39m lookup_func_type\n\u001b[1;32m--> 284\u001b[0m concrete_function \u001b[39m=\u001b[39m _create_concrete_function(\n\u001b[0;32m    285\u001b[0m     target_func_type, lookup_func_context, func_graph, tracing_options\n\u001b[0;32m    286\u001b[0m )\n\u001b[0;32m    288\u001b[0m \u001b[39mif\u001b[39;00m tracing_options\u001b[39m.\u001b[39mfunction_cache \u001b[39mis\u001b[39;00m \u001b[39mnot\u001b[39;00m \u001b[39mNone\u001b[39;00m:\n\u001b[0;32m    289\u001b[0m   tracing_options\u001b[39m.\u001b[39mfunction_cache\u001b[39m.\u001b[39madd(\n\u001b[0;32m    290\u001b[0m       concrete_function, current_func_context\n\u001b[0;32m    291\u001b[0m   )\n",
      "File \u001b[1;32md:\\Users\\Admin\\anaconda3\\Lib\\site-packages\\tensorflow\\python\\eager\\polymorphic_function\\tracing_compilation.py:308\u001b[0m, in \u001b[0;36m_create_concrete_function\u001b[1;34m(function_type, type_context, func_graph, tracing_options)\u001b[0m\n\u001b[0;32m    303\u001b[0m \u001b[39mwith\u001b[39;00m func_graph\u001b[39m.\u001b[39mas_default():\n\u001b[0;32m    304\u001b[0m   placeholder_bound_args \u001b[39m=\u001b[39m function_type\u001b[39m.\u001b[39mplaceholder_arguments(\n\u001b[0;32m    305\u001b[0m       placeholder_context\n\u001b[0;32m    306\u001b[0m   )\n\u001b[1;32m--> 308\u001b[0m traced_func_graph \u001b[39m=\u001b[39m func_graph_module\u001b[39m.\u001b[39;49mfunc_graph_from_py_func(\n\u001b[0;32m    309\u001b[0m     tracing_options\u001b[39m.\u001b[39;49mname,\n\u001b[0;32m    310\u001b[0m     tracing_options\u001b[39m.\u001b[39;49mpython_function,\n\u001b[0;32m    311\u001b[0m     placeholder_bound_args\u001b[39m.\u001b[39;49margs,\n\u001b[0;32m    312\u001b[0m     placeholder_bound_args\u001b[39m.\u001b[39;49mkwargs,\n\u001b[0;32m    313\u001b[0m     \u001b[39mNone\u001b[39;49;00m,\n\u001b[0;32m    314\u001b[0m     func_graph\u001b[39m=\u001b[39;49mfunc_graph,\n\u001b[0;32m    315\u001b[0m     arg_names\u001b[39m=\u001b[39;49mfunction_type_utils\u001b[39m.\u001b[39;49mto_arg_names(function_type),\n\u001b[0;32m    316\u001b[0m     create_placeholders\u001b[39m=\u001b[39;49m\u001b[39mFalse\u001b[39;49;00m,\n\u001b[0;32m    317\u001b[0m )\n\u001b[0;32m    319\u001b[0m transform\u001b[39m.\u001b[39mapply_func_graph_transforms(traced_func_graph)\n\u001b[0;32m    321\u001b[0m graph_capture_container \u001b[39m=\u001b[39m traced_func_graph\u001b[39m.\u001b[39mfunction_captures\n",
      "File \u001b[1;32md:\\Users\\Admin\\anaconda3\\Lib\\site-packages\\tensorflow\\python\\framework\\func_graph.py:1059\u001b[0m, in \u001b[0;36mfunc_graph_from_py_func\u001b[1;34m(name, python_func, args, kwargs, signature, func_graph, add_control_dependencies, arg_names, op_return_value, collections, capture_by_value, create_placeholders)\u001b[0m\n\u001b[0;32m   1056\u001b[0m   \u001b[39mreturn\u001b[39;00m x\n\u001b[0;32m   1058\u001b[0m _, original_func \u001b[39m=\u001b[39m tf_decorator\u001b[39m.\u001b[39munwrap(python_func)\n\u001b[1;32m-> 1059\u001b[0m func_outputs \u001b[39m=\u001b[39m python_func(\u001b[39m*\u001b[39;49mfunc_args, \u001b[39m*\u001b[39;49m\u001b[39m*\u001b[39;49mfunc_kwargs)\n\u001b[0;32m   1061\u001b[0m \u001b[39m# invariant: `func_outputs` contains only Tensors, CompositeTensors,\u001b[39;00m\n\u001b[0;32m   1062\u001b[0m \u001b[39m# TensorArrays and `None`s.\u001b[39;00m\n\u001b[0;32m   1063\u001b[0m func_outputs \u001b[39m=\u001b[39m variable_utils\u001b[39m.\u001b[39mconvert_variables_to_tensors(func_outputs)\n",
      "File \u001b[1;32md:\\Users\\Admin\\anaconda3\\Lib\\site-packages\\tensorflow\\python\\eager\\polymorphic_function\\polymorphic_function.py:597\u001b[0m, in \u001b[0;36mFunction._generate_scoped_tracing_options.<locals>.wrapped_fn\u001b[1;34m(*args, **kwds)\u001b[0m\n\u001b[0;32m    593\u001b[0m \u001b[39mwith\u001b[39;00m default_graph\u001b[39m.\u001b[39m_variable_creator_scope(scope, priority\u001b[39m=\u001b[39m\u001b[39m50\u001b[39m):  \u001b[39m# pylint: disable=protected-access\u001b[39;00m\n\u001b[0;32m    594\u001b[0m   \u001b[39m# __wrapped__ allows AutoGraph to swap in a converted function. We give\u001b[39;00m\n\u001b[0;32m    595\u001b[0m   \u001b[39m# the function a weak reference to itself to avoid a reference cycle.\u001b[39;00m\n\u001b[0;32m    596\u001b[0m   \u001b[39mwith\u001b[39;00m OptionalXlaContext(compile_with_xla):\n\u001b[1;32m--> 597\u001b[0m     out \u001b[39m=\u001b[39m weak_wrapped_fn()\u001b[39m.\u001b[39;49m__wrapped__(\u001b[39m*\u001b[39;49margs, \u001b[39m*\u001b[39;49m\u001b[39m*\u001b[39;49mkwds)\n\u001b[0;32m    598\u001b[0m   \u001b[39mreturn\u001b[39;00m out\n",
      "File \u001b[1;32md:\\Users\\Admin\\anaconda3\\Lib\\site-packages\\keras\\src\\saving\\legacy\\saved_model\\save_impl.py:632\u001b[0m, in \u001b[0;36mlayer_call_wrapper.<locals>.wrapper\u001b[1;34m(*args, **kwargs)\u001b[0m\n\u001b[0;32m    622\u001b[0m \u001b[39mwith\u001b[39;00m base_layer_utils\u001b[39m.\u001b[39mcall_context()\u001b[39m.\u001b[39menter(\n\u001b[0;32m    623\u001b[0m     layer,\n\u001b[0;32m    624\u001b[0m     inputs\u001b[39m=\u001b[39minputs,\n\u001b[1;32m   (...)\u001b[0m\n\u001b[0;32m    627\u001b[0m     saving\u001b[39m=\u001b[39m\u001b[39mTrue\u001b[39;00m,\n\u001b[0;32m    628\u001b[0m ):\n\u001b[0;32m    629\u001b[0m     \u001b[39mwith\u001b[39;00m autocast_variable\u001b[39m.\u001b[39menable_auto_cast_variables(\n\u001b[0;32m    630\u001b[0m         layer\u001b[39m.\u001b[39m_compute_dtype_object\n\u001b[0;32m    631\u001b[0m     ):\n\u001b[1;32m--> 632\u001b[0m         ret \u001b[39m=\u001b[39m method(\u001b[39m*\u001b[39;49margs, \u001b[39m*\u001b[39;49m\u001b[39m*\u001b[39;49mkwargs)\n\u001b[0;32m    633\u001b[0m _restore_layer_losses(original_losses)\n\u001b[0;32m    634\u001b[0m \u001b[39mreturn\u001b[39;00m ret\n",
      "File \u001b[1;32md:\\Users\\Admin\\anaconda3\\Lib\\site-packages\\keras\\src\\saving\\legacy\\saved_model\\save_impl.py:553\u001b[0m, in \u001b[0;36mLayerCallCollection._maybe_wrap_with_training_arg.<locals>.wrap_with_training_arg\u001b[1;34m(*args, **kwargs)\u001b[0m\n\u001b[0;32m    544\u001b[0m     kwargs \u001b[39m=\u001b[39m kwargs\u001b[39m.\u001b[39mcopy()\n\u001b[0;32m    545\u001b[0m     (args, kwargs,) \u001b[39m=\u001b[39m \u001b[39mself\u001b[39m\u001b[39m.\u001b[39m_call_spec\u001b[39m.\u001b[39mset_arg_value(\n\u001b[0;32m    546\u001b[0m         \u001b[39m\"\u001b[39m\u001b[39mtraining\u001b[39m\u001b[39m\"\u001b[39m,\n\u001b[0;32m    547\u001b[0m         \u001b[39mNone\u001b[39;00m,\n\u001b[1;32m   (...)\u001b[0m\n\u001b[0;32m    551\u001b[0m         pop_kwarg_if_none\u001b[39m=\u001b[39m\u001b[39mTrue\u001b[39;00m,\n\u001b[0;32m    552\u001b[0m     )\n\u001b[1;32m--> 553\u001b[0m \u001b[39mreturn\u001b[39;00m call_fn(\u001b[39m*\u001b[39;49margs, \u001b[39m*\u001b[39;49m\u001b[39m*\u001b[39;49mkwargs)\n",
      "File \u001b[1;32md:\\Users\\Admin\\anaconda3\\Lib\\site-packages\\keras\\src\\saving\\legacy\\saved_model\\save_impl.py:698\u001b[0m, in \u001b[0;36m_wrap_call_and_conditional_losses.<locals>.call_and_return_conditional_losses\u001b[1;34m(*args, **kwargs)\u001b[0m\n\u001b[0;32m    696\u001b[0m \u001b[39mdef\u001b[39;00m \u001b[39mcall_and_return_conditional_losses\u001b[39m(\u001b[39m*\u001b[39margs, \u001b[39m*\u001b[39m\u001b[39m*\u001b[39mkwargs):\n\u001b[0;32m    697\u001b[0m \u001b[39m    \u001b[39m\u001b[39m\"\"\"Returns layer (call_output, conditional losses) tuple.\"\"\"\u001b[39;00m\n\u001b[1;32m--> 698\u001b[0m     call_output \u001b[39m=\u001b[39m layer_call(\u001b[39m*\u001b[39;49margs, \u001b[39m*\u001b[39;49m\u001b[39m*\u001b[39;49mkwargs)\n\u001b[0;32m    699\u001b[0m     \u001b[39mif\u001b[39;00m version_utils\u001b[39m.\u001b[39mis_v1_layer_or_model(layer):\n\u001b[0;32m    700\u001b[0m         conditional_losses \u001b[39m=\u001b[39m layer\u001b[39m.\u001b[39mget_losses_for(\n\u001b[0;32m    701\u001b[0m             _filtered_inputs([args, kwargs])\n\u001b[0;32m    702\u001b[0m         )\n",
      "\u001b[1;32mc:\\Users\\Admin\\AI-Trading-Assistant\\AI_Trading_Assistant_Model\\test.ipynb Cell 42\u001b[0m line \u001b[0;36m2\n\u001b[0;32m     <a href='vscode-notebook-cell:/c%3A/Users/Admin/AI-Trading-Assistant/AI_Trading_Assistant_Model/test.ipynb#X50sZmlsZQ%3D%3D?line=18'>19</a>\u001b[0m \u001b[39mdef\u001b[39;00m \u001b[39mcall\u001b[39m(\u001b[39mself\u001b[39m, x):\n\u001b[1;32m---> <a href='vscode-notebook-cell:/c%3A/Users/Admin/AI-Trading-Assistant/AI_Trading_Assistant_Model/test.ipynb#X50sZmlsZQ%3D%3D?line=19'>20</a>\u001b[0m     x \u001b[39m=\u001b[39m \u001b[39mself\u001b[39;49m\u001b[39m.\u001b[39;49mTransformerBlock(x)\n\u001b[0;32m     <a href='vscode-notebook-cell:/c%3A/Users/Admin/AI-Trading-Assistant/AI_Trading_Assistant_Model/test.ipynb#X50sZmlsZQ%3D%3D?line=20'>21</a>\u001b[0m     x \u001b[39m=\u001b[39m \u001b[39mself\u001b[39m\u001b[39m.\u001b[39mT2S(x)\n\u001b[0;32m     <a href='vscode-notebook-cell:/c%3A/Users/Admin/AI-Trading-Assistant/AI_Trading_Assistant_Model/test.ipynb#X50sZmlsZQ%3D%3D?line=22'>23</a>\u001b[0m     \u001b[39mreturn\u001b[39;00m x\n",
      "File \u001b[1;32md:\\Users\\Admin\\anaconda3\\Lib\\site-packages\\keras\\src\\utils\\traceback_utils.py:65\u001b[0m, in \u001b[0;36mfilter_traceback.<locals>.error_handler\u001b[1;34m(*args, **kwargs)\u001b[0m\n\u001b[0;32m     63\u001b[0m filtered_tb \u001b[39m=\u001b[39m \u001b[39mNone\u001b[39;00m\n\u001b[0;32m     64\u001b[0m \u001b[39mtry\u001b[39;00m:\n\u001b[1;32m---> 65\u001b[0m     \u001b[39mreturn\u001b[39;00m fn(\u001b[39m*\u001b[39;49margs, \u001b[39m*\u001b[39;49m\u001b[39m*\u001b[39;49mkwargs)\n\u001b[0;32m     66\u001b[0m \u001b[39mexcept\u001b[39;00m \u001b[39mException\u001b[39;00m \u001b[39mas\u001b[39;00m e:\n\u001b[0;32m     67\u001b[0m     filtered_tb \u001b[39m=\u001b[39m _process_traceback_frames(e\u001b[39m.\u001b[39m__traceback__)\n",
      "File \u001b[1;32md:\\Users\\Admin\\anaconda3\\Lib\\site-packages\\keras\\src\\engine\\base_layer.py:1149\u001b[0m, in \u001b[0;36mLayer.__call__\u001b[1;34m(self, *args, **kwargs)\u001b[0m\n\u001b[0;32m   1144\u001b[0m     inputs \u001b[39m=\u001b[39m \u001b[39mself\u001b[39m\u001b[39m.\u001b[39m_maybe_cast_inputs(inputs, input_list)\n\u001b[0;32m   1146\u001b[0m \u001b[39mwith\u001b[39;00m autocast_variable\u001b[39m.\u001b[39menable_auto_cast_variables(\n\u001b[0;32m   1147\u001b[0m     \u001b[39mself\u001b[39m\u001b[39m.\u001b[39m_compute_dtype_object\n\u001b[0;32m   1148\u001b[0m ):\n\u001b[1;32m-> 1149\u001b[0m     outputs \u001b[39m=\u001b[39m call_fn(inputs, \u001b[39m*\u001b[39;49margs, \u001b[39m*\u001b[39;49m\u001b[39m*\u001b[39;49mkwargs)\n\u001b[0;32m   1151\u001b[0m \u001b[39mif\u001b[39;00m \u001b[39mself\u001b[39m\u001b[39m.\u001b[39m_activity_regularizer:\n\u001b[0;32m   1152\u001b[0m     \u001b[39mself\u001b[39m\u001b[39m.\u001b[39m_handle_activity_regularization(inputs, outputs)\n",
      "File \u001b[1;32md:\\Users\\Admin\\anaconda3\\Lib\\site-packages\\keras\\src\\utils\\traceback_utils.py:96\u001b[0m, in \u001b[0;36minject_argument_info_in_traceback.<locals>.error_handler\u001b[1;34m(*args, **kwargs)\u001b[0m\n\u001b[0;32m     94\u001b[0m bound_signature \u001b[39m=\u001b[39m \u001b[39mNone\u001b[39;00m\n\u001b[0;32m     95\u001b[0m \u001b[39mtry\u001b[39;00m:\n\u001b[1;32m---> 96\u001b[0m     \u001b[39mreturn\u001b[39;00m fn(\u001b[39m*\u001b[39;49margs, \u001b[39m*\u001b[39;49m\u001b[39m*\u001b[39;49mkwargs)\n\u001b[0;32m     97\u001b[0m \u001b[39mexcept\u001b[39;00m \u001b[39mException\u001b[39;00m \u001b[39mas\u001b[39;00m e:\n\u001b[0;32m     98\u001b[0m     \u001b[39mif\u001b[39;00m \u001b[39mhasattr\u001b[39m(e, \u001b[39m\"\u001b[39m\u001b[39m_keras_call_info_injected\u001b[39m\u001b[39m\"\u001b[39m):\n\u001b[0;32m     99\u001b[0m         \u001b[39m# Only inject info for the innermost failing call\u001b[39;00m\n",
      "File \u001b[1;32md:\\Users\\Admin\\anaconda3\\Lib\\site-packages\\keras\\src\\saving\\legacy\\saved_model\\utils.py:65\u001b[0m, in \u001b[0;36muse_wrapped_call.<locals>.return_outputs_and_add_losses\u001b[1;34m(*args, **kwargs)\u001b[0m\n\u001b[0;32m     62\u001b[0m \u001b[39mif\u001b[39;00m return_method:\n\u001b[0;32m     63\u001b[0m     args \u001b[39m=\u001b[39m args[\u001b[39m1\u001b[39m:]\n\u001b[1;32m---> 65\u001b[0m outputs, losses \u001b[39m=\u001b[39m fn(\u001b[39m*\u001b[39;49margs, \u001b[39m*\u001b[39;49m\u001b[39m*\u001b[39;49mkwargs)\n\u001b[0;32m     66\u001b[0m layer\u001b[39m.\u001b[39madd_loss(losses)\n\u001b[0;32m     68\u001b[0m \u001b[39m# TODO(kathywu): This is a temporary hack. When a network of layers is\u001b[39;00m\n\u001b[0;32m     69\u001b[0m \u001b[39m# revived from SavedModel, only the top-level layer will have losses.\u001b[39;00m\n\u001b[0;32m     70\u001b[0m \u001b[39m# This causes issues in eager mode because the child layers may have\u001b[39;00m\n\u001b[1;32m   (...)\u001b[0m\n\u001b[0;32m     73\u001b[0m \u001b[39m# add eager losses to all child layers. This causes `.losses` to only\u001b[39;00m\n\u001b[0;32m     74\u001b[0m \u001b[39m# return eager losses.\u001b[39;00m\n",
      "File \u001b[1;32md:\\Users\\Admin\\anaconda3\\Lib\\site-packages\\keras\\src\\saving\\legacy\\saved_model\\utils.py:190\u001b[0m, in \u001b[0;36mmaybe_add_training_arg.<locals>.wrap_with_training_arg\u001b[1;34m(*args, **kwargs)\u001b[0m\n\u001b[0;32m    185\u001b[0m     new_args, new_kwargs \u001b[39m=\u001b[39m call_spec\u001b[39m.\u001b[39mset_arg_value(\n\u001b[0;32m    186\u001b[0m         \u001b[39m\"\u001b[39m\u001b[39mtraining\u001b[39m\u001b[39m\"\u001b[39m, training, args, kwargs, inputs_in_args\u001b[39m=\u001b[39m\u001b[39mTrue\u001b[39;00m\n\u001b[0;32m    187\u001b[0m     )\n\u001b[0;32m    188\u001b[0m     \u001b[39mreturn\u001b[39;00m wrapped_call(\u001b[39m*\u001b[39mnew_args, \u001b[39m*\u001b[39m\u001b[39m*\u001b[39mnew_kwargs)\n\u001b[1;32m--> 190\u001b[0m \u001b[39mreturn\u001b[39;00m control_flow_util\u001b[39m.\u001b[39;49msmart_cond(\n\u001b[0;32m    191\u001b[0m     training,\n\u001b[0;32m    192\u001b[0m     \u001b[39mlambda\u001b[39;49;00m: replace_training_and_call(\u001b[39mTrue\u001b[39;49;00m),\n\u001b[0;32m    193\u001b[0m     \u001b[39mlambda\u001b[39;49;00m: replace_training_and_call(\u001b[39mFalse\u001b[39;49;00m),\n\u001b[0;32m    194\u001b[0m )\n",
      "File \u001b[1;32md:\\Users\\Admin\\anaconda3\\Lib\\site-packages\\keras\\src\\utils\\control_flow_util.py:108\u001b[0m, in \u001b[0;36msmart_cond\u001b[1;34m(pred, true_fn, false_fn, name)\u001b[0m\n\u001b[0;32m    106\u001b[0m \u001b[39mif\u001b[39;00m \u001b[39misinstance\u001b[39m(pred, tf\u001b[39m.\u001b[39mVariable):\n\u001b[0;32m    107\u001b[0m     \u001b[39mreturn\u001b[39;00m tf\u001b[39m.\u001b[39mcond(pred, true_fn\u001b[39m=\u001b[39mtrue_fn, false_fn\u001b[39m=\u001b[39mfalse_fn, name\u001b[39m=\u001b[39mname)\n\u001b[1;32m--> 108\u001b[0m \u001b[39mreturn\u001b[39;00m tf\u001b[39m.\u001b[39;49m__internal__\u001b[39m.\u001b[39;49msmart_cond\u001b[39m.\u001b[39;49msmart_cond(\n\u001b[0;32m    109\u001b[0m     pred, true_fn\u001b[39m=\u001b[39;49mtrue_fn, false_fn\u001b[39m=\u001b[39;49mfalse_fn, name\u001b[39m=\u001b[39;49mname\n\u001b[0;32m    110\u001b[0m )\n",
      "File \u001b[1;32md:\\Users\\Admin\\anaconda3\\Lib\\site-packages\\tensorflow\\python\\framework\\smart_cond.py:53\u001b[0m, in \u001b[0;36msmart_cond\u001b[1;34m(pred, true_fn, false_fn, name)\u001b[0m\n\u001b[0;32m     51\u001b[0m \u001b[39mif\u001b[39;00m pred_value \u001b[39mis\u001b[39;00m \u001b[39mnot\u001b[39;00m \u001b[39mNone\u001b[39;00m:\n\u001b[0;32m     52\u001b[0m   \u001b[39mif\u001b[39;00m pred_value:\n\u001b[1;32m---> 53\u001b[0m     \u001b[39mreturn\u001b[39;00m true_fn()\n\u001b[0;32m     54\u001b[0m   \u001b[39melse\u001b[39;00m:\n\u001b[0;32m     55\u001b[0m     \u001b[39mreturn\u001b[39;00m false_fn()\n",
      "File \u001b[1;32md:\\Users\\Admin\\anaconda3\\Lib\\site-packages\\keras\\src\\saving\\legacy\\saved_model\\utils.py:192\u001b[0m, in \u001b[0;36mmaybe_add_training_arg.<locals>.wrap_with_training_arg.<locals>.<lambda>\u001b[1;34m()\u001b[0m\n\u001b[0;32m    185\u001b[0m     new_args, new_kwargs \u001b[39m=\u001b[39m call_spec\u001b[39m.\u001b[39mset_arg_value(\n\u001b[0;32m    186\u001b[0m         \u001b[39m\"\u001b[39m\u001b[39mtraining\u001b[39m\u001b[39m\"\u001b[39m, training, args, kwargs, inputs_in_args\u001b[39m=\u001b[39m\u001b[39mTrue\u001b[39;00m\n\u001b[0;32m    187\u001b[0m     )\n\u001b[0;32m    188\u001b[0m     \u001b[39mreturn\u001b[39;00m wrapped_call(\u001b[39m*\u001b[39mnew_args, \u001b[39m*\u001b[39m\u001b[39m*\u001b[39mnew_kwargs)\n\u001b[0;32m    190\u001b[0m \u001b[39mreturn\u001b[39;00m control_flow_util\u001b[39m.\u001b[39msmart_cond(\n\u001b[0;32m    191\u001b[0m     training,\n\u001b[1;32m--> 192\u001b[0m     \u001b[39mlambda\u001b[39;00m: replace_training_and_call(\u001b[39mTrue\u001b[39;49;00m),\n\u001b[0;32m    193\u001b[0m     \u001b[39mlambda\u001b[39;00m: replace_training_and_call(\u001b[39mFalse\u001b[39;00m),\n\u001b[0;32m    194\u001b[0m )\n",
      "File \u001b[1;32md:\\Users\\Admin\\anaconda3\\Lib\\site-packages\\keras\\src\\saving\\legacy\\saved_model\\utils.py:188\u001b[0m, in \u001b[0;36mmaybe_add_training_arg.<locals>.wrap_with_training_arg.<locals>.replace_training_and_call\u001b[1;34m(training)\u001b[0m\n\u001b[0;32m    184\u001b[0m \u001b[39mdef\u001b[39;00m \u001b[39mreplace_training_and_call\u001b[39m(training):\n\u001b[0;32m    185\u001b[0m     new_args, new_kwargs \u001b[39m=\u001b[39m call_spec\u001b[39m.\u001b[39mset_arg_value(\n\u001b[0;32m    186\u001b[0m         \u001b[39m\"\u001b[39m\u001b[39mtraining\u001b[39m\u001b[39m\"\u001b[39m, training, args, kwargs, inputs_in_args\u001b[39m=\u001b[39m\u001b[39mTrue\u001b[39;00m\n\u001b[0;32m    187\u001b[0m     )\n\u001b[1;32m--> 188\u001b[0m     \u001b[39mreturn\u001b[39;00m wrapped_call(\u001b[39m*\u001b[39;49mnew_args, \u001b[39m*\u001b[39;49m\u001b[39m*\u001b[39;49mnew_kwargs)\n",
      "File \u001b[1;32md:\\Users\\Admin\\anaconda3\\Lib\\site-packages\\keras\\src\\saving\\legacy\\saved_model\\save_impl.py:672\u001b[0m, in \u001b[0;36mLayerCall.__call__\u001b[1;34m(self, *args, **kwargs)\u001b[0m\n\u001b[0;32m    670\u001b[0m \u001b[39mdef\u001b[39;00m \u001b[39m__call__\u001b[39m(\u001b[39mself\u001b[39m, \u001b[39m*\u001b[39margs, \u001b[39m*\u001b[39m\u001b[39m*\u001b[39mkwargs):\n\u001b[0;32m    671\u001b[0m     \u001b[39mself\u001b[39m\u001b[39m.\u001b[39m_maybe_trace(args, kwargs)\n\u001b[1;32m--> 672\u001b[0m     \u001b[39mreturn\u001b[39;00m \u001b[39mself\u001b[39;49m\u001b[39m.\u001b[39;49mwrapped_call(\u001b[39m*\u001b[39;49margs, \u001b[39m*\u001b[39;49m\u001b[39m*\u001b[39;49mkwargs)\n",
      "File \u001b[1;32md:\\Users\\Admin\\anaconda3\\Lib\\site-packages\\tensorflow\\python\\util\\traceback_utils.py:150\u001b[0m, in \u001b[0;36mfilter_traceback.<locals>.error_handler\u001b[1;34m(*args, **kwargs)\u001b[0m\n\u001b[0;32m    148\u001b[0m filtered_tb \u001b[39m=\u001b[39m \u001b[39mNone\u001b[39;00m\n\u001b[0;32m    149\u001b[0m \u001b[39mtry\u001b[39;00m:\n\u001b[1;32m--> 150\u001b[0m   \u001b[39mreturn\u001b[39;00m fn(\u001b[39m*\u001b[39;49margs, \u001b[39m*\u001b[39;49m\u001b[39m*\u001b[39;49mkwargs)\n\u001b[0;32m    151\u001b[0m \u001b[39mexcept\u001b[39;00m \u001b[39mException\u001b[39;00m \u001b[39mas\u001b[39;00m e:\n\u001b[0;32m    152\u001b[0m   filtered_tb \u001b[39m=\u001b[39m _process_traceback_frames(e\u001b[39m.\u001b[39m__traceback__)\n",
      "File \u001b[1;32md:\\Users\\Admin\\anaconda3\\Lib\\site-packages\\tensorflow\\python\\eager\\polymorphic_function\\polymorphic_function.py:831\u001b[0m, in \u001b[0;36mFunction.__call__\u001b[1;34m(self, *args, **kwds)\u001b[0m\n\u001b[0;32m    828\u001b[0m compiler \u001b[39m=\u001b[39m \u001b[39m\"\u001b[39m\u001b[39mxla\u001b[39m\u001b[39m\"\u001b[39m \u001b[39mif\u001b[39;00m \u001b[39mself\u001b[39m\u001b[39m.\u001b[39m_jit_compile \u001b[39melse\u001b[39;00m \u001b[39m\"\u001b[39m\u001b[39mnonXla\u001b[39m\u001b[39m\"\u001b[39m\n\u001b[0;32m    830\u001b[0m \u001b[39mwith\u001b[39;00m OptionalXlaContext(\u001b[39mself\u001b[39m\u001b[39m.\u001b[39m_jit_compile):\n\u001b[1;32m--> 831\u001b[0m   result \u001b[39m=\u001b[39m \u001b[39mself\u001b[39;49m\u001b[39m.\u001b[39;49m_call(\u001b[39m*\u001b[39;49margs, \u001b[39m*\u001b[39;49m\u001b[39m*\u001b[39;49mkwds)\n\u001b[0;32m    833\u001b[0m new_tracing_count \u001b[39m=\u001b[39m \u001b[39mself\u001b[39m\u001b[39m.\u001b[39mexperimental_get_tracing_count()\n\u001b[0;32m    834\u001b[0m without_tracing \u001b[39m=\u001b[39m (tracing_count \u001b[39m==\u001b[39m new_tracing_count)\n",
      "File \u001b[1;32md:\\Users\\Admin\\anaconda3\\Lib\\site-packages\\tensorflow\\python\\eager\\polymorphic_function\\polymorphic_function.py:887\u001b[0m, in \u001b[0;36mFunction._call\u001b[1;34m(self, *args, **kwds)\u001b[0m\n\u001b[0;32m    884\u001b[0m \u001b[39mtry\u001b[39;00m:\n\u001b[0;32m    885\u001b[0m   \u001b[39m# This is the first call of __call__, so we have to initialize.\u001b[39;00m\n\u001b[0;32m    886\u001b[0m   initializers \u001b[39m=\u001b[39m []\n\u001b[1;32m--> 887\u001b[0m   \u001b[39mself\u001b[39;49m\u001b[39m.\u001b[39;49m_initialize(args, kwds, add_initializers_to\u001b[39m=\u001b[39;49minitializers)\n\u001b[0;32m    888\u001b[0m \u001b[39mfinally\u001b[39;00m:\n\u001b[0;32m    889\u001b[0m   \u001b[39m# At this point we know that the initialization is complete (or less\u001b[39;00m\n\u001b[0;32m    890\u001b[0m   \u001b[39m# interestingly an exception was raised) so we no longer need a lock.\u001b[39;00m\n\u001b[0;32m    891\u001b[0m   \u001b[39mself\u001b[39m\u001b[39m.\u001b[39m_lock\u001b[39m.\u001b[39mrelease()\n",
      "File \u001b[1;32md:\\Users\\Admin\\anaconda3\\Lib\\site-packages\\tensorflow\\python\\eager\\polymorphic_function\\polymorphic_function.py:694\u001b[0m, in \u001b[0;36mFunction._initialize\u001b[1;34m(self, args, kwds, add_initializers_to)\u001b[0m\n\u001b[0;32m    689\u001b[0m \u001b[39mself\u001b[39m\u001b[39m.\u001b[39m_variable_creation_config \u001b[39m=\u001b[39m \u001b[39mself\u001b[39m\u001b[39m.\u001b[39m_generate_scoped_tracing_options(\n\u001b[0;32m    690\u001b[0m     variable_capturing_scope,\n\u001b[0;32m    691\u001b[0m     tracing_compilation\u001b[39m.\u001b[39mScopeType\u001b[39m.\u001b[39mVARIABLE_CREATION,\n\u001b[0;32m    692\u001b[0m )\n\u001b[0;32m    693\u001b[0m \u001b[39m# Force the definition of the function for these arguments\u001b[39;00m\n\u001b[1;32m--> 694\u001b[0m \u001b[39mself\u001b[39m\u001b[39m.\u001b[39m_concrete_variable_creation_fn \u001b[39m=\u001b[39m tracing_compilation\u001b[39m.\u001b[39;49mtrace_function(\n\u001b[0;32m    695\u001b[0m     args, kwds, \u001b[39mself\u001b[39;49m\u001b[39m.\u001b[39;49m_variable_creation_config\n\u001b[0;32m    696\u001b[0m )\n\u001b[0;32m    698\u001b[0m \u001b[39mdef\u001b[39;00m \u001b[39minvalid_creator_scope\u001b[39m(\u001b[39m*\u001b[39munused_args, \u001b[39m*\u001b[39m\u001b[39m*\u001b[39munused_kwds):\n\u001b[0;32m    699\u001b[0m \u001b[39m  \u001b[39m\u001b[39m\"\"\"Disables variable creation.\"\"\"\u001b[39;00m\n",
      "File \u001b[1;32md:\\Users\\Admin\\anaconda3\\Lib\\site-packages\\tensorflow\\python\\eager\\polymorphic_function\\tracing_compilation.py:178\u001b[0m, in \u001b[0;36mtrace_function\u001b[1;34m(args, kwargs, tracing_options)\u001b[0m\n\u001b[0;32m    175\u001b[0m     args \u001b[39m=\u001b[39m tracing_options\u001b[39m.\u001b[39minput_signature\n\u001b[0;32m    176\u001b[0m     kwargs \u001b[39m=\u001b[39m {}\n\u001b[1;32m--> 178\u001b[0m   concrete_function \u001b[39m=\u001b[39m _maybe_define_function(\n\u001b[0;32m    179\u001b[0m       args, kwargs, tracing_options\n\u001b[0;32m    180\u001b[0m   )\n\u001b[0;32m    181\u001b[0m   _set_arg_keywords(concrete_function)\n\u001b[0;32m    183\u001b[0m \u001b[39mif\u001b[39;00m \u001b[39mnot\u001b[39;00m tracing_options\u001b[39m.\u001b[39mbind_graph_to_function:\n",
      "File \u001b[1;32md:\\Users\\Admin\\anaconda3\\Lib\\site-packages\\tensorflow\\python\\eager\\polymorphic_function\\tracing_compilation.py:284\u001b[0m, in \u001b[0;36m_maybe_define_function\u001b[1;34m(args, kwargs, tracing_options)\u001b[0m\n\u001b[0;32m    282\u001b[0m \u001b[39melse\u001b[39;00m:\n\u001b[0;32m    283\u001b[0m   target_func_type \u001b[39m=\u001b[39m lookup_func_type\n\u001b[1;32m--> 284\u001b[0m concrete_function \u001b[39m=\u001b[39m _create_concrete_function(\n\u001b[0;32m    285\u001b[0m     target_func_type, lookup_func_context, func_graph, tracing_options\n\u001b[0;32m    286\u001b[0m )\n\u001b[0;32m    288\u001b[0m \u001b[39mif\u001b[39;00m tracing_options\u001b[39m.\u001b[39mfunction_cache \u001b[39mis\u001b[39;00m \u001b[39mnot\u001b[39;00m \u001b[39mNone\u001b[39;00m:\n\u001b[0;32m    289\u001b[0m   tracing_options\u001b[39m.\u001b[39mfunction_cache\u001b[39m.\u001b[39madd(\n\u001b[0;32m    290\u001b[0m       concrete_function, current_func_context\n\u001b[0;32m    291\u001b[0m   )\n",
      "File \u001b[1;32md:\\Users\\Admin\\anaconda3\\Lib\\site-packages\\tensorflow\\python\\eager\\polymorphic_function\\tracing_compilation.py:308\u001b[0m, in \u001b[0;36m_create_concrete_function\u001b[1;34m(function_type, type_context, func_graph, tracing_options)\u001b[0m\n\u001b[0;32m    303\u001b[0m \u001b[39mwith\u001b[39;00m func_graph\u001b[39m.\u001b[39mas_default():\n\u001b[0;32m    304\u001b[0m   placeholder_bound_args \u001b[39m=\u001b[39m function_type\u001b[39m.\u001b[39mplaceholder_arguments(\n\u001b[0;32m    305\u001b[0m       placeholder_context\n\u001b[0;32m    306\u001b[0m   )\n\u001b[1;32m--> 308\u001b[0m traced_func_graph \u001b[39m=\u001b[39m func_graph_module\u001b[39m.\u001b[39;49mfunc_graph_from_py_func(\n\u001b[0;32m    309\u001b[0m     tracing_options\u001b[39m.\u001b[39;49mname,\n\u001b[0;32m    310\u001b[0m     tracing_options\u001b[39m.\u001b[39;49mpython_function,\n\u001b[0;32m    311\u001b[0m     placeholder_bound_args\u001b[39m.\u001b[39;49margs,\n\u001b[0;32m    312\u001b[0m     placeholder_bound_args\u001b[39m.\u001b[39;49mkwargs,\n\u001b[0;32m    313\u001b[0m     \u001b[39mNone\u001b[39;49;00m,\n\u001b[0;32m    314\u001b[0m     func_graph\u001b[39m=\u001b[39;49mfunc_graph,\n\u001b[0;32m    315\u001b[0m     arg_names\u001b[39m=\u001b[39;49mfunction_type_utils\u001b[39m.\u001b[39;49mto_arg_names(function_type),\n\u001b[0;32m    316\u001b[0m     create_placeholders\u001b[39m=\u001b[39;49m\u001b[39mFalse\u001b[39;49;00m,\n\u001b[0;32m    317\u001b[0m )\n\u001b[0;32m    319\u001b[0m transform\u001b[39m.\u001b[39mapply_func_graph_transforms(traced_func_graph)\n\u001b[0;32m    321\u001b[0m graph_capture_container \u001b[39m=\u001b[39m traced_func_graph\u001b[39m.\u001b[39mfunction_captures\n",
      "File \u001b[1;32md:\\Users\\Admin\\anaconda3\\Lib\\site-packages\\tensorflow\\python\\framework\\func_graph.py:1059\u001b[0m, in \u001b[0;36mfunc_graph_from_py_func\u001b[1;34m(name, python_func, args, kwargs, signature, func_graph, add_control_dependencies, arg_names, op_return_value, collections, capture_by_value, create_placeholders)\u001b[0m\n\u001b[0;32m   1056\u001b[0m   \u001b[39mreturn\u001b[39;00m x\n\u001b[0;32m   1058\u001b[0m _, original_func \u001b[39m=\u001b[39m tf_decorator\u001b[39m.\u001b[39munwrap(python_func)\n\u001b[1;32m-> 1059\u001b[0m func_outputs \u001b[39m=\u001b[39m python_func(\u001b[39m*\u001b[39;49mfunc_args, \u001b[39m*\u001b[39;49m\u001b[39m*\u001b[39;49mfunc_kwargs)\n\u001b[0;32m   1061\u001b[0m \u001b[39m# invariant: `func_outputs` contains only Tensors, CompositeTensors,\u001b[39;00m\n\u001b[0;32m   1062\u001b[0m \u001b[39m# TensorArrays and `None`s.\u001b[39;00m\n\u001b[0;32m   1063\u001b[0m func_outputs \u001b[39m=\u001b[39m variable_utils\u001b[39m.\u001b[39mconvert_variables_to_tensors(func_outputs)\n",
      "File \u001b[1;32md:\\Users\\Admin\\anaconda3\\Lib\\site-packages\\tensorflow\\python\\eager\\polymorphic_function\\polymorphic_function.py:597\u001b[0m, in \u001b[0;36mFunction._generate_scoped_tracing_options.<locals>.wrapped_fn\u001b[1;34m(*args, **kwds)\u001b[0m\n\u001b[0;32m    593\u001b[0m \u001b[39mwith\u001b[39;00m default_graph\u001b[39m.\u001b[39m_variable_creator_scope(scope, priority\u001b[39m=\u001b[39m\u001b[39m50\u001b[39m):  \u001b[39m# pylint: disable=protected-access\u001b[39;00m\n\u001b[0;32m    594\u001b[0m   \u001b[39m# __wrapped__ allows AutoGraph to swap in a converted function. We give\u001b[39;00m\n\u001b[0;32m    595\u001b[0m   \u001b[39m# the function a weak reference to itself to avoid a reference cycle.\u001b[39;00m\n\u001b[0;32m    596\u001b[0m   \u001b[39mwith\u001b[39;00m OptionalXlaContext(compile_with_xla):\n\u001b[1;32m--> 597\u001b[0m     out \u001b[39m=\u001b[39m weak_wrapped_fn()\u001b[39m.\u001b[39;49m__wrapped__(\u001b[39m*\u001b[39;49margs, \u001b[39m*\u001b[39;49m\u001b[39m*\u001b[39;49mkwds)\n\u001b[0;32m    598\u001b[0m   \u001b[39mreturn\u001b[39;00m out\n",
      "File \u001b[1;32md:\\Users\\Admin\\anaconda3\\Lib\\site-packages\\keras\\src\\saving\\legacy\\saved_model\\save_impl.py:632\u001b[0m, in \u001b[0;36mlayer_call_wrapper.<locals>.wrapper\u001b[1;34m(*args, **kwargs)\u001b[0m\n\u001b[0;32m    622\u001b[0m \u001b[39mwith\u001b[39;00m base_layer_utils\u001b[39m.\u001b[39mcall_context()\u001b[39m.\u001b[39menter(\n\u001b[0;32m    623\u001b[0m     layer,\n\u001b[0;32m    624\u001b[0m     inputs\u001b[39m=\u001b[39minputs,\n\u001b[1;32m   (...)\u001b[0m\n\u001b[0;32m    627\u001b[0m     saving\u001b[39m=\u001b[39m\u001b[39mTrue\u001b[39;00m,\n\u001b[0;32m    628\u001b[0m ):\n\u001b[0;32m    629\u001b[0m     \u001b[39mwith\u001b[39;00m autocast_variable\u001b[39m.\u001b[39menable_auto_cast_variables(\n\u001b[0;32m    630\u001b[0m         layer\u001b[39m.\u001b[39m_compute_dtype_object\n\u001b[0;32m    631\u001b[0m     ):\n\u001b[1;32m--> 632\u001b[0m         ret \u001b[39m=\u001b[39m method(\u001b[39m*\u001b[39;49margs, \u001b[39m*\u001b[39;49m\u001b[39m*\u001b[39;49mkwargs)\n\u001b[0;32m    633\u001b[0m _restore_layer_losses(original_losses)\n\u001b[0;32m    634\u001b[0m \u001b[39mreturn\u001b[39;00m ret\n",
      "File \u001b[1;32md:\\Users\\Admin\\anaconda3\\Lib\\site-packages\\keras\\src\\saving\\legacy\\saved_model\\save_impl.py:553\u001b[0m, in \u001b[0;36mLayerCallCollection._maybe_wrap_with_training_arg.<locals>.wrap_with_training_arg\u001b[1;34m(*args, **kwargs)\u001b[0m\n\u001b[0;32m    544\u001b[0m     kwargs \u001b[39m=\u001b[39m kwargs\u001b[39m.\u001b[39mcopy()\n\u001b[0;32m    545\u001b[0m     (args, kwargs,) \u001b[39m=\u001b[39m \u001b[39mself\u001b[39m\u001b[39m.\u001b[39m_call_spec\u001b[39m.\u001b[39mset_arg_value(\n\u001b[0;32m    546\u001b[0m         \u001b[39m\"\u001b[39m\u001b[39mtraining\u001b[39m\u001b[39m\"\u001b[39m,\n\u001b[0;32m    547\u001b[0m         \u001b[39mNone\u001b[39;00m,\n\u001b[1;32m   (...)\u001b[0m\n\u001b[0;32m    551\u001b[0m         pop_kwarg_if_none\u001b[39m=\u001b[39m\u001b[39mTrue\u001b[39;00m,\n\u001b[0;32m    552\u001b[0m     )\n\u001b[1;32m--> 553\u001b[0m \u001b[39mreturn\u001b[39;00m call_fn(\u001b[39m*\u001b[39;49margs, \u001b[39m*\u001b[39;49m\u001b[39m*\u001b[39;49mkwargs)\n",
      "File \u001b[1;32md:\\Users\\Admin\\anaconda3\\Lib\\site-packages\\keras\\src\\saving\\legacy\\saved_model\\save_impl.py:698\u001b[0m, in \u001b[0;36m_wrap_call_and_conditional_losses.<locals>.call_and_return_conditional_losses\u001b[1;34m(*args, **kwargs)\u001b[0m\n\u001b[0;32m    696\u001b[0m \u001b[39mdef\u001b[39;00m \u001b[39mcall_and_return_conditional_losses\u001b[39m(\u001b[39m*\u001b[39margs, \u001b[39m*\u001b[39m\u001b[39m*\u001b[39mkwargs):\n\u001b[0;32m    697\u001b[0m \u001b[39m    \u001b[39m\u001b[39m\"\"\"Returns layer (call_output, conditional losses) tuple.\"\"\"\u001b[39;00m\n\u001b[1;32m--> 698\u001b[0m     call_output \u001b[39m=\u001b[39m layer_call(\u001b[39m*\u001b[39;49margs, \u001b[39m*\u001b[39;49m\u001b[39m*\u001b[39;49mkwargs)\n\u001b[0;32m    699\u001b[0m     \u001b[39mif\u001b[39;00m version_utils\u001b[39m.\u001b[39mis_v1_layer_or_model(layer):\n\u001b[0;32m    700\u001b[0m         conditional_losses \u001b[39m=\u001b[39m layer\u001b[39m.\u001b[39mget_losses_for(\n\u001b[0;32m    701\u001b[0m             _filtered_inputs([args, kwargs])\n\u001b[0;32m    702\u001b[0m         )\n",
      "\u001b[1;32mc:\\Users\\Admin\\AI-Trading-Assistant\\AI_Trading_Assistant_Model\\test.ipynb Cell 42\u001b[0m line \u001b[0;36m2\n\u001b[0;32m     <a href='vscode-notebook-cell:/c%3A/Users/Admin/AI-Trading-Assistant/AI_Trading_Assistant_Model/test.ipynb#X50sZmlsZQ%3D%3D?line=22'>23</a>\u001b[0m \u001b[39mdef\u001b[39;00m \u001b[39mcall\u001b[39m(\u001b[39mself\u001b[39m, x):\n\u001b[0;32m     <a href='vscode-notebook-cell:/c%3A/Users/Admin/AI-Trading-Assistant/AI_Trading_Assistant_Model/test.ipynb#X50sZmlsZQ%3D%3D?line=23'>24</a>\u001b[0m     x \u001b[39m=\u001b[39m \u001b[39mself\u001b[39m\u001b[39m.\u001b[39mtokenize(x\u001b[39m=\u001b[39mx)\n\u001b[1;32m---> <a href='vscode-notebook-cell:/c%3A/Users/Admin/AI-Trading-Assistant/AI_Trading_Assistant_Model/test.ipynb#X50sZmlsZQ%3D%3D?line=24'>25</a>\u001b[0m     x \u001b[39m=\u001b[39m \u001b[39mself\u001b[39;49m\u001b[39m.\u001b[39;49mattentionchannel(x)\n\u001b[0;32m     <a href='vscode-notebook-cell:/c%3A/Users/Admin/AI-Trading-Assistant/AI_Trading_Assistant_Model/test.ipynb#X50sZmlsZQ%3D%3D?line=25'>26</a>\u001b[0m     x_t \u001b[39m=\u001b[39m \u001b[39mself\u001b[39m\u001b[39m.\u001b[39mattentiontoken(x)\n\u001b[0;32m     <a href='vscode-notebook-cell:/c%3A/Users/Admin/AI-Trading-Assistant/AI_Trading_Assistant_Model/test.ipynb#X50sZmlsZQ%3D%3D?line=26'>27</a>\u001b[0m     x \u001b[39m=\u001b[39m \u001b[39mself\u001b[39m\u001b[39m.\u001b[39madd_norm([x, x_t])\n",
      "File \u001b[1;32md:\\Users\\Admin\\anaconda3\\Lib\\site-packages\\keras\\src\\utils\\traceback_utils.py:65\u001b[0m, in \u001b[0;36mfilter_traceback.<locals>.error_handler\u001b[1;34m(*args, **kwargs)\u001b[0m\n\u001b[0;32m     63\u001b[0m filtered_tb \u001b[39m=\u001b[39m \u001b[39mNone\u001b[39;00m\n\u001b[0;32m     64\u001b[0m \u001b[39mtry\u001b[39;00m:\n\u001b[1;32m---> 65\u001b[0m     \u001b[39mreturn\u001b[39;00m fn(\u001b[39m*\u001b[39;49margs, \u001b[39m*\u001b[39;49m\u001b[39m*\u001b[39;49mkwargs)\n\u001b[0;32m     66\u001b[0m \u001b[39mexcept\u001b[39;00m \u001b[39mException\u001b[39;00m \u001b[39mas\u001b[39;00m e:\n\u001b[0;32m     67\u001b[0m     filtered_tb \u001b[39m=\u001b[39m _process_traceback_frames(e\u001b[39m.\u001b[39m__traceback__)\n",
      "File \u001b[1;32md:\\Users\\Admin\\anaconda3\\Lib\\site-packages\\keras\\src\\engine\\base_layer.py:1149\u001b[0m, in \u001b[0;36mLayer.__call__\u001b[1;34m(self, *args, **kwargs)\u001b[0m\n\u001b[0;32m   1144\u001b[0m     inputs \u001b[39m=\u001b[39m \u001b[39mself\u001b[39m\u001b[39m.\u001b[39m_maybe_cast_inputs(inputs, input_list)\n\u001b[0;32m   1146\u001b[0m \u001b[39mwith\u001b[39;00m autocast_variable\u001b[39m.\u001b[39menable_auto_cast_variables(\n\u001b[0;32m   1147\u001b[0m     \u001b[39mself\u001b[39m\u001b[39m.\u001b[39m_compute_dtype_object\n\u001b[0;32m   1148\u001b[0m ):\n\u001b[1;32m-> 1149\u001b[0m     outputs \u001b[39m=\u001b[39m call_fn(inputs, \u001b[39m*\u001b[39;49margs, \u001b[39m*\u001b[39;49m\u001b[39m*\u001b[39;49mkwargs)\n\u001b[0;32m   1151\u001b[0m \u001b[39mif\u001b[39;00m \u001b[39mself\u001b[39m\u001b[39m.\u001b[39m_activity_regularizer:\n\u001b[0;32m   1152\u001b[0m     \u001b[39mself\u001b[39m\u001b[39m.\u001b[39m_handle_activity_regularization(inputs, outputs)\n",
      "File \u001b[1;32md:\\Users\\Admin\\anaconda3\\Lib\\site-packages\\keras\\src\\utils\\traceback_utils.py:96\u001b[0m, in \u001b[0;36minject_argument_info_in_traceback.<locals>.error_handler\u001b[1;34m(*args, **kwargs)\u001b[0m\n\u001b[0;32m     94\u001b[0m bound_signature \u001b[39m=\u001b[39m \u001b[39mNone\u001b[39;00m\n\u001b[0;32m     95\u001b[0m \u001b[39mtry\u001b[39;00m:\n\u001b[1;32m---> 96\u001b[0m     \u001b[39mreturn\u001b[39;00m fn(\u001b[39m*\u001b[39;49margs, \u001b[39m*\u001b[39;49m\u001b[39m*\u001b[39;49mkwargs)\n\u001b[0;32m     97\u001b[0m \u001b[39mexcept\u001b[39;00m \u001b[39mException\u001b[39;00m \u001b[39mas\u001b[39;00m e:\n\u001b[0;32m     98\u001b[0m     \u001b[39mif\u001b[39;00m \u001b[39mhasattr\u001b[39m(e, \u001b[39m\"\u001b[39m\u001b[39m_keras_call_info_injected\u001b[39m\u001b[39m\"\u001b[39m):\n\u001b[0;32m     99\u001b[0m         \u001b[39m# Only inject info for the innermost failing call\u001b[39;00m\n",
      "File \u001b[1;32md:\\Users\\Admin\\anaconda3\\Lib\\site-packages\\tensorflow\\python\\autograph\\impl\\api.py:690\u001b[0m, in \u001b[0;36mconvert.<locals>.decorator.<locals>.wrapper\u001b[1;34m(*args, **kwargs)\u001b[0m\n\u001b[0;32m    688\u001b[0m \u001b[39mtry\u001b[39;00m:\n\u001b[0;32m    689\u001b[0m   \u001b[39mwith\u001b[39;00m conversion_ctx:\n\u001b[1;32m--> 690\u001b[0m     \u001b[39mreturn\u001b[39;00m converted_call(f, args, kwargs, options\u001b[39m=\u001b[39;49moptions)\n\u001b[0;32m    691\u001b[0m \u001b[39mexcept\u001b[39;00m \u001b[39mException\u001b[39;00m \u001b[39mas\u001b[39;00m e:  \u001b[39m# pylint:disable=broad-except\u001b[39;00m\n\u001b[0;32m    692\u001b[0m   \u001b[39mif\u001b[39;00m \u001b[39mhasattr\u001b[39m(e, \u001b[39m'\u001b[39m\u001b[39mag_error_metadata\u001b[39m\u001b[39m'\u001b[39m):\n",
      "File \u001b[1;32md:\\Users\\Admin\\anaconda3\\Lib\\site-packages\\tensorflow\\python\\autograph\\impl\\api.py:439\u001b[0m, in \u001b[0;36mconverted_call\u001b[1;34m(f, args, kwargs, caller_fn_scope, options)\u001b[0m\n\u001b[0;32m    437\u001b[0m \u001b[39mtry\u001b[39;00m:\n\u001b[0;32m    438\u001b[0m   \u001b[39mif\u001b[39;00m kwargs \u001b[39mis\u001b[39;00m \u001b[39mnot\u001b[39;00m \u001b[39mNone\u001b[39;00m:\n\u001b[1;32m--> 439\u001b[0m     result \u001b[39m=\u001b[39m converted_f(\u001b[39m*\u001b[39;49meffective_args, \u001b[39m*\u001b[39;49m\u001b[39m*\u001b[39;49mkwargs)\n\u001b[0;32m    440\u001b[0m   \u001b[39melse\u001b[39;00m:\n\u001b[0;32m    441\u001b[0m     result \u001b[39m=\u001b[39m converted_f(\u001b[39m*\u001b[39meffective_args)\n",
      "File \u001b[1;32m~\\AppData\\Local\\Temp\\__autograph_generated_file3xvn0fd7.py:24\u001b[0m, in \u001b[0;36mouter_factory.<locals>.inner_factory.<locals>.tf__call\u001b[1;34m(self, x)\u001b[0m\n\u001b[0;32m     22\u001b[0m     output \u001b[39m=\u001b[39m ag__\u001b[39m.\u001b[39mconverted_call(ag__\u001b[39m.\u001b[39mld(tf)\u001b[39m.\u001b[39mconcat, ([ag__\u001b[39m.\u001b[39mld(output), ag__\u001b[39m.\u001b[39mconverted_call(ag__\u001b[39m.\u001b[39mld(\u001b[39mself\u001b[39m)\u001b[39m.\u001b[39mlist_DAT[ag__\u001b[39m.\u001b[39mld(i)], (), \u001b[39mdict\u001b[39m(query\u001b[39m=\u001b[39mag__\u001b[39m.\u001b[39mld(x)[:, :, ag__\u001b[39m.\u001b[39mld(i):ag__\u001b[39m.\u001b[39mld(i) \u001b[39m+\u001b[39m \u001b[39m1\u001b[39m, :], key\u001b[39m=\u001b[39mag__\u001b[39m.\u001b[39mld(x)[:, :, ag__\u001b[39m.\u001b[39mld(i):ag__\u001b[39m.\u001b[39mld(i) \u001b[39m+\u001b[39m \u001b[39m1\u001b[39m, :], value\u001b[39m=\u001b[39mag__\u001b[39m.\u001b[39mld(x)[:, :, ag__\u001b[39m.\u001b[39mld(i):ag__\u001b[39m.\u001b[39mld(i) \u001b[39m+\u001b[39m \u001b[39m1\u001b[39m, :]), fscope)],), \u001b[39mdict\u001b[39m(axis\u001b[39m=\u001b[39m\u001b[39m2\u001b[39m), fscope)\n\u001b[0;32m     23\u001b[0m i \u001b[39m=\u001b[39m ag__\u001b[39m.\u001b[39mUndefined(\u001b[39m'\u001b[39m\u001b[39mi\u001b[39m\u001b[39m'\u001b[39m)\n\u001b[1;32m---> 24\u001b[0m ag__\u001b[39m.\u001b[39;49mfor_stmt(ag__\u001b[39m.\u001b[39;49mconverted_call(ag__\u001b[39m.\u001b[39;49mld(\u001b[39mrange\u001b[39;49m), (\u001b[39m1\u001b[39;49m, ag__\u001b[39m.\u001b[39;49mld(\u001b[39mself\u001b[39;49m)\u001b[39m.\u001b[39;49mnum_patch), \u001b[39mNone\u001b[39;49;00m, fscope), \u001b[39mNone\u001b[39;49;00m, loop_body, get_state, set_state, (\u001b[39m'\u001b[39;49m\u001b[39moutput\u001b[39;49m\u001b[39m'\u001b[39;49m,), {\u001b[39m'\u001b[39;49m\u001b[39miterate_names\u001b[39;49m\u001b[39m'\u001b[39;49m: \u001b[39m'\u001b[39;49m\u001b[39mi\u001b[39;49m\u001b[39m'\u001b[39;49m})\n\u001b[0;32m     25\u001b[0m \u001b[39mtry\u001b[39;00m:\n\u001b[0;32m     26\u001b[0m     do_return \u001b[39m=\u001b[39m \u001b[39mTrue\u001b[39;00m\n",
      "File \u001b[1;32md:\\Users\\Admin\\anaconda3\\Lib\\site-packages\\tensorflow\\python\\autograph\\operators\\control_flow.py:454\u001b[0m, in \u001b[0;36mfor_stmt\u001b[1;34m(iter_, extra_test, body, get_state, set_state, symbol_names, opts)\u001b[0m\n\u001b[0;32m    450\u001b[0m \u001b[39melif\u001b[39;00m \u001b[39misinstance\u001b[39m(iter_, distribute\u001b[39m.\u001b[39mIterable):\n\u001b[0;32m    451\u001b[0m   \u001b[39m# TODO(b/162250181): Use _tf_iterator_for_stmt(iter(iter_)...\u001b[39;00m\n\u001b[0;32m    452\u001b[0m   for_fn \u001b[39m=\u001b[39m _tf_distributed_iterable_for_stmt\n\u001b[1;32m--> 454\u001b[0m for_fn(iter_, extra_test, body, get_state, set_state, symbol_names, opts)\n",
      "File \u001b[1;32md:\\Users\\Admin\\anaconda3\\Lib\\site-packages\\tensorflow\\python\\autograph\\operators\\control_flow.py:505\u001b[0m, in \u001b[0;36m_py_for_stmt\u001b[1;34m(***failed resolving arguments***)\u001b[0m\n\u001b[0;32m    503\u001b[0m \u001b[39melse\u001b[39;00m:\n\u001b[0;32m    504\u001b[0m   \u001b[39mfor\u001b[39;00m target \u001b[39min\u001b[39;00m iter_:\n\u001b[1;32m--> 505\u001b[0m     body(target)\n",
      "File \u001b[1;32md:\\Users\\Admin\\anaconda3\\Lib\\site-packages\\tensorflow\\python\\autograph\\operators\\control_flow.py:471\u001b[0m, in \u001b[0;36m_py_for_stmt.<locals>.protected_body\u001b[1;34m(protected_iter)\u001b[0m\n\u001b[0;32m    470\u001b[0m \u001b[39mdef\u001b[39;00m \u001b[39mprotected_body\u001b[39m(protected_iter):\n\u001b[1;32m--> 471\u001b[0m   original_body(protected_iter)\n\u001b[0;32m    472\u001b[0m   after_iteration()\n\u001b[0;32m    473\u001b[0m   before_iteration()\n",
      "File \u001b[1;32m~\\AppData\\Local\\Temp\\__autograph_generated_file3xvn0fd7.py:22\u001b[0m, in \u001b[0;36mouter_factory.<locals>.inner_factory.<locals>.tf__call.<locals>.loop_body\u001b[1;34m(itr)\u001b[0m\n\u001b[0;32m     20\u001b[0m \u001b[39mnonlocal\u001b[39;00m output\n\u001b[0;32m     21\u001b[0m i \u001b[39m=\u001b[39m itr\n\u001b[1;32m---> 22\u001b[0m output \u001b[39m=\u001b[39m ag__\u001b[39m.\u001b[39mconverted_call(ag__\u001b[39m.\u001b[39mld(tf)\u001b[39m.\u001b[39mconcat, ([ag__\u001b[39m.\u001b[39mld(output), ag__\u001b[39m.\u001b[39;49mconverted_call(ag__\u001b[39m.\u001b[39;49mld(\u001b[39mself\u001b[39;49m)\u001b[39m.\u001b[39;49mlist_DAT[ag__\u001b[39m.\u001b[39;49mld(i)], (), \u001b[39mdict\u001b[39;49m(query\u001b[39m=\u001b[39;49mag__\u001b[39m.\u001b[39;49mld(x)[:, :, ag__\u001b[39m.\u001b[39;49mld(i):ag__\u001b[39m.\u001b[39;49mld(i) \u001b[39m+\u001b[39;49m \u001b[39m1\u001b[39;49m, :], key\u001b[39m=\u001b[39;49mag__\u001b[39m.\u001b[39;49mld(x)[:, :, ag__\u001b[39m.\u001b[39;49mld(i):ag__\u001b[39m.\u001b[39;49mld(i) \u001b[39m+\u001b[39;49m \u001b[39m1\u001b[39;49m, :], value\u001b[39m=\u001b[39;49mag__\u001b[39m.\u001b[39;49mld(x)[:, :, ag__\u001b[39m.\u001b[39;49mld(i):ag__\u001b[39m.\u001b[39;49mld(i) \u001b[39m+\u001b[39;49m \u001b[39m1\u001b[39;49m, :]), fscope)],), \u001b[39mdict\u001b[39m(axis\u001b[39m=\u001b[39m\u001b[39m2\u001b[39m), fscope)\n",
      "File \u001b[1;32md:\\Users\\Admin\\anaconda3\\Lib\\site-packages\\tensorflow\\python\\autograph\\impl\\api.py:331\u001b[0m, in \u001b[0;36mconverted_call\u001b[1;34m(f, args, kwargs, caller_fn_scope, options)\u001b[0m\n\u001b[0;32m    329\u001b[0m \u001b[39mif\u001b[39;00m conversion\u001b[39m.\u001b[39mis_in_allowlist_cache(f, options):\n\u001b[0;32m    330\u001b[0m   logging\u001b[39m.\u001b[39mlog(\u001b[39m2\u001b[39m, \u001b[39m'\u001b[39m\u001b[39mAllowlisted \u001b[39m\u001b[39m%s\u001b[39;00m\u001b[39m: from cache\u001b[39m\u001b[39m'\u001b[39m, f)\n\u001b[1;32m--> 331\u001b[0m   \u001b[39mreturn\u001b[39;00m _call_unconverted(f, args, kwargs, options, \u001b[39mFalse\u001b[39;49;00m)\n\u001b[0;32m    333\u001b[0m \u001b[39mif\u001b[39;00m ag_ctx\u001b[39m.\u001b[39mcontrol_status_ctx()\u001b[39m.\u001b[39mstatus \u001b[39m==\u001b[39m ag_ctx\u001b[39m.\u001b[39mStatus\u001b[39m.\u001b[39mDISABLED:\n\u001b[0;32m    334\u001b[0m   logging\u001b[39m.\u001b[39mlog(\u001b[39m2\u001b[39m, \u001b[39m'\u001b[39m\u001b[39mAllowlisted: \u001b[39m\u001b[39m%s\u001b[39;00m\u001b[39m: AutoGraph is disabled in context\u001b[39m\u001b[39m'\u001b[39m, f)\n",
      "File \u001b[1;32md:\\Users\\Admin\\anaconda3\\Lib\\site-packages\\tensorflow\\python\\autograph\\impl\\api.py:459\u001b[0m, in \u001b[0;36m_call_unconverted\u001b[1;34m(f, args, kwargs, options, update_cache)\u001b[0m\n\u001b[0;32m    456\u001b[0m   \u001b[39mreturn\u001b[39;00m f\u001b[39m.\u001b[39m\u001b[39m__self__\u001b[39m\u001b[39m.\u001b[39mcall(args, kwargs)\n\u001b[0;32m    458\u001b[0m \u001b[39mif\u001b[39;00m kwargs \u001b[39mis\u001b[39;00m \u001b[39mnot\u001b[39;00m \u001b[39mNone\u001b[39;00m:\n\u001b[1;32m--> 459\u001b[0m   \u001b[39mreturn\u001b[39;00m f(\u001b[39m*\u001b[39;49margs, \u001b[39m*\u001b[39;49m\u001b[39m*\u001b[39;49mkwargs)\n\u001b[0;32m    460\u001b[0m \u001b[39mreturn\u001b[39;00m f(\u001b[39m*\u001b[39margs)\n",
      "File \u001b[1;32md:\\Users\\Admin\\anaconda3\\Lib\\site-packages\\keras\\src\\utils\\traceback_utils.py:65\u001b[0m, in \u001b[0;36mfilter_traceback.<locals>.error_handler\u001b[1;34m(*args, **kwargs)\u001b[0m\n\u001b[0;32m     63\u001b[0m filtered_tb \u001b[39m=\u001b[39m \u001b[39mNone\u001b[39;00m\n\u001b[0;32m     64\u001b[0m \u001b[39mtry\u001b[39;00m:\n\u001b[1;32m---> 65\u001b[0m     \u001b[39mreturn\u001b[39;00m fn(\u001b[39m*\u001b[39;49margs, \u001b[39m*\u001b[39;49m\u001b[39m*\u001b[39;49mkwargs)\n\u001b[0;32m     66\u001b[0m \u001b[39mexcept\u001b[39;00m \u001b[39mException\u001b[39;00m \u001b[39mas\u001b[39;00m e:\n\u001b[0;32m     67\u001b[0m     filtered_tb \u001b[39m=\u001b[39m _process_traceback_frames(e\u001b[39m.\u001b[39m__traceback__)\n",
      "File \u001b[1;32md:\\Users\\Admin\\anaconda3\\Lib\\site-packages\\keras\\src\\engine\\base_layer.py:1149\u001b[0m, in \u001b[0;36mLayer.__call__\u001b[1;34m(self, *args, **kwargs)\u001b[0m\n\u001b[0;32m   1144\u001b[0m     inputs \u001b[39m=\u001b[39m \u001b[39mself\u001b[39m\u001b[39m.\u001b[39m_maybe_cast_inputs(inputs, input_list)\n\u001b[0;32m   1146\u001b[0m \u001b[39mwith\u001b[39;00m autocast_variable\u001b[39m.\u001b[39menable_auto_cast_variables(\n\u001b[0;32m   1147\u001b[0m     \u001b[39mself\u001b[39m\u001b[39m.\u001b[39m_compute_dtype_object\n\u001b[0;32m   1148\u001b[0m ):\n\u001b[1;32m-> 1149\u001b[0m     outputs \u001b[39m=\u001b[39m call_fn(inputs, \u001b[39m*\u001b[39;49margs, \u001b[39m*\u001b[39;49m\u001b[39m*\u001b[39;49mkwargs)\n\u001b[0;32m   1151\u001b[0m \u001b[39mif\u001b[39;00m \u001b[39mself\u001b[39m\u001b[39m.\u001b[39m_activity_regularizer:\n\u001b[0;32m   1152\u001b[0m     \u001b[39mself\u001b[39m\u001b[39m.\u001b[39m_handle_activity_regularization(inputs, outputs)\n",
      "File \u001b[1;32md:\\Users\\Admin\\anaconda3\\Lib\\site-packages\\keras\\src\\utils\\traceback_utils.py:96\u001b[0m, in \u001b[0;36minject_argument_info_in_traceback.<locals>.error_handler\u001b[1;34m(*args, **kwargs)\u001b[0m\n\u001b[0;32m     94\u001b[0m bound_signature \u001b[39m=\u001b[39m \u001b[39mNone\u001b[39;00m\n\u001b[0;32m     95\u001b[0m \u001b[39mtry\u001b[39;00m:\n\u001b[1;32m---> 96\u001b[0m     \u001b[39mreturn\u001b[39;00m fn(\u001b[39m*\u001b[39;49margs, \u001b[39m*\u001b[39;49m\u001b[39m*\u001b[39;49mkwargs)\n\u001b[0;32m     97\u001b[0m \u001b[39mexcept\u001b[39;00m \u001b[39mException\u001b[39;00m \u001b[39mas\u001b[39;00m e:\n\u001b[0;32m     98\u001b[0m     \u001b[39mif\u001b[39;00m \u001b[39mhasattr\u001b[39m(e, \u001b[39m\"\u001b[39m\u001b[39m_keras_call_info_injected\u001b[39m\u001b[39m\"\u001b[39m):\n\u001b[0;32m     99\u001b[0m         \u001b[39m# Only inject info for the innermost failing call\u001b[39;00m\n",
      "File \u001b[1;32md:\\Users\\Admin\\anaconda3\\Lib\\site-packages\\tensorflow\\python\\autograph\\impl\\api.py:690\u001b[0m, in \u001b[0;36mconvert.<locals>.decorator.<locals>.wrapper\u001b[1;34m(*args, **kwargs)\u001b[0m\n\u001b[0;32m    688\u001b[0m \u001b[39mtry\u001b[39;00m:\n\u001b[0;32m    689\u001b[0m   \u001b[39mwith\u001b[39;00m conversion_ctx:\n\u001b[1;32m--> 690\u001b[0m     \u001b[39mreturn\u001b[39;00m converted_call(f, args, kwargs, options\u001b[39m=\u001b[39;49moptions)\n\u001b[0;32m    691\u001b[0m \u001b[39mexcept\u001b[39;00m \u001b[39mException\u001b[39;00m \u001b[39mas\u001b[39;00m e:  \u001b[39m# pylint:disable=broad-except\u001b[39;00m\n\u001b[0;32m    692\u001b[0m   \u001b[39mif\u001b[39;00m \u001b[39mhasattr\u001b[39m(e, \u001b[39m'\u001b[39m\u001b[39mag_error_metadata\u001b[39m\u001b[39m'\u001b[39m):\n",
      "File \u001b[1;32md:\\Users\\Admin\\anaconda3\\Lib\\site-packages\\tensorflow\\python\\autograph\\impl\\api.py:439\u001b[0m, in \u001b[0;36mconverted_call\u001b[1;34m(f, args, kwargs, caller_fn_scope, options)\u001b[0m\n\u001b[0;32m    437\u001b[0m \u001b[39mtry\u001b[39;00m:\n\u001b[0;32m    438\u001b[0m   \u001b[39mif\u001b[39;00m kwargs \u001b[39mis\u001b[39;00m \u001b[39mnot\u001b[39;00m \u001b[39mNone\u001b[39;00m:\n\u001b[1;32m--> 439\u001b[0m     result \u001b[39m=\u001b[39m converted_f(\u001b[39m*\u001b[39;49meffective_args, \u001b[39m*\u001b[39;49m\u001b[39m*\u001b[39;49mkwargs)\n\u001b[0;32m    440\u001b[0m   \u001b[39melse\u001b[39;00m:\n\u001b[0;32m    441\u001b[0m     result \u001b[39m=\u001b[39m converted_f(\u001b[39m*\u001b[39meffective_args)\n",
      "File \u001b[1;32m~\\AppData\\Local\\Temp\\__autograph_generated_file6o5f5h75.py:46\u001b[0m, in \u001b[0;36mouter_factory.<locals>.inner_factory.<locals>.tf__call\u001b[1;34m(self, query, value, key, attention_mask, return_attention_scores, training)\u001b[0m\n\u001b[0;32m     44\u001b[0m key \u001b[39m=\u001b[39m ag__\u001b[39m.\u001b[39mconverted_call(ag__\u001b[39m.\u001b[39mld(\u001b[39mself\u001b[39m)\u001b[39m.\u001b[39m_key_dense, (ag__\u001b[39m.\u001b[39mld(key),), \u001b[39mNone\u001b[39;00m, fscope)\n\u001b[0;32m     45\u001b[0m value \u001b[39m=\u001b[39m ag__\u001b[39m.\u001b[39mconverted_call(ag__\u001b[39m.\u001b[39mld(\u001b[39mself\u001b[39m)\u001b[39m.\u001b[39m_value_dense, (ag__\u001b[39m.\u001b[39mld(value),), \u001b[39mNone\u001b[39;00m, fscope)\n\u001b[1;32m---> 46\u001b[0m attention_output, attention_scores \u001b[39m=\u001b[39m ag__\u001b[39m.\u001b[39;49mconverted_call(ag__\u001b[39m.\u001b[39;49mld(\u001b[39mself\u001b[39;49m)\u001b[39m.\u001b[39;49m_compute_attention, (ag__\u001b[39m.\u001b[39;49mld(query), ag__\u001b[39m.\u001b[39;49mld(key), ag__\u001b[39m.\u001b[39;49mld(value), ag__\u001b[39m.\u001b[39;49mld(attention_mask), ag__\u001b[39m.\u001b[39;49mld(training)), \u001b[39mNone\u001b[39;49;00m, fscope)\n\u001b[0;32m     47\u001b[0m attention_output \u001b[39m=\u001b[39m ag__\u001b[39m.\u001b[39mconverted_call(ag__\u001b[39m.\u001b[39mld(tf)\u001b[39m.\u001b[39mtranspose, (ag__\u001b[39m.\u001b[39mld(attention_output),), \u001b[39mdict\u001b[39m(perm\u001b[39m=\u001b[39m(\u001b[39m0\u001b[39m, \u001b[39m1\u001b[39m, \u001b[39m3\u001b[39m, \u001b[39m2\u001b[39m, \u001b[39m4\u001b[39m)), fscope)\n\u001b[0;32m     48\u001b[0m attention_output \u001b[39m=\u001b[39m ag__\u001b[39m.\u001b[39mconverted_call(ag__\u001b[39m.\u001b[39mld(\u001b[39mself\u001b[39m)\u001b[39m.\u001b[39m_output_dense, (ag__\u001b[39m.\u001b[39mld(attention_output),), \u001b[39mNone\u001b[39;00m, fscope)\n",
      "File \u001b[1;32md:\\Users\\Admin\\anaconda3\\Lib\\site-packages\\tensorflow\\python\\autograph\\impl\\api.py:441\u001b[0m, in \u001b[0;36mconverted_call\u001b[1;34m(f, args, kwargs, caller_fn_scope, options)\u001b[0m\n\u001b[0;32m    439\u001b[0m     result \u001b[39m=\u001b[39m converted_f(\u001b[39m*\u001b[39meffective_args, \u001b[39m*\u001b[39m\u001b[39m*\u001b[39mkwargs)\n\u001b[0;32m    440\u001b[0m   \u001b[39melse\u001b[39;00m:\n\u001b[1;32m--> 441\u001b[0m     result \u001b[39m=\u001b[39m converted_f(\u001b[39m*\u001b[39;49meffective_args)\n\u001b[0;32m    442\u001b[0m \u001b[39mexcept\u001b[39;00m \u001b[39mException\u001b[39;00m \u001b[39mas\u001b[39;00m e:\n\u001b[0;32m    443\u001b[0m   _attach_error_metadata(e, converted_f)\n",
      "File \u001b[1;32m~\\AppData\\Local\\Temp\\__autograph_generated_file0pzllfrh.py:12\u001b[0m, in \u001b[0;36mouter_factory.<locals>.inner_factory.<locals>.tf___compute_attention\u001b[1;34m(self, query, key, value, attention_mask, training)\u001b[0m\n\u001b[0;32m     10\u001b[0m attention_scores1 \u001b[39m=\u001b[39m ag__\u001b[39m.\u001b[39mconverted_call(ag__\u001b[39m.\u001b[39mld(tf)\u001b[39m.\u001b[39meinsum, (\u001b[39m'\u001b[39m\u001b[39m...CHNK,...CHNO->...CHKO\u001b[39m\u001b[39m'\u001b[39m, ag__\u001b[39m.\u001b[39mld(query), ag__\u001b[39m.\u001b[39mld(key)), \u001b[39mNone\u001b[39;00m, fscope) \u001b[39m/\u001b[39m ag__\u001b[39m.\u001b[39mconverted_call(ag__\u001b[39m.\u001b[39mld(tf)\u001b[39m.\u001b[39msqrt, (ag__\u001b[39m.\u001b[39mconverted_call(ag__\u001b[39m.\u001b[39mld(tf)\u001b[39m.\u001b[39mcast, (ag__\u001b[39m.\u001b[39mld(\u001b[39mself\u001b[39m)\u001b[39m.\u001b[39mnum_patch, ag__\u001b[39m.\u001b[39mld(tf)\u001b[39m.\u001b[39mfloat32), \u001b[39mNone\u001b[39;00m, fscope),), \u001b[39mNone\u001b[39;00m, fscope)\n\u001b[0;32m     11\u001b[0m attention_scores1 \u001b[39m=\u001b[39m ag__\u001b[39m.\u001b[39mconverted_call(ag__\u001b[39m.\u001b[39mld(\u001b[39mself\u001b[39m)\u001b[39m.\u001b[39msoftmax, (ag__\u001b[39m.\u001b[39mld(attention_scores1),), \u001b[39mNone\u001b[39;00m, fscope)\n\u001b[1;32m---> 12\u001b[0m query \u001b[39m=\u001b[39m ag__\u001b[39m.\u001b[39;49mconverted_call(ag__\u001b[39m.\u001b[39;49mld(\u001b[39mself\u001b[39;49m)\u001b[39m.\u001b[39;49mEMA, (ag__\u001b[39m.\u001b[39;49mld(query),), \u001b[39mNone\u001b[39;49;00m, fscope)\n\u001b[0;32m     13\u001b[0m key \u001b[39m=\u001b[39m ag__\u001b[39m.\u001b[39mconverted_call(ag__\u001b[39m.\u001b[39mld(\u001b[39mself\u001b[39m)\u001b[39m.\u001b[39mEMA, (ag__\u001b[39m.\u001b[39mld(key),), \u001b[39mNone\u001b[39;00m, fscope)\n\u001b[0;32m     14\u001b[0m attention_scores \u001b[39m=\u001b[39m ag__\u001b[39m.\u001b[39mconverted_call(ag__\u001b[39m.\u001b[39mld(tf)\u001b[39m.\u001b[39meinsum, (\u001b[39m'\u001b[39m\u001b[39m...CHKO,...CHNO->...CHKN\u001b[39m\u001b[39m'\u001b[39m, ag__\u001b[39m.\u001b[39mld(query), ag__\u001b[39m.\u001b[39mld(key)), \u001b[39mNone\u001b[39;00m, fscope) \u001b[39m/\u001b[39m ag__\u001b[39m.\u001b[39mconverted_call(ag__\u001b[39m.\u001b[39mld(tf)\u001b[39m.\u001b[39msqrt, (ag__\u001b[39m.\u001b[39mconverted_call(ag__\u001b[39m.\u001b[39mld(tf)\u001b[39m.\u001b[39mcast, (ag__\u001b[39m.\u001b[39mld(\u001b[39mself\u001b[39m)\u001b[39m.\u001b[39m_key_dim, ag__\u001b[39m.\u001b[39mld(tf)\u001b[39m.\u001b[39mfloat32), \u001b[39mNone\u001b[39;00m, fscope),), \u001b[39mNone\u001b[39;00m, fscope)\n",
      "File \u001b[1;32md:\\Users\\Admin\\anaconda3\\Lib\\site-packages\\tensorflow\\python\\autograph\\impl\\api.py:331\u001b[0m, in \u001b[0;36mconverted_call\u001b[1;34m(f, args, kwargs, caller_fn_scope, options)\u001b[0m\n\u001b[0;32m    329\u001b[0m \u001b[39mif\u001b[39;00m conversion\u001b[39m.\u001b[39mis_in_allowlist_cache(f, options):\n\u001b[0;32m    330\u001b[0m   logging\u001b[39m.\u001b[39mlog(\u001b[39m2\u001b[39m, \u001b[39m'\u001b[39m\u001b[39mAllowlisted \u001b[39m\u001b[39m%s\u001b[39;00m\u001b[39m: from cache\u001b[39m\u001b[39m'\u001b[39m, f)\n\u001b[1;32m--> 331\u001b[0m   \u001b[39mreturn\u001b[39;00m _call_unconverted(f, args, kwargs, options, \u001b[39mFalse\u001b[39;49;00m)\n\u001b[0;32m    333\u001b[0m \u001b[39mif\u001b[39;00m ag_ctx\u001b[39m.\u001b[39mcontrol_status_ctx()\u001b[39m.\u001b[39mstatus \u001b[39m==\u001b[39m ag_ctx\u001b[39m.\u001b[39mStatus\u001b[39m.\u001b[39mDISABLED:\n\u001b[0;32m    334\u001b[0m   logging\u001b[39m.\u001b[39mlog(\u001b[39m2\u001b[39m, \u001b[39m'\u001b[39m\u001b[39mAllowlisted: \u001b[39m\u001b[39m%s\u001b[39;00m\u001b[39m: AutoGraph is disabled in context\u001b[39m\u001b[39m'\u001b[39m, f)\n",
      "File \u001b[1;32md:\\Users\\Admin\\anaconda3\\Lib\\site-packages\\tensorflow\\python\\autograph\\impl\\api.py:460\u001b[0m, in \u001b[0;36m_call_unconverted\u001b[1;34m(f, args, kwargs, options, update_cache)\u001b[0m\n\u001b[0;32m    458\u001b[0m \u001b[39mif\u001b[39;00m kwargs \u001b[39mis\u001b[39;00m \u001b[39mnot\u001b[39;00m \u001b[39mNone\u001b[39;00m:\n\u001b[0;32m    459\u001b[0m   \u001b[39mreturn\u001b[39;00m f(\u001b[39m*\u001b[39margs, \u001b[39m*\u001b[39m\u001b[39m*\u001b[39mkwargs)\n\u001b[1;32m--> 460\u001b[0m \u001b[39mreturn\u001b[39;00m f(\u001b[39m*\u001b[39;49margs)\n",
      "File \u001b[1;32md:\\Users\\Admin\\anaconda3\\Lib\\site-packages\\keras\\src\\utils\\traceback_utils.py:65\u001b[0m, in \u001b[0;36mfilter_traceback.<locals>.error_handler\u001b[1;34m(*args, **kwargs)\u001b[0m\n\u001b[0;32m     63\u001b[0m filtered_tb \u001b[39m=\u001b[39m \u001b[39mNone\u001b[39;00m\n\u001b[0;32m     64\u001b[0m \u001b[39mtry\u001b[39;00m:\n\u001b[1;32m---> 65\u001b[0m     \u001b[39mreturn\u001b[39;00m fn(\u001b[39m*\u001b[39;49margs, \u001b[39m*\u001b[39;49m\u001b[39m*\u001b[39;49mkwargs)\n\u001b[0;32m     66\u001b[0m \u001b[39mexcept\u001b[39;00m \u001b[39mException\u001b[39;00m \u001b[39mas\u001b[39;00m e:\n\u001b[0;32m     67\u001b[0m     filtered_tb \u001b[39m=\u001b[39m _process_traceback_frames(e\u001b[39m.\u001b[39m__traceback__)\n",
      "File \u001b[1;32md:\\Users\\Admin\\anaconda3\\Lib\\site-packages\\keras\\src\\engine\\base_layer.py:1149\u001b[0m, in \u001b[0;36mLayer.__call__\u001b[1;34m(self, *args, **kwargs)\u001b[0m\n\u001b[0;32m   1144\u001b[0m     inputs \u001b[39m=\u001b[39m \u001b[39mself\u001b[39m\u001b[39m.\u001b[39m_maybe_cast_inputs(inputs, input_list)\n\u001b[0;32m   1146\u001b[0m \u001b[39mwith\u001b[39;00m autocast_variable\u001b[39m.\u001b[39menable_auto_cast_variables(\n\u001b[0;32m   1147\u001b[0m     \u001b[39mself\u001b[39m\u001b[39m.\u001b[39m_compute_dtype_object\n\u001b[0;32m   1148\u001b[0m ):\n\u001b[1;32m-> 1149\u001b[0m     outputs \u001b[39m=\u001b[39m call_fn(inputs, \u001b[39m*\u001b[39;49margs, \u001b[39m*\u001b[39;49m\u001b[39m*\u001b[39;49mkwargs)\n\u001b[0;32m   1151\u001b[0m \u001b[39mif\u001b[39;00m \u001b[39mself\u001b[39m\u001b[39m.\u001b[39m_activity_regularizer:\n\u001b[0;32m   1152\u001b[0m     \u001b[39mself\u001b[39m\u001b[39m.\u001b[39m_handle_activity_regularization(inputs, outputs)\n",
      "File \u001b[1;32md:\\Users\\Admin\\anaconda3\\Lib\\site-packages\\keras\\src\\utils\\traceback_utils.py:96\u001b[0m, in \u001b[0;36minject_argument_info_in_traceback.<locals>.error_handler\u001b[1;34m(*args, **kwargs)\u001b[0m\n\u001b[0;32m     94\u001b[0m bound_signature \u001b[39m=\u001b[39m \u001b[39mNone\u001b[39;00m\n\u001b[0;32m     95\u001b[0m \u001b[39mtry\u001b[39;00m:\n\u001b[1;32m---> 96\u001b[0m     \u001b[39mreturn\u001b[39;00m fn(\u001b[39m*\u001b[39;49margs, \u001b[39m*\u001b[39;49m\u001b[39m*\u001b[39;49mkwargs)\n\u001b[0;32m     97\u001b[0m \u001b[39mexcept\u001b[39;00m \u001b[39mException\u001b[39;00m \u001b[39mas\u001b[39;00m e:\n\u001b[0;32m     98\u001b[0m     \u001b[39mif\u001b[39;00m \u001b[39mhasattr\u001b[39m(e, \u001b[39m\"\u001b[39m\u001b[39m_keras_call_info_injected\u001b[39m\u001b[39m\"\u001b[39m):\n\u001b[0;32m     99\u001b[0m         \u001b[39m# Only inject info for the innermost failing call\u001b[39;00m\n",
      "File \u001b[1;32md:\\Users\\Admin\\anaconda3\\Lib\\site-packages\\tensorflow\\python\\autograph\\impl\\api.py:690\u001b[0m, in \u001b[0;36mconvert.<locals>.decorator.<locals>.wrapper\u001b[1;34m(*args, **kwargs)\u001b[0m\n\u001b[0;32m    688\u001b[0m \u001b[39mtry\u001b[39;00m:\n\u001b[0;32m    689\u001b[0m   \u001b[39mwith\u001b[39;00m conversion_ctx:\n\u001b[1;32m--> 690\u001b[0m     \u001b[39mreturn\u001b[39;00m converted_call(f, args, kwargs, options\u001b[39m=\u001b[39;49moptions)\n\u001b[0;32m    691\u001b[0m \u001b[39mexcept\u001b[39;00m \u001b[39mException\u001b[39;00m \u001b[39mas\u001b[39;00m e:  \u001b[39m# pylint:disable=broad-except\u001b[39;00m\n\u001b[0;32m    692\u001b[0m   \u001b[39mif\u001b[39;00m \u001b[39mhasattr\u001b[39m(e, \u001b[39m'\u001b[39m\u001b[39mag_error_metadata\u001b[39m\u001b[39m'\u001b[39m):\n",
      "File \u001b[1;32md:\\Users\\Admin\\anaconda3\\Lib\\site-packages\\tensorflow\\python\\autograph\\impl\\api.py:439\u001b[0m, in \u001b[0;36mconverted_call\u001b[1;34m(f, args, kwargs, caller_fn_scope, options)\u001b[0m\n\u001b[0;32m    437\u001b[0m \u001b[39mtry\u001b[39;00m:\n\u001b[0;32m    438\u001b[0m   \u001b[39mif\u001b[39;00m kwargs \u001b[39mis\u001b[39;00m \u001b[39mnot\u001b[39;00m \u001b[39mNone\u001b[39;00m:\n\u001b[1;32m--> 439\u001b[0m     result \u001b[39m=\u001b[39m converted_f(\u001b[39m*\u001b[39;49meffective_args, \u001b[39m*\u001b[39;49m\u001b[39m*\u001b[39;49mkwargs)\n\u001b[0;32m    440\u001b[0m   \u001b[39melse\u001b[39;00m:\n\u001b[0;32m    441\u001b[0m     result \u001b[39m=\u001b[39m converted_f(\u001b[39m*\u001b[39meffective_args)\n",
      "File \u001b[1;32m~\\AppData\\Local\\Temp\\__autograph_generated_filey5xu99t0.py:10\u001b[0m, in \u001b[0;36mouter_factory.<locals>.inner_factory.<locals>.tf__call\u001b[1;34m(self, x)\u001b[0m\n\u001b[0;32m      8\u001b[0m do_return \u001b[39m=\u001b[39m \u001b[39mFalse\u001b[39;00m\n\u001b[0;32m      9\u001b[0m retval_ \u001b[39m=\u001b[39m ag__\u001b[39m.\u001b[39mUndefinedReturnValue()\n\u001b[1;32m---> 10\u001b[0m ag__\u001b[39m.\u001b[39mconverted_call(ag__\u001b[39m.\u001b[39mld(\u001b[39mself\u001b[39m)\u001b[39m.\u001b[39mema_vector\u001b[39m.\u001b[39massign, (ag__\u001b[39m.\u001b[39mld(\u001b[39mself\u001b[39m)\u001b[39m.\u001b[39mema_vector \u001b[39m*\u001b[39m (\u001b[39m1\u001b[39m \u001b[39m-\u001b[39m ag__\u001b[39m.\u001b[39mld(\u001b[39mself\u001b[39m)\u001b[39m.\u001b[39malpha) \u001b[39m+\u001b[39m ag__\u001b[39m.\u001b[39;49mconverted_call(ag__\u001b[39m.\u001b[39;49mld(tf)\u001b[39m.\u001b[39;49mreduce_mean, (ag__\u001b[39m.\u001b[39;49mld(x),), \u001b[39mdict\u001b[39;49m(axis\u001b[39m=\u001b[39;49m[\u001b[39m1\u001b[39;49m, \u001b[39m2\u001b[39;49m, \u001b[39m3\u001b[39;49m, \u001b[39m4\u001b[39;49m], keepdims\u001b[39m=\u001b[39;49m\u001b[39mTrue\u001b[39;49;00m), fscope) \u001b[39m*\u001b[39m ag__\u001b[39m.\u001b[39mld(\u001b[39mself\u001b[39m)\u001b[39m.\u001b[39malpha,), \u001b[39mNone\u001b[39;00m, fscope)\n\u001b[0;32m     11\u001b[0m \u001b[39mtry\u001b[39;00m:\n\u001b[0;32m     12\u001b[0m     do_return \u001b[39m=\u001b[39m \u001b[39mTrue\u001b[39;00m\n",
      "File \u001b[1;32md:\\Users\\Admin\\anaconda3\\Lib\\site-packages\\tensorflow\\python\\autograph\\impl\\api.py:331\u001b[0m, in \u001b[0;36mconverted_call\u001b[1;34m(f, args, kwargs, caller_fn_scope, options)\u001b[0m\n\u001b[0;32m    329\u001b[0m \u001b[39mif\u001b[39;00m conversion\u001b[39m.\u001b[39mis_in_allowlist_cache(f, options):\n\u001b[0;32m    330\u001b[0m   logging\u001b[39m.\u001b[39mlog(\u001b[39m2\u001b[39m, \u001b[39m'\u001b[39m\u001b[39mAllowlisted \u001b[39m\u001b[39m%s\u001b[39;00m\u001b[39m: from cache\u001b[39m\u001b[39m'\u001b[39m, f)\n\u001b[1;32m--> 331\u001b[0m   \u001b[39mreturn\u001b[39;00m _call_unconverted(f, args, kwargs, options, \u001b[39mFalse\u001b[39;49;00m)\n\u001b[0;32m    333\u001b[0m \u001b[39mif\u001b[39;00m ag_ctx\u001b[39m.\u001b[39mcontrol_status_ctx()\u001b[39m.\u001b[39mstatus \u001b[39m==\u001b[39m ag_ctx\u001b[39m.\u001b[39mStatus\u001b[39m.\u001b[39mDISABLED:\n\u001b[0;32m    334\u001b[0m   logging\u001b[39m.\u001b[39mlog(\u001b[39m2\u001b[39m, \u001b[39m'\u001b[39m\u001b[39mAllowlisted: \u001b[39m\u001b[39m%s\u001b[39;00m\u001b[39m: AutoGraph is disabled in context\u001b[39m\u001b[39m'\u001b[39m, f)\n",
      "File \u001b[1;32md:\\Users\\Admin\\anaconda3\\Lib\\site-packages\\tensorflow\\python\\autograph\\impl\\api.py:459\u001b[0m, in \u001b[0;36m_call_unconverted\u001b[1;34m(f, args, kwargs, options, update_cache)\u001b[0m\n\u001b[0;32m    456\u001b[0m   \u001b[39mreturn\u001b[39;00m f\u001b[39m.\u001b[39m\u001b[39m__self__\u001b[39m\u001b[39m.\u001b[39mcall(args, kwargs)\n\u001b[0;32m    458\u001b[0m \u001b[39mif\u001b[39;00m kwargs \u001b[39mis\u001b[39;00m \u001b[39mnot\u001b[39;00m \u001b[39mNone\u001b[39;00m:\n\u001b[1;32m--> 459\u001b[0m   \u001b[39mreturn\u001b[39;00m f(\u001b[39m*\u001b[39;49margs, \u001b[39m*\u001b[39;49m\u001b[39m*\u001b[39;49mkwargs)\n\u001b[0;32m    460\u001b[0m \u001b[39mreturn\u001b[39;00m f(\u001b[39m*\u001b[39margs)\n",
      "File \u001b[1;32md:\\Users\\Admin\\anaconda3\\Lib\\site-packages\\tensorflow\\python\\util\\traceback_utils.py:150\u001b[0m, in \u001b[0;36mfilter_traceback.<locals>.error_handler\u001b[1;34m(*args, **kwargs)\u001b[0m\n\u001b[0;32m    148\u001b[0m filtered_tb \u001b[39m=\u001b[39m \u001b[39mNone\u001b[39;00m\n\u001b[0;32m    149\u001b[0m \u001b[39mtry\u001b[39;00m:\n\u001b[1;32m--> 150\u001b[0m   \u001b[39mreturn\u001b[39;00m fn(\u001b[39m*\u001b[39;49margs, \u001b[39m*\u001b[39;49m\u001b[39m*\u001b[39;49mkwargs)\n\u001b[0;32m    151\u001b[0m \u001b[39mexcept\u001b[39;00m \u001b[39mException\u001b[39;00m \u001b[39mas\u001b[39;00m e:\n\u001b[0;32m    152\u001b[0m   filtered_tb \u001b[39m=\u001b[39m _process_traceback_frames(e\u001b[39m.\u001b[39m__traceback__)\n",
      "File \u001b[1;32md:\\Users\\Admin\\anaconda3\\Lib\\site-packages\\tensorflow\\python\\util\\dispatch.py:1260\u001b[0m, in \u001b[0;36madd_dispatch_support.<locals>.decorator.<locals>.op_dispatch_handler\u001b[1;34m(*args, **kwargs)\u001b[0m\n\u001b[0;32m   1258\u001b[0m \u001b[39m# Fallback dispatch system (dispatch v1):\u001b[39;00m\n\u001b[0;32m   1259\u001b[0m \u001b[39mtry\u001b[39;00m:\n\u001b[1;32m-> 1260\u001b[0m   \u001b[39mreturn\u001b[39;00m dispatch_target(\u001b[39m*\u001b[39;49margs, \u001b[39m*\u001b[39;49m\u001b[39m*\u001b[39;49mkwargs)\n\u001b[0;32m   1261\u001b[0m \u001b[39mexcept\u001b[39;00m (\u001b[39mTypeError\u001b[39;00m, \u001b[39mValueError\u001b[39;00m):\n\u001b[0;32m   1262\u001b[0m   \u001b[39m# Note: convert_to_eager_tensor currently raises a ValueError, not a\u001b[39;00m\n\u001b[0;32m   1263\u001b[0m   \u001b[39m# TypeError, when given unexpected types.  So we need to catch both.\u001b[39;00m\n\u001b[0;32m   1264\u001b[0m   result \u001b[39m=\u001b[39m dispatch(op_dispatch_handler, args, kwargs)\n",
      "File \u001b[1;32md:\\Users\\Admin\\anaconda3\\Lib\\site-packages\\tensorflow\\python\\ops\\math_ops.py:2765\u001b[0m, in \u001b[0;36mreduce_mean\u001b[1;34m(input_tensor, axis, keepdims, name)\u001b[0m\n\u001b[0;32m   2713\u001b[0m \u001b[39m\u001b[39m\u001b[39m\"\"\"Computes the mean of elements across dimensions of a tensor.\u001b[39;00m\n\u001b[0;32m   2714\u001b[0m \n\u001b[0;32m   2715\u001b[0m \u001b[39mReduces `input_tensor` along the dimensions given in `axis` by computing the\u001b[39;00m\n\u001b[1;32m   (...)\u001b[0m\n\u001b[0;32m   2760\u001b[0m \u001b[39m@end_compatibility\u001b[39;00m\n\u001b[0;32m   2761\u001b[0m \u001b[39m\"\"\"\u001b[39;00m\n\u001b[0;32m   2762\u001b[0m keepdims \u001b[39m=\u001b[39m \u001b[39mFalse\u001b[39;00m \u001b[39mif\u001b[39;00m keepdims \u001b[39mis\u001b[39;00m \u001b[39mNone\u001b[39;00m \u001b[39melse\u001b[39;00m \u001b[39mbool\u001b[39m(keepdims)\n\u001b[0;32m   2763\u001b[0m \u001b[39mreturn\u001b[39;00m _may_reduce_to_scalar(\n\u001b[0;32m   2764\u001b[0m     keepdims, axis,\n\u001b[1;32m-> 2765\u001b[0m     gen_math_ops\u001b[39m.\u001b[39;49mmean(\n\u001b[0;32m   2766\u001b[0m         input_tensor, _ReductionDims(input_tensor, axis), keepdims,\n\u001b[0;32m   2767\u001b[0m         name\u001b[39m=\u001b[39;49mname))\n",
      "File \u001b[1;32md:\\Users\\Admin\\anaconda3\\Lib\\site-packages\\tensorflow\\python\\ops\\gen_math_ops.py:7173\u001b[0m, in \u001b[0;36mmean\u001b[1;34m(input, axis, keep_dims, name)\u001b[0m\n\u001b[0;32m   7171\u001b[0m   keep_dims \u001b[39m=\u001b[39m \u001b[39mFalse\u001b[39;00m\n\u001b[0;32m   7172\u001b[0m keep_dims \u001b[39m=\u001b[39m _execute\u001b[39m.\u001b[39mmake_bool(keep_dims, \u001b[39m\"\u001b[39m\u001b[39mkeep_dims\u001b[39m\u001b[39m\"\u001b[39m)\n\u001b[1;32m-> 7173\u001b[0m _, _, _op, _outputs \u001b[39m=\u001b[39m _op_def_library\u001b[39m.\u001b[39;49m_apply_op_helper(\n\u001b[0;32m   7174\u001b[0m       \u001b[39m\"\u001b[39;49m\u001b[39mMean\u001b[39;49m\u001b[39m\"\u001b[39;49m, \u001b[39minput\u001b[39;49m\u001b[39m=\u001b[39;49m\u001b[39minput\u001b[39;49m, reduction_indices\u001b[39m=\u001b[39;49maxis, keep_dims\u001b[39m=\u001b[39;49mkeep_dims,\n\u001b[0;32m   7175\u001b[0m               name\u001b[39m=\u001b[39;49mname)\n\u001b[0;32m   7176\u001b[0m _result \u001b[39m=\u001b[39m _outputs[:]\n\u001b[0;32m   7177\u001b[0m \u001b[39mif\u001b[39;00m _execute\u001b[39m.\u001b[39mmust_record_gradient():\n",
      "File \u001b[1;32md:\\Users\\Admin\\anaconda3\\Lib\\site-packages\\tensorflow\\python\\framework\\op_def_library.py:796\u001b[0m, in \u001b[0;36m_apply_op_helper\u001b[1;34m(op_type_name, name, **keywords)\u001b[0m\n\u001b[0;32m    791\u001b[0m must_colocate_inputs \u001b[39m=\u001b[39m [val \u001b[39mfor\u001b[39;00m arg, val \u001b[39min\u001b[39;00m \u001b[39mzip\u001b[39m(op_def\u001b[39m.\u001b[39minput_arg, inputs)\n\u001b[0;32m    792\u001b[0m                         \u001b[39mif\u001b[39;00m arg\u001b[39m.\u001b[39mis_ref]\n\u001b[0;32m    793\u001b[0m \u001b[39mwith\u001b[39;00m _MaybeColocateWith(must_colocate_inputs):\n\u001b[0;32m    794\u001b[0m   \u001b[39m# Add Op to graph\u001b[39;00m\n\u001b[0;32m    795\u001b[0m   \u001b[39m# pylint: disable=protected-access\u001b[39;00m\n\u001b[1;32m--> 796\u001b[0m   op \u001b[39m=\u001b[39m g\u001b[39m.\u001b[39;49m_create_op_internal(op_type_name, inputs, dtypes\u001b[39m=\u001b[39;49m\u001b[39mNone\u001b[39;49;00m,\n\u001b[0;32m    797\u001b[0m                              name\u001b[39m=\u001b[39;49mscope, input_types\u001b[39m=\u001b[39;49minput_types,\n\u001b[0;32m    798\u001b[0m                              attrs\u001b[39m=\u001b[39;49mattr_protos, op_def\u001b[39m=\u001b[39;49mop_def)\n\u001b[0;32m    800\u001b[0m \u001b[39m# `outputs` is returned as a separate return value so that the output\u001b[39;00m\n\u001b[0;32m    801\u001b[0m \u001b[39m# tensors can the `op` per se can be decoupled so that the\u001b[39;00m\n\u001b[0;32m    802\u001b[0m \u001b[39m# `op_callbacks` can function properly. See framework/op_callbacks.py\u001b[39;00m\n\u001b[0;32m    803\u001b[0m \u001b[39m# for more details.\u001b[39;00m\n\u001b[0;32m    804\u001b[0m outputs \u001b[39m=\u001b[39m op\u001b[39m.\u001b[39moutputs\n",
      "File \u001b[1;32md:\\Users\\Admin\\anaconda3\\Lib\\site-packages\\tensorflow\\python\\framework\\func_graph.py:670\u001b[0m, in \u001b[0;36mFuncGraph._create_op_internal\u001b[1;34m(self, op_type, inputs, dtypes, input_types, name, attrs, op_def, compute_device)\u001b[0m\n\u001b[0;32m    668\u001b[0m   inp \u001b[39m=\u001b[39m \u001b[39mself\u001b[39m\u001b[39m.\u001b[39mcapture(inp)\n\u001b[0;32m    669\u001b[0m   captured_inputs\u001b[39m.\u001b[39mappend(inp)\n\u001b[1;32m--> 670\u001b[0m \u001b[39mreturn\u001b[39;00m \u001b[39msuper\u001b[39;49m()\u001b[39m.\u001b[39;49m_create_op_internal(  \u001b[39m# pylint: disable=protected-access\u001b[39;49;00m\n\u001b[0;32m    671\u001b[0m     op_type, captured_inputs, dtypes, input_types, name, attrs, op_def,\n\u001b[0;32m    672\u001b[0m     compute_device)\n",
      "File \u001b[1;32md:\\Users\\Admin\\anaconda3\\Lib\\site-packages\\tensorflow\\python\\framework\\ops.py:2657\u001b[0m, in \u001b[0;36mGraph._create_op_internal\u001b[1;34m(self, op_type, inputs, dtypes, input_types, name, attrs, op_def, compute_device)\u001b[0m\n\u001b[0;32m   2654\u001b[0m \u001b[39m# _create_op_helper mutates the new Operation. `_mutation_lock` ensures a\u001b[39;00m\n\u001b[0;32m   2655\u001b[0m \u001b[39m# Session.run call cannot occur between creating and mutating the op.\u001b[39;00m\n\u001b[0;32m   2656\u001b[0m \u001b[39mwith\u001b[39;00m \u001b[39mself\u001b[39m\u001b[39m.\u001b[39m_mutation_lock():\n\u001b[1;32m-> 2657\u001b[0m   ret \u001b[39m=\u001b[39m Operation\u001b[39m.\u001b[39;49mfrom_node_def(\n\u001b[0;32m   2658\u001b[0m       node_def,\n\u001b[0;32m   2659\u001b[0m       \u001b[39mself\u001b[39;49m,\n\u001b[0;32m   2660\u001b[0m       inputs\u001b[39m=\u001b[39;49minputs,\n\u001b[0;32m   2661\u001b[0m       output_types\u001b[39m=\u001b[39;49mdtypes,\n\u001b[0;32m   2662\u001b[0m       control_inputs\u001b[39m=\u001b[39;49mcontrol_inputs,\n\u001b[0;32m   2663\u001b[0m       input_types\u001b[39m=\u001b[39;49minput_types,\n\u001b[0;32m   2664\u001b[0m       original_op\u001b[39m=\u001b[39;49m\u001b[39mself\u001b[39;49m\u001b[39m.\u001b[39;49m_default_original_op,\n\u001b[0;32m   2665\u001b[0m       op_def\u001b[39m=\u001b[39;49mop_def,\n\u001b[0;32m   2666\u001b[0m   )\n\u001b[0;32m   2667\u001b[0m   \u001b[39mself\u001b[39m\u001b[39m.\u001b[39m_create_op_helper(ret, compute_device\u001b[39m=\u001b[39mcompute_device)\n\u001b[0;32m   2668\u001b[0m \u001b[39mreturn\u001b[39;00m ret\n",
      "File \u001b[1;32md:\\Users\\Admin\\anaconda3\\Lib\\site-packages\\tensorflow\\python\\framework\\ops.py:1161\u001b[0m, in \u001b[0;36mOperation.from_node_def\u001b[1;34m(***failed resolving arguments***)\u001b[0m\n\u001b[0;32m   1158\u001b[0m     control_input_ops\u001b[39m.\u001b[39mappend(control_op)\n\u001b[0;32m   1160\u001b[0m \u001b[39m# Initialize c_op from node_def and other inputs\u001b[39;00m\n\u001b[1;32m-> 1161\u001b[0m c_op \u001b[39m=\u001b[39m _create_c_op(g, node_def, inputs, control_input_ops, op_def\u001b[39m=\u001b[39;49mop_def)\n\u001b[0;32m   1162\u001b[0m \u001b[39mself\u001b[39m \u001b[39m=\u001b[39m Operation(c_op, SymbolicTensor)\n\u001b[0;32m   1163\u001b[0m \u001b[39mself\u001b[39m\u001b[39m.\u001b[39m_init(g)\n",
      "File \u001b[1;32md:\\Users\\Admin\\anaconda3\\Lib\\site-packages\\tensorflow\\python\\util\\traceback_utils.py:150\u001b[0m, in \u001b[0;36mfilter_traceback.<locals>.error_handler\u001b[1;34m(*args, **kwargs)\u001b[0m\n\u001b[0;32m    148\u001b[0m filtered_tb \u001b[39m=\u001b[39m \u001b[39mNone\u001b[39;00m\n\u001b[0;32m    149\u001b[0m \u001b[39mtry\u001b[39;00m:\n\u001b[1;32m--> 150\u001b[0m   \u001b[39mreturn\u001b[39;00m fn(\u001b[39m*\u001b[39;49margs, \u001b[39m*\u001b[39;49m\u001b[39m*\u001b[39;49mkwargs)\n\u001b[0;32m    151\u001b[0m \u001b[39mexcept\u001b[39;00m \u001b[39mException\u001b[39;00m \u001b[39mas\u001b[39;00m e:\n\u001b[0;32m    152\u001b[0m   filtered_tb \u001b[39m=\u001b[39m _process_traceback_frames(e\u001b[39m.\u001b[39m__traceback__)\n",
      "File \u001b[1;32md:\\Users\\Admin\\anaconda3\\Lib\\site-packages\\tensorflow\\python\\framework\\ops.py:991\u001b[0m, in \u001b[0;36m_create_c_op\u001b[1;34m(graph, node_def, inputs, control_inputs, op_def, extract_traceback)\u001b[0m\n\u001b[0;32m    989\u001b[0m \u001b[39m# pylint: disable=protected-access\u001b[39;00m\n\u001b[0;32m    990\u001b[0m \u001b[39mwith\u001b[39;00m graph\u001b[39m.\u001b[39m_c_graph\u001b[39m.\u001b[39mget() \u001b[39mas\u001b[39;00m c_graph:\n\u001b[1;32m--> 991\u001b[0m   op_desc \u001b[39m=\u001b[39m pywrap_tf_session\u001b[39m.\u001b[39;49mTF_NewOperation(c_graph,\n\u001b[0;32m    992\u001b[0m                                               compat\u001b[39m.\u001b[39;49mas_str(node_def\u001b[39m.\u001b[39;49mop),\n\u001b[0;32m    993\u001b[0m                                               compat\u001b[39m.\u001b[39;49mas_str(node_def\u001b[39m.\u001b[39;49mname))\n\u001b[0;32m    994\u001b[0m \u001b[39mif\u001b[39;00m node_def\u001b[39m.\u001b[39mdevice:\n\u001b[0;32m    995\u001b[0m   pywrap_tf_session\u001b[39m.\u001b[39mTF_SetDevice(op_desc, compat\u001b[39m.\u001b[39mas_str(node_def\u001b[39m.\u001b[39mdevice))\n",
      "\u001b[1;31mKeyboardInterrupt\u001b[0m: "
     ]
    }
   ],
   "source": [
    "transformer.save(\"C:/Users/Admin/Downloads/model\")"
   ]
  },
  {
   "cell_type": "code",
   "execution_count": 279,
   "metadata": {},
   "outputs": [],
   "source": [
    "transformer.load_weights(\"C:/Users/Admin/Downloads/model.h5\")"
   ]
  },
  {
   "cell_type": "code",
   "execution_count": 50,
   "metadata": {},
   "outputs": [],
   "source": [
    "from tensorflow.keras import backend as K\n",
    "\n",
    "def signal_decay_loss(y_true, y_pred):\n",
    "    length = len(y_true)\n",
    "    seq_length = y_true.shape[-1]\n",
    "    loss = K.sum(K.abs(y_true - y_pred), axis=0)\n",
    "    decay = tf.range(1, seq_length + 1, dtype=tf.float64)\n",
    "    decay = K.pow(decay, -0.5)\n",
    "    loss = K.min(loss / decay / length)\n",
    "    return loss\n"
   ]
  },
  {
   "cell_type": "code",
   "execution_count": null,
   "metadata": {},
   "outputs": [],
   "source": []
  },
  {
   "cell_type": "code",
   "execution_count": 51,
   "metadata": {},
   "outputs": [
    {
     "data": {
      "text/plain": [
       "<tf.Tensor: shape=(), dtype=float64, numpy=3.1567707980777486>"
      ]
     },
     "execution_count": 51,
     "metadata": {},
     "output_type": "execute_result"
    }
   ],
   "source": [
    "signal_decay_loss(t[:, 0, :], t[:, 1, :])"
   ]
  },
  {
   "cell_type": "code",
   "execution_count": 280,
   "metadata": {},
   "outputs": [],
   "source": [
    "transformer.compile(optimizer=\"adam\", loss=\"mse\", metrics=[\"mse\"])"
   ]
  },
  {
   "cell_type": "code",
   "execution_count": 281,
   "metadata": {},
   "outputs": [
    {
     "name": "stdout",
     "output_type": "stream",
     "text": [
      "Epoch 1/100\n",
      "1/1 [==============================] - 801s 801s/step - loss: 519930957004800.0000 - output_1_loss: 21945.5430 - output_2_loss: 21691.3398 - output_3_loss: 519930957004800.0000 - output_1_mse: 21945.5430 - output_2_mse: 21691.3398 - output_3_mse: 519930957004800.0000\n",
      "Epoch 2/100\n",
      "1/1 [==============================] - 9s 9s/step - loss: 519930923450368.0000 - output_1_loss: 21697.5410 - output_2_loss: 21380.6973 - output_3_loss: 519930923450368.0000 - output_1_mse: 21697.5410 - output_2_mse: 21380.6973 - output_3_mse: 519930923450368.0000\n",
      "Epoch 3/100\n",
      "1/1 [==============================] - 8s 8s/step - loss: 519930554351616.0000 - output_1_loss: 20756.8691 - output_2_loss: 19943.5781 - output_3_loss: 519930554351616.0000 - output_1_mse: 20756.8691 - output_2_mse: 19943.5781 - output_3_mse: 519930554351616.0000\n",
      "Epoch 4/100\n",
      "1/1 [==============================] - 7s 7s/step - loss: nan - output_1_loss: 19894.6094 - output_2_loss: 18722.5781 - output_3_loss: nan - output_1_mse: 19894.6094 - output_2_mse: 18722.5781 - output_3_mse: nan\n",
      "Epoch 5/100\n",
      "1/1 [==============================] - 7s 7s/step - loss: nan - output_1_loss: nan - output_2_loss: nan - output_3_loss: nan - output_1_mse: nan - output_2_mse: nan - output_3_mse: nan\n",
      "Epoch 6/100\n",
      "1/1 [==============================] - 6s 6s/step - loss: nan - output_1_loss: nan - output_2_loss: nan - output_3_loss: nan - output_1_mse: nan - output_2_mse: nan - output_3_mse: nan\n",
      "Epoch 7/100\n",
      "1/1 [==============================] - 7s 7s/step - loss: nan - output_1_loss: nan - output_2_loss: nan - output_3_loss: nan - output_1_mse: nan - output_2_mse: nan - output_3_mse: nan\n",
      "Epoch 8/100\n",
      "1/1 [==============================] - 7s 7s/step - loss: nan - output_1_loss: nan - output_2_loss: nan - output_3_loss: nan - output_1_mse: nan - output_2_mse: nan - output_3_mse: nan\n",
      "Epoch 9/100\n",
      "1/1 [==============================] - 7s 7s/step - loss: nan - output_1_loss: nan - output_2_loss: nan - output_3_loss: nan - output_1_mse: nan - output_2_mse: nan - output_3_mse: nan\n",
      "Epoch 10/100\n",
      "1/1 [==============================] - 7s 7s/step - loss: nan - output_1_loss: nan - output_2_loss: nan - output_3_loss: nan - output_1_mse: nan - output_2_mse: nan - output_3_mse: nan\n",
      "Epoch 11/100\n"
     ]
    },
    {
     "ename": "KeyboardInterrupt",
     "evalue": "",
     "output_type": "error",
     "traceback": [
      "\u001b[1;31m---------------------------------------------------------------------------\u001b[0m",
      "\u001b[1;31mKeyboardInterrupt\u001b[0m                         Traceback (most recent call last)",
      "\u001b[1;32mc:\\Users\\Admin\\AI-Trading-Assistant\\AI_Trading_Assistant_Model\\test.ipynb Cell 28\u001b[0m line \u001b[0;36m1\n\u001b[1;32m----> <a href='vscode-notebook-cell:/c%3A/Users/Admin/AI-Trading-Assistant/AI_Trading_Assistant_Model/test.ipynb#X42sZmlsZQ%3D%3D?line=0'>1</a>\u001b[0m transformer\u001b[39m.\u001b[39;49mfit(x\u001b[39m=\u001b[39;49mu[\u001b[39m0\u001b[39;49m][:\u001b[39m5\u001b[39;49m], y\u001b[39m=\u001b[39;49m[u[\u001b[39m1\u001b[39;49m][:\u001b[39m5\u001b[39;49m][:,:,\u001b[39m0\u001b[39;49m], u[\u001b[39m1\u001b[39;49m][:\u001b[39m5\u001b[39;49m][:,:,\u001b[39m1\u001b[39;49m], u[\u001b[39m1\u001b[39;49m][:\u001b[39m5\u001b[39;49m][:,:,\u001b[39m2\u001b[39;49m]], epochs\u001b[39m=\u001b[39;49m\u001b[39m100\u001b[39;49m)\n",
      "File \u001b[1;32md:\\Users\\Admin\\anaconda3\\Lib\\site-packages\\keras\\src\\utils\\traceback_utils.py:65\u001b[0m, in \u001b[0;36mfilter_traceback.<locals>.error_handler\u001b[1;34m(*args, **kwargs)\u001b[0m\n\u001b[0;32m     63\u001b[0m filtered_tb \u001b[39m=\u001b[39m \u001b[39mNone\u001b[39;00m\n\u001b[0;32m     64\u001b[0m \u001b[39mtry\u001b[39;00m:\n\u001b[1;32m---> 65\u001b[0m     \u001b[39mreturn\u001b[39;00m fn(\u001b[39m*\u001b[39;49margs, \u001b[39m*\u001b[39;49m\u001b[39m*\u001b[39;49mkwargs)\n\u001b[0;32m     66\u001b[0m \u001b[39mexcept\u001b[39;00m \u001b[39mException\u001b[39;00m \u001b[39mas\u001b[39;00m e:\n\u001b[0;32m     67\u001b[0m     filtered_tb \u001b[39m=\u001b[39m _process_traceback_frames(e\u001b[39m.\u001b[39m__traceback__)\n",
      "File \u001b[1;32md:\\Users\\Admin\\anaconda3\\Lib\\site-packages\\keras\\src\\engine\\training.py:1783\u001b[0m, in \u001b[0;36mModel.fit\u001b[1;34m(self, x, y, batch_size, epochs, verbose, callbacks, validation_split, validation_data, shuffle, class_weight, sample_weight, initial_epoch, steps_per_epoch, validation_steps, validation_batch_size, validation_freq, max_queue_size, workers, use_multiprocessing)\u001b[0m\n\u001b[0;32m   1775\u001b[0m \u001b[39mwith\u001b[39;00m tf\u001b[39m.\u001b[39mprofiler\u001b[39m.\u001b[39mexperimental\u001b[39m.\u001b[39mTrace(\n\u001b[0;32m   1776\u001b[0m     \u001b[39m\"\u001b[39m\u001b[39mtrain\u001b[39m\u001b[39m\"\u001b[39m,\n\u001b[0;32m   1777\u001b[0m     epoch_num\u001b[39m=\u001b[39mepoch,\n\u001b[1;32m   (...)\u001b[0m\n\u001b[0;32m   1780\u001b[0m     _r\u001b[39m=\u001b[39m\u001b[39m1\u001b[39m,\n\u001b[0;32m   1781\u001b[0m ):\n\u001b[0;32m   1782\u001b[0m     callbacks\u001b[39m.\u001b[39mon_train_batch_begin(step)\n\u001b[1;32m-> 1783\u001b[0m     tmp_logs \u001b[39m=\u001b[39m \u001b[39mself\u001b[39;49m\u001b[39m.\u001b[39;49mtrain_function(iterator)\n\u001b[0;32m   1784\u001b[0m     \u001b[39mif\u001b[39;00m data_handler\u001b[39m.\u001b[39mshould_sync:\n\u001b[0;32m   1785\u001b[0m         context\u001b[39m.\u001b[39masync_wait()\n",
      "File \u001b[1;32md:\\Users\\Admin\\anaconda3\\Lib\\site-packages\\tensorflow\\python\\util\\traceback_utils.py:150\u001b[0m, in \u001b[0;36mfilter_traceback.<locals>.error_handler\u001b[1;34m(*args, **kwargs)\u001b[0m\n\u001b[0;32m    148\u001b[0m filtered_tb \u001b[39m=\u001b[39m \u001b[39mNone\u001b[39;00m\n\u001b[0;32m    149\u001b[0m \u001b[39mtry\u001b[39;00m:\n\u001b[1;32m--> 150\u001b[0m   \u001b[39mreturn\u001b[39;00m fn(\u001b[39m*\u001b[39;49margs, \u001b[39m*\u001b[39;49m\u001b[39m*\u001b[39;49mkwargs)\n\u001b[0;32m    151\u001b[0m \u001b[39mexcept\u001b[39;00m \u001b[39mException\u001b[39;00m \u001b[39mas\u001b[39;00m e:\n\u001b[0;32m    152\u001b[0m   filtered_tb \u001b[39m=\u001b[39m _process_traceback_frames(e\u001b[39m.\u001b[39m__traceback__)\n",
      "File \u001b[1;32md:\\Users\\Admin\\anaconda3\\Lib\\site-packages\\tensorflow\\python\\eager\\polymorphic_function\\polymorphic_function.py:831\u001b[0m, in \u001b[0;36mFunction.__call__\u001b[1;34m(self, *args, **kwds)\u001b[0m\n\u001b[0;32m    828\u001b[0m compiler \u001b[39m=\u001b[39m \u001b[39m\"\u001b[39m\u001b[39mxla\u001b[39m\u001b[39m\"\u001b[39m \u001b[39mif\u001b[39;00m \u001b[39mself\u001b[39m\u001b[39m.\u001b[39m_jit_compile \u001b[39melse\u001b[39;00m \u001b[39m\"\u001b[39m\u001b[39mnonXla\u001b[39m\u001b[39m\"\u001b[39m\n\u001b[0;32m    830\u001b[0m \u001b[39mwith\u001b[39;00m OptionalXlaContext(\u001b[39mself\u001b[39m\u001b[39m.\u001b[39m_jit_compile):\n\u001b[1;32m--> 831\u001b[0m   result \u001b[39m=\u001b[39m \u001b[39mself\u001b[39;49m\u001b[39m.\u001b[39;49m_call(\u001b[39m*\u001b[39;49margs, \u001b[39m*\u001b[39;49m\u001b[39m*\u001b[39;49mkwds)\n\u001b[0;32m    833\u001b[0m new_tracing_count \u001b[39m=\u001b[39m \u001b[39mself\u001b[39m\u001b[39m.\u001b[39mexperimental_get_tracing_count()\n\u001b[0;32m    834\u001b[0m without_tracing \u001b[39m=\u001b[39m (tracing_count \u001b[39m==\u001b[39m new_tracing_count)\n",
      "File \u001b[1;32md:\\Users\\Admin\\anaconda3\\Lib\\site-packages\\tensorflow\\python\\eager\\polymorphic_function\\polymorphic_function.py:867\u001b[0m, in \u001b[0;36mFunction._call\u001b[1;34m(self, *args, **kwds)\u001b[0m\n\u001b[0;32m    864\u001b[0m   \u001b[39mself\u001b[39m\u001b[39m.\u001b[39m_lock\u001b[39m.\u001b[39mrelease()\n\u001b[0;32m    865\u001b[0m   \u001b[39m# In this case we have created variables on the first call, so we run the\u001b[39;00m\n\u001b[0;32m    866\u001b[0m   \u001b[39m# defunned version which is guaranteed to never create variables.\u001b[39;00m\n\u001b[1;32m--> 867\u001b[0m   \u001b[39mreturn\u001b[39;00m tracing_compilation\u001b[39m.\u001b[39;49mcall_function(\n\u001b[0;32m    868\u001b[0m       args, kwds, \u001b[39mself\u001b[39;49m\u001b[39m.\u001b[39;49m_no_variable_creation_config\n\u001b[0;32m    869\u001b[0m   )\n\u001b[0;32m    870\u001b[0m \u001b[39melif\u001b[39;00m \u001b[39mself\u001b[39m\u001b[39m.\u001b[39m_variable_creation_config \u001b[39mis\u001b[39;00m \u001b[39mnot\u001b[39;00m \u001b[39mNone\u001b[39;00m:\n\u001b[0;32m    871\u001b[0m   \u001b[39m# Release the lock early so that multiple threads can perform the call\u001b[39;00m\n\u001b[0;32m    872\u001b[0m   \u001b[39m# in parallel.\u001b[39;00m\n\u001b[0;32m    873\u001b[0m   \u001b[39mself\u001b[39m\u001b[39m.\u001b[39m_lock\u001b[39m.\u001b[39mrelease()\n",
      "File \u001b[1;32md:\\Users\\Admin\\anaconda3\\Lib\\site-packages\\tensorflow\\python\\eager\\polymorphic_function\\tracing_compilation.py:139\u001b[0m, in \u001b[0;36mcall_function\u001b[1;34m(args, kwargs, tracing_options)\u001b[0m\n\u001b[0;32m    137\u001b[0m bound_args \u001b[39m=\u001b[39m function\u001b[39m.\u001b[39mfunction_type\u001b[39m.\u001b[39mbind(\u001b[39m*\u001b[39margs, \u001b[39m*\u001b[39m\u001b[39m*\u001b[39mkwargs)\n\u001b[0;32m    138\u001b[0m flat_inputs \u001b[39m=\u001b[39m function\u001b[39m.\u001b[39mfunction_type\u001b[39m.\u001b[39munpack_inputs(bound_args)\n\u001b[1;32m--> 139\u001b[0m \u001b[39mreturn\u001b[39;00m function\u001b[39m.\u001b[39;49m_call_flat(  \u001b[39m# pylint: disable=protected-access\u001b[39;49;00m\n\u001b[0;32m    140\u001b[0m     flat_inputs, captured_inputs\u001b[39m=\u001b[39;49mfunction\u001b[39m.\u001b[39;49mcaptured_inputs\n\u001b[0;32m    141\u001b[0m )\n",
      "File \u001b[1;32md:\\Users\\Admin\\anaconda3\\Lib\\site-packages\\tensorflow\\python\\eager\\polymorphic_function\\concrete_function.py:1264\u001b[0m, in \u001b[0;36mConcreteFunction._call_flat\u001b[1;34m(self, tensor_inputs, captured_inputs)\u001b[0m\n\u001b[0;32m   1260\u001b[0m possible_gradient_type \u001b[39m=\u001b[39m gradients_util\u001b[39m.\u001b[39mPossibleTapeGradientTypes(args)\n\u001b[0;32m   1261\u001b[0m \u001b[39mif\u001b[39;00m (possible_gradient_type \u001b[39m==\u001b[39m gradients_util\u001b[39m.\u001b[39mPOSSIBLE_GRADIENT_TYPES_NONE\n\u001b[0;32m   1262\u001b[0m     \u001b[39mand\u001b[39;00m executing_eagerly):\n\u001b[0;32m   1263\u001b[0m   \u001b[39m# No tape is watching; skip to running the function.\u001b[39;00m\n\u001b[1;32m-> 1264\u001b[0m   \u001b[39mreturn\u001b[39;00m \u001b[39mself\u001b[39;49m\u001b[39m.\u001b[39;49m_inference_function\u001b[39m.\u001b[39;49mflat_call(args)\n\u001b[0;32m   1265\u001b[0m forward_backward \u001b[39m=\u001b[39m \u001b[39mself\u001b[39m\u001b[39m.\u001b[39m_select_forward_and_backward_functions(\n\u001b[0;32m   1266\u001b[0m     args,\n\u001b[0;32m   1267\u001b[0m     possible_gradient_type,\n\u001b[0;32m   1268\u001b[0m     executing_eagerly)\n\u001b[0;32m   1269\u001b[0m forward_function, args_with_tangents \u001b[39m=\u001b[39m forward_backward\u001b[39m.\u001b[39mforward()\n",
      "File \u001b[1;32md:\\Users\\Admin\\anaconda3\\Lib\\site-packages\\tensorflow\\python\\eager\\polymorphic_function\\atomic_function.py:217\u001b[0m, in \u001b[0;36mAtomicFunction.flat_call\u001b[1;34m(self, args)\u001b[0m\n\u001b[0;32m    215\u001b[0m \u001b[39mdef\u001b[39;00m \u001b[39mflat_call\u001b[39m(\u001b[39mself\u001b[39m, args: Sequence[core\u001b[39m.\u001b[39mTensor]) \u001b[39m-\u001b[39m\u001b[39m>\u001b[39m Any:\n\u001b[0;32m    216\u001b[0m \u001b[39m  \u001b[39m\u001b[39m\"\"\"Calls with tensor inputs and returns the structured output.\"\"\"\u001b[39;00m\n\u001b[1;32m--> 217\u001b[0m   flat_outputs \u001b[39m=\u001b[39m \u001b[39mself\u001b[39;49m(\u001b[39m*\u001b[39;49margs)\n\u001b[0;32m    218\u001b[0m   \u001b[39mreturn\u001b[39;00m \u001b[39mself\u001b[39m\u001b[39m.\u001b[39mfunction_type\u001b[39m.\u001b[39mpack_output(flat_outputs)\n",
      "File \u001b[1;32md:\\Users\\Admin\\anaconda3\\Lib\\site-packages\\tensorflow\\python\\eager\\polymorphic_function\\atomic_function.py:252\u001b[0m, in \u001b[0;36mAtomicFunction.__call__\u001b[1;34m(self, *args)\u001b[0m\n\u001b[0;32m    250\u001b[0m \u001b[39mwith\u001b[39;00m record\u001b[39m.\u001b[39mstop_recording():\n\u001b[0;32m    251\u001b[0m   \u001b[39mif\u001b[39;00m \u001b[39mself\u001b[39m\u001b[39m.\u001b[39m_bound_context\u001b[39m.\u001b[39mexecuting_eagerly():\n\u001b[1;32m--> 252\u001b[0m     outputs \u001b[39m=\u001b[39m \u001b[39mself\u001b[39;49m\u001b[39m.\u001b[39;49m_bound_context\u001b[39m.\u001b[39;49mcall_function(\n\u001b[0;32m    253\u001b[0m         \u001b[39mself\u001b[39;49m\u001b[39m.\u001b[39;49mname,\n\u001b[0;32m    254\u001b[0m         \u001b[39mlist\u001b[39;49m(args),\n\u001b[0;32m    255\u001b[0m         \u001b[39mlen\u001b[39;49m(\u001b[39mself\u001b[39;49m\u001b[39m.\u001b[39;49mfunction_type\u001b[39m.\u001b[39;49mflat_outputs),\n\u001b[0;32m    256\u001b[0m     )\n\u001b[0;32m    257\u001b[0m   \u001b[39melse\u001b[39;00m:\n\u001b[0;32m    258\u001b[0m     outputs \u001b[39m=\u001b[39m make_call_op_in_graph(\n\u001b[0;32m    259\u001b[0m         \u001b[39mself\u001b[39m,\n\u001b[0;32m    260\u001b[0m         \u001b[39mlist\u001b[39m(args),\n\u001b[0;32m    261\u001b[0m         \u001b[39mself\u001b[39m\u001b[39m.\u001b[39m_bound_context\u001b[39m.\u001b[39mfunction_call_options\u001b[39m.\u001b[39mas_attrs(),\n\u001b[0;32m    262\u001b[0m     )\n",
      "File \u001b[1;32md:\\Users\\Admin\\anaconda3\\Lib\\site-packages\\tensorflow\\python\\eager\\context.py:1479\u001b[0m, in \u001b[0;36mContext.call_function\u001b[1;34m(self, name, tensor_inputs, num_outputs)\u001b[0m\n\u001b[0;32m   1477\u001b[0m cancellation_context \u001b[39m=\u001b[39m cancellation\u001b[39m.\u001b[39mcontext()\n\u001b[0;32m   1478\u001b[0m \u001b[39mif\u001b[39;00m cancellation_context \u001b[39mis\u001b[39;00m \u001b[39mNone\u001b[39;00m:\n\u001b[1;32m-> 1479\u001b[0m   outputs \u001b[39m=\u001b[39m execute\u001b[39m.\u001b[39;49mexecute(\n\u001b[0;32m   1480\u001b[0m       name\u001b[39m.\u001b[39;49mdecode(\u001b[39m\"\u001b[39;49m\u001b[39mutf-8\u001b[39;49m\u001b[39m\"\u001b[39;49m),\n\u001b[0;32m   1481\u001b[0m       num_outputs\u001b[39m=\u001b[39;49mnum_outputs,\n\u001b[0;32m   1482\u001b[0m       inputs\u001b[39m=\u001b[39;49mtensor_inputs,\n\u001b[0;32m   1483\u001b[0m       attrs\u001b[39m=\u001b[39;49mattrs,\n\u001b[0;32m   1484\u001b[0m       ctx\u001b[39m=\u001b[39;49m\u001b[39mself\u001b[39;49m,\n\u001b[0;32m   1485\u001b[0m   )\n\u001b[0;32m   1486\u001b[0m \u001b[39melse\u001b[39;00m:\n\u001b[0;32m   1487\u001b[0m   outputs \u001b[39m=\u001b[39m execute\u001b[39m.\u001b[39mexecute_with_cancellation(\n\u001b[0;32m   1488\u001b[0m       name\u001b[39m.\u001b[39mdecode(\u001b[39m\"\u001b[39m\u001b[39mutf-8\u001b[39m\u001b[39m\"\u001b[39m),\n\u001b[0;32m   1489\u001b[0m       num_outputs\u001b[39m=\u001b[39mnum_outputs,\n\u001b[1;32m   (...)\u001b[0m\n\u001b[0;32m   1493\u001b[0m       cancellation_manager\u001b[39m=\u001b[39mcancellation_context,\n\u001b[0;32m   1494\u001b[0m   )\n",
      "File \u001b[1;32md:\\Users\\Admin\\anaconda3\\Lib\\site-packages\\tensorflow\\python\\eager\\execute.py:60\u001b[0m, in \u001b[0;36mquick_execute\u001b[1;34m(op_name, num_outputs, inputs, attrs, ctx, name)\u001b[0m\n\u001b[0;32m     53\u001b[0m   \u001b[39m# Convert any objects of type core_types.Tensor to Tensor.\u001b[39;00m\n\u001b[0;32m     54\u001b[0m   inputs \u001b[39m=\u001b[39m [\n\u001b[0;32m     55\u001b[0m       tensor_conversion_registry\u001b[39m.\u001b[39mconvert(t)\n\u001b[0;32m     56\u001b[0m       \u001b[39mif\u001b[39;00m \u001b[39misinstance\u001b[39m(t, core_types\u001b[39m.\u001b[39mTensor)\n\u001b[0;32m     57\u001b[0m       \u001b[39melse\u001b[39;00m t\n\u001b[0;32m     58\u001b[0m       \u001b[39mfor\u001b[39;00m t \u001b[39min\u001b[39;00m inputs\n\u001b[0;32m     59\u001b[0m   ]\n\u001b[1;32m---> 60\u001b[0m   tensors \u001b[39m=\u001b[39m pywrap_tfe\u001b[39m.\u001b[39;49mTFE_Py_Execute(ctx\u001b[39m.\u001b[39;49m_handle, device_name, op_name,\n\u001b[0;32m     61\u001b[0m                                       inputs, attrs, num_outputs)\n\u001b[0;32m     62\u001b[0m \u001b[39mexcept\u001b[39;00m core\u001b[39m.\u001b[39m_NotOkStatusException \u001b[39mas\u001b[39;00m e:\n\u001b[0;32m     63\u001b[0m   \u001b[39mif\u001b[39;00m name \u001b[39mis\u001b[39;00m \u001b[39mnot\u001b[39;00m \u001b[39mNone\u001b[39;00m:\n",
      "\u001b[1;31mKeyboardInterrupt\u001b[0m: "
     ]
    }
   ],
   "source": [
    "transformer.fit(x=u[0][:5], y=[u[1][:5][:,:,0], u[1][:5][:,:,1], u[1][:5][:,:,2]], epochs=100)"
   ]
  },
  {
   "cell_type": "code",
   "execution_count": 839,
   "metadata": {},
   "outputs": [
    {
     "name": "stdout",
     "output_type": "stream",
     "text": [
      "(5, 3, 49, 128)\n",
      "1/1 [==============================] - 116s 116s/step\n"
     ]
    },
    {
     "data": {
      "text/plain": [
       "[array([[-0.34613574, -0.24725723,  0.22485566],\n",
       "        [-0.24567108, -0.24268132, -0.44509122],\n",
       "        [-0.42449155,  0.12960796, -0.8861203 ],\n",
       "        [-0.10334237,  0.03639297,  0.01217689],\n",
       "        [-0.16685176,  0.09116859, -0.3668781 ]], dtype=float32),\n",
       " array([[-0.52959263, -0.31515434,  0.29144627],\n",
       "        [-0.00625029,  0.03018725,  0.00985443],\n",
       "        [ 0.14792624,  0.00618448, -0.48661834],\n",
       "        [-0.19680572, -0.31270456,  0.1877094 ],\n",
       "        [-0.04569163, -0.3061453 , -0.11313421]], dtype=float32),\n",
       " array([[ 0.7568802 ,  0.3032534 ,  0.35585985],\n",
       "        [ 0.57560945,  0.0543299 ,  0.17535202],\n",
       "        [-0.13026804, -0.28158945, -0.6424637 ],\n",
       "        [ 0.63206834, -0.3839475 , -0.18032119],\n",
       "        [ 0.1314375 , -0.53101546, -0.95899737]], dtype=float32)]"
      ]
     },
     "execution_count": 839,
     "metadata": {},
     "output_type": "execute_result"
    }
   ],
   "source": [
    "transformer.predict(u[0][0][None, :, :])"
   ]
  },
  {
   "cell_type": "code",
   "execution_count": 807,
   "metadata": {},
   "outputs": [],
   "source": [
    "h = transformer.TransformerBlock.tokenize(u[0][0][None, :, :])"
   ]
  },
  {
   "cell_type": "code",
   "execution_count": 840,
   "metadata": {},
   "outputs": [
    {
     "name": "stdout",
     "output_type": "stream",
     "text": [
      "(5, 3, 49, 128)\n"
     ]
    },
    {
     "data": {
      "text/plain": [
       "[<tf.Tensor: shape=(5, 3), dtype=float32, numpy=\n",
       " array([[-0.34613577, -0.24725717,  0.2248556 ],\n",
       "        [-0.24567099, -0.24268141, -0.4450912 ],\n",
       "        [-0.42449152,  0.12960795, -0.8861203 ],\n",
       "        [-0.10334238,  0.03639295,  0.01217688],\n",
       "        [-0.16685173,  0.09116861, -0.3668781 ]], dtype=float32)>,\n",
       " <tf.Tensor: shape=(5, 3), dtype=float32, numpy=\n",
       " array([[-0.52959275, -0.31515425,  0.29144633],\n",
       "        [-0.00625029,  0.03018718,  0.00985442],\n",
       "        [ 0.1479263 ,  0.00618459, -0.48661837],\n",
       "        [-0.19680575, -0.31270462,  0.1877094 ],\n",
       "        [-0.04569162, -0.3061453 , -0.11313421]], dtype=float32)>,\n",
       " <tf.Tensor: shape=(5, 3), dtype=float32, numpy=\n",
       " array([[ 0.7568803 ,  0.30325335,  0.35585988],\n",
       "        [ 0.5756095 ,  0.05432988,  0.17535204],\n",
       "        [-0.13026804, -0.28158942, -0.64246356],\n",
       "        [ 0.6320684 , -0.38394752, -0.18032119],\n",
       "        [ 0.13143738, -0.53101546, -0.9589976 ]], dtype=float32)>]"
      ]
     },
     "execution_count": 840,
     "metadata": {},
     "output_type": "execute_result"
    }
   ],
   "source": [
    "transformer(u[0][0][None, :, :])"
   ]
  },
  {
   "cell_type": "code",
   "execution_count": 282,
   "metadata": {},
   "outputs": [],
   "source": [
    "def signal_decay_loss(y_true, y_pred):\n",
    "    L = len(y_true)\n",
    "    loss = 0\n",
    "    for l in range(1, L+1):\n",
    "        loss += (l**-0.5) * tf.abs(y_pred[l-1] - y_true[l-1])\n",
    "    return loss / L\n"
   ]
  },
  {
   "cell_type": "code",
   "execution_count": null,
   "metadata": {},
   "outputs": [],
   "source": [
    "signal_decay_loss(u[1][])"
   ]
  },
  {
   "cell_type": "code",
   "execution_count": 7,
   "metadata": {},
   "outputs": [],
   "source": [
    "t = tf.transpose(u[1], perm=(0, 2, 1))"
   ]
  },
  {
   "cell_type": "code",
   "execution_count": 304,
   "metadata": {},
   "outputs": [
    {
     "data": {
      "text/plain": [
       "array([[1.49309998e+02, 1.49940002e+02, 1.66671000e+07],\n",
       "       [1.51570007e+02, 1.51529999e+02, 2.18774000e+07],\n",
       "       [1.50490005e+02, 1.47869995e+02, 2.41458000e+07],\n",
       "       [1.46750000e+02, 1.44960007e+02, 1.73269000e+07],\n",
       "       [1.44479996e+02, 1.41550003e+02, 1.85421000e+07],\n",
       "       [1.42000000e+02, 1.42160004e+02, 1.51417000e+07],\n",
       "       [1.43699997e+02, 1.44220001e+02, 2.20684000e+07],\n",
       "       [1.42330002e+02, 1.43850006e+02, 3.03203000e+07],\n",
       "       [1.41070007e+02, 1.39529999e+02, 3.72506000e+07],\n",
       "       [1.37610001e+02, 1.31550003e+02, 4.43627000e+07],\n",
       "       [1.27029999e+02, 1.32429993e+02, 4.19395000e+07],\n",
       "       [1.34399994e+02, 1.34820007e+02, 2.54697000e+07],\n",
       "       [1.33649994e+02, 1.31729996e+02, 1.18861000e+07],\n",
       "       [1.33000000e+02, 1.36380005e+02, 2.42636000e+07],\n",
       "       [1.35750000e+02, 1.35000000e+02, 2.07503000e+07],\n",
       "       [1.36279999e+02, 1.36759995e+02, 2.98475000e+07],\n",
       "       [1.35919998e+02, 1.38679993e+02, 2.42387000e+07],\n",
       "       [1.38259995e+02, 1.40610001e+02, 2.57326000e+07],\n",
       "       [1.43000000e+02, 1.41089996e+02, 2.48192000e+07],\n",
       "       [1.40729996e+02, 1.37929993e+02, 3.03074000e+07],\n",
       "       [1.33820007e+02, 1.39630005e+02, 2.82181000e+07],\n",
       "       [1.39250000e+02, 1.37419998e+02, 2.11955000e+07],\n",
       "       [1.39600006e+02, 1.41850006e+02, 2.64222000e+07],\n",
       "       [1.43880005e+02, 1.42080002e+02, 2.03003000e+07],\n",
       "       [1.43080002e+02, 1.44500000e+02, 2.36969000e+07],\n",
       "       [1.45570007e+02, 1.45009995e+02, 1.81486000e+07],\n",
       "       [1.43339996e+02, 1.44059998e+02, 2.17858000e+07],\n",
       "       [1.43080002e+02, 1.40190002e+02, 2.43340000e+07],\n",
       "       [1.41080002e+02, 1.43660004e+02, 2.47091000e+07],\n",
       "       [1.41210007e+02, 1.33240005e+02, 5.74049000e+07],\n",
       "       [1.30699997e+02, 1.33399994e+02, 4.02979000e+07],\n",
       "       [1.33389999e+02, 1.24949997e+02, 5.69015000e+07],\n",
       "       [1.23099998e+02, 1.24059998e+02, 2.20660000e+07],\n",
       "       [1.26000000e+02, 1.34179993e+02, 3.97234000e+07],\n",
       "       [1.32440002e+02, 1.34520004e+02, 3.12025000e+07],\n",
       "       [1.35339996e+02, 1.33199997e+02, 2.26276000e+07],\n",
       "       [1.34449997e+02, 1.31089996e+02, 2.46253000e+07],\n",
       "       [1.28990005e+02, 1.35679993e+02, 2.81462000e+07],\n",
       "       [1.34690002e+02, 1.31740005e+02, 2.27179000e+07],\n",
       "       [1.34009995e+02, 1.37949997e+02, 2.90021000e+07],\n",
       "       [1.37559998e+02, 1.38050003e+02, 2.00893000e+07],\n",
       "       [1.39889999e+02, 1.42529999e+02, 2.62638000e+07],\n",
       "       [1.42949997e+02, 1.44229996e+02, 2.22059000e+07],\n",
       "       [1.43080002e+02, 1.44199997e+02, 1.61250000e+07],\n",
       "       [1.43149994e+02, 1.43800003e+02, 1.29080000e+07],\n",
       "       [1.42000000e+02, 1.45389999e+02, 2.05203000e+07],\n",
       "       [1.46009995e+02, 1.48949997e+02, 2.40690000e+07],\n",
       "       [1.49000000e+02, 1.47539993e+02, 1.80257000e+07],\n",
       "       [1.46949997e+02, 1.48300003e+02, 1.57879000e+07],\n",
       "       [1.49750000e+02, 1.50039993e+02, 3.10296000e+07]])"
      ]
     },
     "execution_count": 304,
     "metadata": {},
     "output_type": "execute_result"
    }
   ],
   "source": [
    "u[0][3]"
   ]
  },
  {
   "cell_type": "code",
   "execution_count": 302,
   "metadata": {},
   "outputs": [
    {
     "data": {
      "text/plain": [
       "<tf.Tensor: shape=(3, 3), dtype=float64, numpy=\n",
       "array([[1.49000000e+02, 1.46949997e+02, 1.49750000e+02],\n",
       "       [1.47539993e+02, 1.48300003e+02, 1.50039993e+02],\n",
       "       [1.80257000e+07, 1.57879000e+07, 3.10296000e+07]])>"
      ]
     },
     "execution_count": 302,
     "metadata": {},
     "output_type": "execute_result"
    }
   ],
   "source": []
  },
  {
   "cell_type": "code",
   "execution_count": 293,
   "metadata": {},
   "outputs": [
    {
     "data": {
      "text/plain": [
       "<tf.Tensor: shape=(3, 3), dtype=float64, numpy=\n",
       "array([[1.49000000e+02, 1.46949997e+02, 1.49750000e+02],\n",
       "       [1.47539993e+02, 1.48300003e+02, 1.50039993e+02],\n",
       "       [1.80257000e+07, 1.57879000e+07, 3.10296000e+07]])>"
      ]
     },
     "execution_count": 293,
     "metadata": {},
     "output_type": "execute_result"
    }
   ],
   "source": [
    "u[0]"
   ]
  },
  {
   "cell_type": "code",
   "execution_count": null,
   "metadata": {},
   "outputs": [],
   "source": []
  }
 ],
 "metadata": {
  "kernelspec": {
   "display_name": "tf",
   "language": "python",
   "name": "python3"
  },
  "language_info": {
   "codemirror_mode": {
    "name": "ipython",
    "version": 3
   },
   "file_extension": ".py",
   "mimetype": "text/x-python",
   "name": "python",
   "nbconvert_exporter": "python",
   "pygments_lexer": "ipython3",
   "version": "3.11.5"
  }
 },
 "nbformat": 4,
 "nbformat_minor": 2
}
