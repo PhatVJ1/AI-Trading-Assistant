{
 "cells": [
  {
   "cell_type": "code",
   "execution_count": 1,
   "metadata": {},
   "outputs": [],
   "source": [
    "import yfinance as yf\n",
    "import numpy as np\n",
    "import pandas as pd\n",
    "from component_data_preprocessing.input import get_data\n",
    "import tensorflow as tf\n",
    "from component_model import Transformer"
   ]
  },
  {
   "cell_type": "code",
   "execution_count": 2,
   "metadata": {},
   "outputs": [
    {
     "name": "stdout",
     "output_type": "stream",
     "text": [
      "[*********************100%%**********************]  1 of 1 completed\n"
     ]
    },
    {
     "data": {
      "text/html": [
       "<div>\n",
       "<style scoped>\n",
       "    .dataframe tbody tr th:only-of-type {\n",
       "        vertical-align: middle;\n",
       "    }\n",
       "\n",
       "    .dataframe tbody tr th {\n",
       "        vertical-align: top;\n",
       "    }\n",
       "\n",
       "    .dataframe thead th {\n",
       "        text-align: right;\n",
       "    }\n",
       "</style>\n",
       "<table border=\"1\" class=\"dataframe\">\n",
       "  <thead>\n",
       "    <tr style=\"text-align: right;\">\n",
       "      <th></th>\n",
       "      <th>Open</th>\n",
       "      <th>High</th>\n",
       "      <th>Low</th>\n",
       "      <th>Close</th>\n",
       "      <th>Adj Close</th>\n",
       "      <th>Volume</th>\n",
       "    </tr>\n",
       "    <tr>\n",
       "      <th>Date</th>\n",
       "      <th></th>\n",
       "      <th></th>\n",
       "      <th></th>\n",
       "      <th></th>\n",
       "      <th></th>\n",
       "      <th></th>\n",
       "    </tr>\n",
       "  </thead>\n",
       "  <tbody>\n",
       "    <tr>\n",
       "      <th>2018-11-01</th>\n",
       "      <td>151.520004</td>\n",
       "      <td>152.750000</td>\n",
       "      <td>149.350006</td>\n",
       "      <td>151.750000</td>\n",
       "      <td>151.750000</td>\n",
       "      <td>25640800</td>\n",
       "    </tr>\n",
       "    <tr>\n",
       "      <th>2018-11-02</th>\n",
       "      <td>151.800003</td>\n",
       "      <td>154.130005</td>\n",
       "      <td>148.960007</td>\n",
       "      <td>150.350006</td>\n",
       "      <td>150.350006</td>\n",
       "      <td>24708700</td>\n",
       "    </tr>\n",
       "    <tr>\n",
       "      <th>2018-11-05</th>\n",
       "      <td>150.100006</td>\n",
       "      <td>150.190002</td>\n",
       "      <td>147.440002</td>\n",
       "      <td>148.679993</td>\n",
       "      <td>148.679993</td>\n",
       "      <td>15971200</td>\n",
       "    </tr>\n",
       "    <tr>\n",
       "      <th>2018-11-06</th>\n",
       "      <td>149.309998</td>\n",
       "      <td>150.970001</td>\n",
       "      <td>148.000000</td>\n",
       "      <td>149.940002</td>\n",
       "      <td>149.940002</td>\n",
       "      <td>16667100</td>\n",
       "    </tr>\n",
       "    <tr>\n",
       "      <th>2018-11-07</th>\n",
       "      <td>151.570007</td>\n",
       "      <td>153.009995</td>\n",
       "      <td>149.830002</td>\n",
       "      <td>151.529999</td>\n",
       "      <td>151.529999</td>\n",
       "      <td>21877400</td>\n",
       "    </tr>\n",
       "    <tr>\n",
       "      <th>...</th>\n",
       "      <td>...</td>\n",
       "      <td>...</td>\n",
       "      <td>...</td>\n",
       "      <td>...</td>\n",
       "      <td>...</td>\n",
       "      <td>...</td>\n",
       "    </tr>\n",
       "    <tr>\n",
       "      <th>2023-09-25</th>\n",
       "      <td>295.640015</td>\n",
       "      <td>300.950012</td>\n",
       "      <td>293.700012</td>\n",
       "      <td>300.829987</td>\n",
       "      <td>300.829987</td>\n",
       "      <td>18987000</td>\n",
       "    </tr>\n",
       "    <tr>\n",
       "      <th>2023-09-26</th>\n",
       "      <td>297.660004</td>\n",
       "      <td>300.299988</td>\n",
       "      <td>296.010010</td>\n",
       "      <td>298.959991</td>\n",
       "      <td>298.959991</td>\n",
       "      <td>19417200</td>\n",
       "    </tr>\n",
       "    <tr>\n",
       "      <th>2023-09-27</th>\n",
       "      <td>300.450012</td>\n",
       "      <td>301.299988</td>\n",
       "      <td>286.790009</td>\n",
       "      <td>297.739990</td>\n",
       "      <td>297.739990</td>\n",
       "      <td>36429800</td>\n",
       "    </tr>\n",
       "    <tr>\n",
       "      <th>2023-09-28</th>\n",
       "      <td>298.940002</td>\n",
       "      <td>306.329987</td>\n",
       "      <td>296.700012</td>\n",
       "      <td>303.959991</td>\n",
       "      <td>303.959991</td>\n",
       "      <td>22167100</td>\n",
       "    </tr>\n",
       "    <tr>\n",
       "      <th>2023-09-29</th>\n",
       "      <td>307.380005</td>\n",
       "      <td>310.640015</td>\n",
       "      <td>299.359985</td>\n",
       "      <td>300.209991</td>\n",
       "      <td>300.209991</td>\n",
       "      <td>25356600</td>\n",
       "    </tr>\n",
       "  </tbody>\n",
       "</table>\n",
       "<p>1235 rows × 6 columns</p>\n",
       "</div>"
      ],
      "text/plain": [
       "                  Open        High         Low       Close   Adj Close  \\\n",
       "Date                                                                     \n",
       "2018-11-01  151.520004  152.750000  149.350006  151.750000  151.750000   \n",
       "2018-11-02  151.800003  154.130005  148.960007  150.350006  150.350006   \n",
       "2018-11-05  150.100006  150.190002  147.440002  148.679993  148.679993   \n",
       "2018-11-06  149.309998  150.970001  148.000000  149.940002  149.940002   \n",
       "2018-11-07  151.570007  153.009995  149.830002  151.529999  151.529999   \n",
       "...                ...         ...         ...         ...         ...   \n",
       "2023-09-25  295.640015  300.950012  293.700012  300.829987  300.829987   \n",
       "2023-09-26  297.660004  300.299988  296.010010  298.959991  298.959991   \n",
       "2023-09-27  300.450012  301.299988  286.790009  297.739990  297.739990   \n",
       "2023-09-28  298.940002  306.329987  296.700012  303.959991  303.959991   \n",
       "2023-09-29  307.380005  310.640015  299.359985  300.209991  300.209991   \n",
       "\n",
       "              Volume  \n",
       "Date                  \n",
       "2018-11-01  25640800  \n",
       "2018-11-02  24708700  \n",
       "2018-11-05  15971200  \n",
       "2018-11-06  16667100  \n",
       "2018-11-07  21877400  \n",
       "...              ...  \n",
       "2023-09-25  18987000  \n",
       "2023-09-26  19417200  \n",
       "2023-09-27  36429800  \n",
       "2023-09-28  22167100  \n",
       "2023-09-29  25356600  \n",
       "\n",
       "[1235 rows x 6 columns]"
      ]
     },
     "execution_count": 2,
     "metadata": {},
     "output_type": "execute_result"
    }
   ],
   "source": [
    "df = yf.download(\"Meta\", start=\"2018-11-01\", end=\"2023-10-1\", interval=\"1d\")\n",
    "df"
   ]
  },
  {
   "cell_type": "code",
   "execution_count": 3,
   "metadata": {},
   "outputs": [],
   "source": [
    "process = get_data(df, 50, 3)"
   ]
  },
  {
   "cell_type": "code",
   "execution_count": 4,
   "metadata": {},
   "outputs": [],
   "source": [
    "train, test = process.get_train_test()"
   ]
  },
  {
   "cell_type": "code",
   "execution_count": 5,
   "metadata": {},
   "outputs": [
    {
     "data": {
      "text/plain": [
       "(3, 50)"
      ]
     },
     "execution_count": 5,
     "metadata": {},
     "output_type": "execute_result"
    }
   ],
   "source": [
    "train.shape[1:]"
   ]
  },
  {
   "cell_type": "code",
   "execution_count": 6,
   "metadata": {},
   "outputs": [
    {
     "data": {
      "text/plain": [
       "(1183, 2, 3)"
      ]
     },
     "execution_count": 6,
     "metadata": {},
     "output_type": "execute_result"
    }
   ],
   "source": [
    "test.shape"
   ]
  },
  {
   "cell_type": "code",
   "execution_count": 7,
   "metadata": {},
   "outputs": [],
   "source": [
    "transformer = Transformer.model(input_shape=[train.shape[1:], test.shape[1:]], num_layers=4, d_model=10, num_heads=8, dff=512)"
   ]
  },
  {
   "cell_type": "code",
   "execution_count": 8,
   "metadata": {},
   "outputs": [
    {
     "ename": "ValueError",
     "evalue": "Could not interpret optimizer identifier: <component_model.hyperparameter.optimizer object at 0x000001C29ADAF160>",
     "output_type": "error",
     "traceback": [
      "\u001b[1;31m---------------------------------------------------------------------------\u001b[0m",
      "\u001b[1;31mValueError\u001b[0m                                Traceback (most recent call last)",
      "\u001b[1;32mc:\\Users\\Admin\\AI-Trading-Assistant\\AI_Trading_Assistant_Model\\test.ipynb Cell 8\u001b[0m line \u001b[0;36m1\n\u001b[1;32m----> <a href='vscode-notebook-cell:/c%3A/Users/Admin/AI-Trading-Assistant/AI_Trading_Assistant_Model/test.ipynb#X10sZmlsZQ%3D%3D?line=0'>1</a>\u001b[0m transformer\u001b[39m.\u001b[39;49mbuild_model()\n",
      "File \u001b[1;32mc:\\Users\\Admin\\AI-Trading-Assistant\\AI_Trading_Assistant_Model\\component_model\\Transformer.py:93\u001b[0m, in \u001b[0;36mmodel.build_model\u001b[1;34m(self)\u001b[0m\n\u001b[0;32m     91\u001b[0m model\u001b[39m.\u001b[39mbuild(\u001b[39mself\u001b[39m\u001b[39m.\u001b[39minput_shape)\n\u001b[0;32m     92\u001b[0m optimizer \u001b[39m=\u001b[39m hp\u001b[39m.\u001b[39moptimizer(\u001b[39mself\u001b[39m\u001b[39m.\u001b[39md_model, \u001b[39mself\u001b[39m\u001b[39m.\u001b[39mwarmup_steps, \u001b[39mself\u001b[39m\u001b[39m.\u001b[39mbeta_1, \u001b[39mself\u001b[39m\u001b[39m.\u001b[39mbeta_2, \u001b[39mself\u001b[39m\u001b[39m.\u001b[39mepsilon)\n\u001b[1;32m---> 93\u001b[0m model\u001b[39m.\u001b[39;49mcompile(optimizer\u001b[39m=\u001b[39;49moptimizer, loss\u001b[39m=\u001b[39;49m\u001b[39m'\u001b[39;49m\u001b[39mmse\u001b[39;49m\u001b[39m'\u001b[39;49m, metrics\u001b[39m=\u001b[39;49m[\u001b[39m'\u001b[39;49m\u001b[39mmse\u001b[39;49m\u001b[39m'\u001b[39;49m, \u001b[39m'\u001b[39;49m\u001b[39mmae\u001b[39;49m\u001b[39m'\u001b[39;49m])\n\u001b[0;32m     95\u001b[0m \u001b[39mreturn\u001b[39;00m model\n",
      "File \u001b[1;32md:\\Users\\Admin\\anaconda3\\envs\\tf\\lib\\site-packages\\keras\\utils\\traceback_utils.py:70\u001b[0m, in \u001b[0;36mfilter_traceback.<locals>.error_handler\u001b[1;34m(*args, **kwargs)\u001b[0m\n\u001b[0;32m     67\u001b[0m     filtered_tb \u001b[39m=\u001b[39m _process_traceback_frames(e\u001b[39m.\u001b[39m__traceback__)\n\u001b[0;32m     68\u001b[0m     \u001b[39m# To get the full stack trace, call:\u001b[39;00m\n\u001b[0;32m     69\u001b[0m     \u001b[39m# `tf.debugging.disable_traceback_filtering()`\u001b[39;00m\n\u001b[1;32m---> 70\u001b[0m     \u001b[39mraise\u001b[39;00m e\u001b[39m.\u001b[39mwith_traceback(filtered_tb) \u001b[39mfrom\u001b[39;00m \u001b[39mNone\u001b[39;00m\n\u001b[0;32m     71\u001b[0m \u001b[39mfinally\u001b[39;00m:\n\u001b[0;32m     72\u001b[0m     \u001b[39mdel\u001b[39;00m filtered_tb\n",
      "File \u001b[1;32md:\\Users\\Admin\\anaconda3\\envs\\tf\\lib\\site-packages\\keras\\optimizers\\__init__.py:230\u001b[0m, in \u001b[0;36mget\u001b[1;34m(identifier, **kwargs)\u001b[0m\n\u001b[0;32m    228\u001b[0m     \u001b[39mreturn\u001b[39;00m deserialize(config, use_legacy_optimizer\u001b[39m=\u001b[39muse_legacy_optimizer)\n\u001b[0;32m    229\u001b[0m \u001b[39melse\u001b[39;00m:\n\u001b[1;32m--> 230\u001b[0m     \u001b[39mraise\u001b[39;00m \u001b[39mValueError\u001b[39;00m(\n\u001b[0;32m    231\u001b[0m         \u001b[39mf\u001b[39m\u001b[39m\"\u001b[39m\u001b[39mCould not interpret optimizer identifier: \u001b[39m\u001b[39m{\u001b[39;00midentifier\u001b[39m}\u001b[39;00m\u001b[39m\"\u001b[39m\n\u001b[0;32m    232\u001b[0m     )\n",
      "\u001b[1;31mValueError\u001b[0m: Could not interpret optimizer identifier: <component_model.hyperparameter.optimizer object at 0x000001C29ADAF160>"
     ]
    }
   ],
   "source": [
    "transformer.build_model()"
   ]
  },
  {
   "cell_type": "code",
   "execution_count": 15,
   "metadata": {},
   "outputs": [],
   "source": [
    "transformer = Transformer(num_layers=4, d_model=10, num_heads=8, dff=512, input_vocab_size=50, target_vocab_size=3)"
   ]
  },
  {
   "cell_type": "code",
   "execution_count": 25,
   "metadata": {},
   "outputs": [
    {
     "ename": "AttributeError",
     "evalue": "'model' object has no attribute 'build'",
     "output_type": "error",
     "traceback": [
      "\u001b[1;31m---------------------------------------------------------------------------\u001b[0m",
      "\u001b[1;31mAttributeError\u001b[0m                            Traceback (most recent call last)",
      "\u001b[1;32mc:\\Users\\Admin\\AI-Trading-Assistant\\AI_Trading_Assistant_Model\\test.ipynb Cell 10\u001b[0m line \u001b[0;36m1\n\u001b[1;32m----> <a href='vscode-notebook-cell:/c%3A/Users/Admin/AI-Trading-Assistant/AI_Trading_Assistant_Model/test.ipynb#X12sZmlsZQ%3D%3D?line=0'>1</a>\u001b[0m transformer\u001b[39m.\u001b[39;49mbuild(input_shape\u001b[39m=\u001b[39m[(\u001b[39m3\u001b[39m, \u001b[39m50\u001b[39m), (\u001b[39m2\u001b[39m, \u001b[39m3\u001b[39m)])\n",
      "\u001b[1;31mAttributeError\u001b[0m: 'model' object has no attribute 'build'"
     ]
    }
   ],
   "source": [
    "transformer.buil(input_shape=[(3, 50), (2, 3)])"
   ]
  },
  {
   "cell_type": "code",
   "execution_count": 18,
   "metadata": {},
   "outputs": [
    {
     "data": {
      "text/plain": [
       "<tf.Tensor: shape=(2, 3), dtype=float32, numpy=\n",
       "array([[ 0.21607572, -0.5885107 , -0.792025  ],\n",
       "       [-0.96713597, -0.17489743, -0.2916427 ]], dtype=float32)>"
      ]
     },
     "execution_count": 18,
     "metadata": {},
     "output_type": "execute_result"
    }
   ],
   "source": [
    "transformer([train, test])[0]"
   ]
  },
  {
   "cell_type": "code",
   "execution_count": 20,
   "metadata": {},
   "outputs": [
    {
     "data": {
      "text/plain": [
       "(1183, 3, 50)"
      ]
     },
     "execution_count": 20,
     "metadata": {},
     "output_type": "execute_result"
    }
   ],
   "source": [
    "train.shape"
   ]
  },
  {
   "cell_type": "code",
   "execution_count": 21,
   "metadata": {},
   "outputs": [
    {
     "data": {
      "text/plain": [
       "(1183, 2, 3)"
      ]
     },
     "execution_count": 21,
     "metadata": {},
     "output_type": "execute_result"
    }
   ],
   "source": [
    "test.shape"
   ]
  },
  {
   "cell_type": "code",
   "execution_count": 10,
   "metadata": {},
   "outputs": [],
   "source": [
    "Pos = pos.PositionalTraceback(50, 10)"
   ]
  },
  {
   "cell_type": "code",
   "execution_count": 11,
   "metadata": {},
   "outputs": [],
   "source": [
    "out = Pos(train)"
   ]
  },
  {
   "cell_type": "code",
   "execution_count": 12,
   "metadata": {},
   "outputs": [
    {
     "data": {
      "text/plain": [
       "TensorShape([1183, 2, 50, 10])"
      ]
     },
     "execution_count": 12,
     "metadata": {},
     "output_type": "execute_result"
    }
   ],
   "source": [
    "out.shape"
   ]
  },
  {
   "cell_type": "code",
   "execution_count": null,
   "metadata": {},
   "outputs": [],
   "source": []
  }
 ],
 "metadata": {
  "kernelspec": {
   "display_name": "tf",
   "language": "python",
   "name": "python3"
  },
  "language_info": {
   "codemirror_mode": {
    "name": "ipython",
    "version": 3
   },
   "file_extension": ".py",
   "mimetype": "text/x-python",
   "name": "python",
   "nbconvert_exporter": "python",
   "pygments_lexer": "ipython3",
   "version": "3.10.13"
  }
 },
 "nbformat": 4,
 "nbformat_minor": 2
}
