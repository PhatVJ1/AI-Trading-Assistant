{
 "cells": [
  {
   "cell_type": "code",
   "execution_count": 1,
   "metadata": {},
   "outputs": [],
   "source": [
    "import yfinance as yf\n",
    "import numpy as np\n",
    "import pandas as pd\n",
    "from component_data_preprocessing.input import get_data\n",
    "import tensorflow as tf\n",
    "from component_model import Transformer"
   ]
  },
  {
   "cell_type": "code",
   "execution_count": 2,
   "metadata": {},
   "outputs": [
    {
     "name": "stdout",
     "output_type": "stream",
     "text": [
      "[*********************100%%**********************]  1 of 1 completed\n"
     ]
    },
    {
     "data": {
      "text/html": [
       "<div>\n",
       "<style scoped>\n",
       "    .dataframe tbody tr th:only-of-type {\n",
       "        vertical-align: middle;\n",
       "    }\n",
       "\n",
       "    .dataframe tbody tr th {\n",
       "        vertical-align: top;\n",
       "    }\n",
       "\n",
       "    .dataframe thead th {\n",
       "        text-align: right;\n",
       "    }\n",
       "</style>\n",
       "<table border=\"1\" class=\"dataframe\">\n",
       "  <thead>\n",
       "    <tr style=\"text-align: right;\">\n",
       "      <th></th>\n",
       "      <th>Open</th>\n",
       "      <th>High</th>\n",
       "      <th>Low</th>\n",
       "      <th>Close</th>\n",
       "      <th>Adj Close</th>\n",
       "      <th>Volume</th>\n",
       "    </tr>\n",
       "    <tr>\n",
       "      <th>Date</th>\n",
       "      <th></th>\n",
       "      <th></th>\n",
       "      <th></th>\n",
       "      <th></th>\n",
       "      <th></th>\n",
       "      <th></th>\n",
       "    </tr>\n",
       "  </thead>\n",
       "  <tbody>\n",
       "    <tr>\n",
       "      <th>2018-11-01</th>\n",
       "      <td>151.520004</td>\n",
       "      <td>152.750000</td>\n",
       "      <td>149.350006</td>\n",
       "      <td>151.750000</td>\n",
       "      <td>151.750000</td>\n",
       "      <td>25640800</td>\n",
       "    </tr>\n",
       "    <tr>\n",
       "      <th>2018-11-02</th>\n",
       "      <td>151.800003</td>\n",
       "      <td>154.130005</td>\n",
       "      <td>148.960007</td>\n",
       "      <td>150.350006</td>\n",
       "      <td>150.350006</td>\n",
       "      <td>24708700</td>\n",
       "    </tr>\n",
       "    <tr>\n",
       "      <th>2018-11-05</th>\n",
       "      <td>150.100006</td>\n",
       "      <td>150.190002</td>\n",
       "      <td>147.440002</td>\n",
       "      <td>148.679993</td>\n",
       "      <td>148.679993</td>\n",
       "      <td>15971200</td>\n",
       "    </tr>\n",
       "    <tr>\n",
       "      <th>2018-11-06</th>\n",
       "      <td>149.309998</td>\n",
       "      <td>150.970001</td>\n",
       "      <td>148.000000</td>\n",
       "      <td>149.940002</td>\n",
       "      <td>149.940002</td>\n",
       "      <td>16667100</td>\n",
       "    </tr>\n",
       "    <tr>\n",
       "      <th>2018-11-07</th>\n",
       "      <td>151.570007</td>\n",
       "      <td>153.009995</td>\n",
       "      <td>149.830002</td>\n",
       "      <td>151.529999</td>\n",
       "      <td>151.529999</td>\n",
       "      <td>21877400</td>\n",
       "    </tr>\n",
       "    <tr>\n",
       "      <th>...</th>\n",
       "      <td>...</td>\n",
       "      <td>...</td>\n",
       "      <td>...</td>\n",
       "      <td>...</td>\n",
       "      <td>...</td>\n",
       "      <td>...</td>\n",
       "    </tr>\n",
       "    <tr>\n",
       "      <th>2023-09-25</th>\n",
       "      <td>295.640015</td>\n",
       "      <td>300.950012</td>\n",
       "      <td>293.700012</td>\n",
       "      <td>300.829987</td>\n",
       "      <td>300.829987</td>\n",
       "      <td>18987000</td>\n",
       "    </tr>\n",
       "    <tr>\n",
       "      <th>2023-09-26</th>\n",
       "      <td>297.660004</td>\n",
       "      <td>300.299988</td>\n",
       "      <td>296.010010</td>\n",
       "      <td>298.959991</td>\n",
       "      <td>298.959991</td>\n",
       "      <td>19417200</td>\n",
       "    </tr>\n",
       "    <tr>\n",
       "      <th>2023-09-27</th>\n",
       "      <td>300.450012</td>\n",
       "      <td>301.299988</td>\n",
       "      <td>286.790009</td>\n",
       "      <td>297.739990</td>\n",
       "      <td>297.739990</td>\n",
       "      <td>36429800</td>\n",
       "    </tr>\n",
       "    <tr>\n",
       "      <th>2023-09-28</th>\n",
       "      <td>298.940002</td>\n",
       "      <td>306.329987</td>\n",
       "      <td>296.700012</td>\n",
       "      <td>303.959991</td>\n",
       "      <td>303.959991</td>\n",
       "      <td>22167100</td>\n",
       "    </tr>\n",
       "    <tr>\n",
       "      <th>2023-09-29</th>\n",
       "      <td>307.380005</td>\n",
       "      <td>310.640015</td>\n",
       "      <td>299.359985</td>\n",
       "      <td>300.209991</td>\n",
       "      <td>300.209991</td>\n",
       "      <td>25356600</td>\n",
       "    </tr>\n",
       "  </tbody>\n",
       "</table>\n",
       "<p>1235 rows × 6 columns</p>\n",
       "</div>"
      ],
      "text/plain": [
       "                  Open        High         Low       Close   Adj Close  \\\n",
       "Date                                                                     \n",
       "2018-11-01  151.520004  152.750000  149.350006  151.750000  151.750000   \n",
       "2018-11-02  151.800003  154.130005  148.960007  150.350006  150.350006   \n",
       "2018-11-05  150.100006  150.190002  147.440002  148.679993  148.679993   \n",
       "2018-11-06  149.309998  150.970001  148.000000  149.940002  149.940002   \n",
       "2018-11-07  151.570007  153.009995  149.830002  151.529999  151.529999   \n",
       "...                ...         ...         ...         ...         ...   \n",
       "2023-09-25  295.640015  300.950012  293.700012  300.829987  300.829987   \n",
       "2023-09-26  297.660004  300.299988  296.010010  298.959991  298.959991   \n",
       "2023-09-27  300.450012  301.299988  286.790009  297.739990  297.739990   \n",
       "2023-09-28  298.940002  306.329987  296.700012  303.959991  303.959991   \n",
       "2023-09-29  307.380005  310.640015  299.359985  300.209991  300.209991   \n",
       "\n",
       "              Volume  \n",
       "Date                  \n",
       "2018-11-01  25640800  \n",
       "2018-11-02  24708700  \n",
       "2018-11-05  15971200  \n",
       "2018-11-06  16667100  \n",
       "2018-11-07  21877400  \n",
       "...              ...  \n",
       "2023-09-25  18987000  \n",
       "2023-09-26  19417200  \n",
       "2023-09-27  36429800  \n",
       "2023-09-28  22167100  \n",
       "2023-09-29  25356600  \n",
       "\n",
       "[1235 rows x 6 columns]"
      ]
     },
     "execution_count": 2,
     "metadata": {},
     "output_type": "execute_result"
    }
   ],
   "source": [
    "df = yf.download(\"Meta\", start=\"2018-11-01\", end=\"2023-10-1\", interval=\"1d\")\n",
    "df"
   ]
  },
  {
   "cell_type": "code",
   "execution_count": 34,
   "metadata": {},
   "outputs": [],
   "source": [
    "process = get_data(df, 50, 3)"
   ]
  },
  {
   "cell_type": "code",
   "execution_count": 35,
   "metadata": {},
   "outputs": [],
   "source": [
    "train, test = process.get_train_test()"
   ]
  },
  {
   "cell_type": "code",
   "execution_count": 36,
   "metadata": {},
   "outputs": [
    {
     "data": {
      "text/plain": [
       "(1183, 3, 50)"
      ]
     },
     "execution_count": 36,
     "metadata": {},
     "output_type": "execute_result"
    }
   ],
   "source": [
    "train.shape"
   ]
  },
  {
   "cell_type": "code",
   "execution_count": 37,
   "metadata": {},
   "outputs": [
    {
     "data": {
      "text/plain": [
       "(1183, 2, 3)"
      ]
     },
     "execution_count": 37,
     "metadata": {},
     "output_type": "execute_result"
    }
   ],
   "source": [
    "test.shape"
   ]
  },
  {
   "cell_type": "code",
   "execution_count": 38,
   "metadata": {},
   "outputs": [],
   "source": [
    "transformer = Transformer.model(input_shape=[train.shape[1:], test.shape[1:]], num_layers=4, d_model=10, num_heads=8, dff=512)"
   ]
  },
  {
   "cell_type": "code",
   "execution_count": 39,
   "metadata": {},
   "outputs": [],
   "source": [
    "model = transformer.build_model()"
   ]
  },
  {
   "cell_type": "code",
   "execution_count": 11,
   "metadata": {},
   "outputs": [],
   "source": [
    "class get_data():\n",
    "    def __init__(self, data_path_or_df, seq_train, seq_test):\n",
    "        try:\n",
    "            if isinstance(data_path_or_df, str):\n",
    "                self.data = pd.read_csv(data_path_or_df)\n",
    "            elif isinstance(data_path_or_df, pd.DataFrame):\n",
    "                self.data = data_path_or_df\n",
    "            self.seq_train = seq_train\n",
    "            self.seq_test = seq_test\n",
    "            self.train, self.test = self.data_generator(self.data, seq_train, seq_test)\n",
    "        except:\n",
    "            print(\"data_path_or_df must be path to data csv or DataFrame.\")\n",
    "\n",
    "    def set_seq(self, seq_train = None, seq_test = None):\n",
    "        if seq_train != None or seq_test != None and seq_train != self.seq_train or seq_test != self.seq_test:\n",
    "            self.seq_train = seq_train\n",
    "            self.seq_test = seq_test\n",
    "            self.train, self.test = self.data_generator(self.data, self.seq_train, self.seq_test)\n",
    "      \n",
    "    def set_data_path_or_df(self, data_path_or_df):\n",
    "        try:\n",
    "            if isinstance(data_path_or_df, str):\n",
    "                self.data = pd.read_csv(data_path_or_df)\n",
    "            elif isinstance(data_path_or_df, pd.DataFrame):\n",
    "                self.data = data_path_or_df\n",
    "            self.train, self.test = self.data_generator(self.data)\n",
    "        except:\n",
    "            print(\"data_path_or_df must be path to data csv or DataFrame.\")\n",
    "\n",
    "    def get_train_test(self):\n",
    "        return self.train, self.test\n",
    "\n",
    "    def data_generator(self, data, seq_train, seq_test):\n",
    "        data = data[['Open', 'Close', 'Volume']]\n",
    "        data_ai = np.empty((len(data), 3, 0))\n",
    "        for i in range(seq_train + seq_test):\n",
    "            data_ai = np.append(data_ai, np.array(data.shift(i))[np.newaxis,:,:].transpose(1, 2, 0), axis=2)\n",
    "\n",
    "        data_ai = data_ai[seq_train + seq_test - 1:, :, ::-1]\n",
    "\n",
    "        return data_ai[:, :, :seq_train], data_ai[:, :-1, -seq_test:]"
   ]
  },
  {
   "cell_type": "code",
   "execution_count": 55,
   "metadata": {},
   "outputs": [],
   "source": [
    "def data_generator(data, seq_train, seq_test):\n",
    "        data = data[['Open', 'Close', 'Volume']]\n",
    "        data_ai = np.empty((len(data), 3, 0))\n",
    "        for i in range(seq_train + seq_test):\n",
    "            data_ai = np.append(data_ai, np.array(data.shift(i))[np.newaxis,:,:].transpose(1, 2, 0), axis=2)\n",
    "\n",
    "        data_ai = data_ai[seq_train + seq_test - 1:, :, ::-1]\n",
    "        start = np.full((data_ai.shape[0], 2, 1), -1)\n",
    "        end = np.full((data_ai.shape[0], 2, 1), -2)\n",
    "\n",
    "        return (data_ai[:, :, :seq_train], np.concatenate([start, data_ai[:, :-1, -seq_test:]], axis=2)), np.concatenate([data_ai[:, :-1, -seq_test:], end], axis=2)"
   ]
  },
  {
   "cell_type": "code",
   "execution_count": 56,
   "metadata": {},
   "outputs": [],
   "source": [
    "train, test = data_generator(df, 50, 3)"
   ]
  },
  {
   "cell_type": "code",
   "execution_count": 60,
   "metadata": {},
   "outputs": [
    {
     "data": {
      "text/plain": [
       "array([[ -1.        , 149.        , 146.94999695, 149.75      ],\n",
       "       [ -1.        , 147.53999329, 148.30000305, 150.03999329]])"
      ]
     },
     "execution_count": 60,
     "metadata": {},
     "output_type": "execute_result"
    }
   ],
   "source": [
    "train[1][0]"
   ]
  },
  {
   "cell_type": "code",
   "execution_count": 19,
   "metadata": {},
   "outputs": [],
   "source": [
    "ones = np.ones((1183, 2, 1))"
   ]
  },
  {
   "cell_type": "code",
   "execution_count": 20,
   "metadata": {},
   "outputs": [
    {
     "data": {
      "text/plain": [
       "(1183, 2, 1)"
      ]
     },
     "execution_count": 20,
     "metadata": {},
     "output_type": "execute_result"
    }
   ],
   "source": [
    "ones.shape"
   ]
  },
  {
   "cell_type": "code",
   "execution_count": 29,
   "metadata": {},
   "outputs": [
    {
     "data": {
      "text/plain": [
       "(1183, 2, 4)"
      ]
     },
     "execution_count": 29,
     "metadata": {},
     "output_type": "execute_result"
    }
   ],
   "source": [
    "t.shape"
   ]
  },
  {
   "cell_type": "code",
   "execution_count": 42,
   "metadata": {},
   "outputs": [],
   "source": [
    "test = np.concatenate([test, ones], axis=2)"
   ]
  },
  {
   "cell_type": "code",
   "execution_count": 43,
   "metadata": {},
   "outputs": [
    {
     "data": {
      "text/plain": [
       "(1183, 2, 4)"
      ]
     },
     "execution_count": 43,
     "metadata": {},
     "output_type": "execute_result"
    }
   ],
   "source": [
    "test.shape"
   ]
  },
  {
   "cell_type": "code",
   "execution_count": 24,
   "metadata": {},
   "outputs": [
    {
     "data": {
      "text/plain": [
       "array([[146.94999695, 149.75      , 149.19999695,   1.        ],\n",
       "       [148.30000305, 150.03999329, 147.57000732,   1.        ]])"
      ]
     },
     "execution_count": 24,
     "metadata": {},
     "output_type": "execute_result"
    }
   ],
   "source": [
    "t[1]"
   ]
  },
  {
   "cell_type": "code",
   "execution_count": 26,
   "metadata": {},
   "outputs": [],
   "source": [
    "k = np.full((1183, 2, 1), -1)"
   ]
  },
  {
   "cell_type": "code",
   "execution_count": 27,
   "metadata": {},
   "outputs": [],
   "source": [
    "t = np.concatenate([test, k], axis=2)"
   ]
  },
  {
   "cell_type": "code",
   "execution_count": 41,
   "metadata": {},
   "outputs": [
    {
     "ename": "TypeError",
     "evalue": "'model' object is not callable",
     "output_type": "error",
     "traceback": [
      "\u001b[1;31m---------------------------------------------------------------------------\u001b[0m",
      "\u001b[1;31mTypeError\u001b[0m                                 Traceback (most recent call last)",
      "\u001b[1;32mc:\\Users\\Admin\\AI-Trading-Assistant\\AI_Trading_Assistant_Model\\test.ipynb Cell 21\u001b[0m line \u001b[0;36m1\n\u001b[1;32m----> <a href='vscode-notebook-cell:/c%3A/Users/Admin/AI-Trading-Assistant/AI_Trading_Assistant_Model/test.ipynb#X13sZmlsZQ%3D%3D?line=0'>1</a>\u001b[0m transformer([train, test])\n",
      "\u001b[1;31mTypeError\u001b[0m: 'model' object is not callable"
     ]
    }
   ],
   "source": [
    "transformer([train, test])"
   ]
  },
  {
   "cell_type": "code",
   "execution_count": 32,
   "metadata": {},
   "outputs": [
    {
     "data": {
      "text/plain": [
       "(1183, 3, 50)"
      ]
     },
     "execution_count": 32,
     "metadata": {},
     "output_type": "execute_result"
    }
   ],
   "source": [
    "train.shape"
   ]
  },
  {
   "cell_type": "code",
   "execution_count": 21,
   "metadata": {},
   "outputs": [
    {
     "data": {
      "text/plain": [
       "(1183, 2, 3)"
      ]
     },
     "execution_count": 21,
     "metadata": {},
     "output_type": "execute_result"
    }
   ],
   "source": [
    "test.shape"
   ]
  },
  {
   "cell_type": "code",
   "execution_count": 10,
   "metadata": {},
   "outputs": [],
   "source": [
    "Pos = pos.PositionalTraceback(50, 10)"
   ]
  },
  {
   "cell_type": "code",
   "execution_count": 11,
   "metadata": {},
   "outputs": [],
   "source": [
    "out = Pos(train)"
   ]
  },
  {
   "cell_type": "code",
   "execution_count": 12,
   "metadata": {},
   "outputs": [
    {
     "data": {
      "text/plain": [
       "TensorShape([1183, 2, 50, 10])"
      ]
     },
     "execution_count": 12,
     "metadata": {},
     "output_type": "execute_result"
    }
   ],
   "source": [
    "out.shape"
   ]
  },
  {
   "cell_type": "code",
   "execution_count": null,
   "metadata": {},
   "outputs": [],
   "source": []
  }
 ],
 "metadata": {
  "kernelspec": {
   "display_name": "tf",
   "language": "python",
   "name": "python3"
  },
  "language_info": {
   "codemirror_mode": {
    "name": "ipython",
    "version": 3
   },
   "file_extension": ".py",
   "mimetype": "text/x-python",
   "name": "python",
   "nbconvert_exporter": "python",
   "pygments_lexer": "ipython3",
   "version": "3.10.13"
  }
 },
 "nbformat": 4,
 "nbformat_minor": 2
}
